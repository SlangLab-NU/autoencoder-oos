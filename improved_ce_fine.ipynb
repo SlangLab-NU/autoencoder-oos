{
 "cells": [
  {
   "cell_type": "markdown",
   "id": "1897c26a-1cb2-4ad1-94d3-8cf70b70ee51",
   "metadata": {},
   "source": [
    "# Load Data"
   ]
  },
  {
   "cell_type": "code",
   "execution_count": 1,
   "id": "a3450eef-470e-4540-9c6a-99af76a5e966",
   "metadata": {
    "ExecuteTime": {
     "end_time": "2023-12-01T07:35:38.711685042Z",
     "start_time": "2023-12-01T07:35:37.863602419Z"
    }
   },
   "outputs": [],
   "source": [
    "import json\n",
    "import torch\n",
    "from sklearn.preprocessing import LabelEncoder\n",
    "from transformers import AutoModel, AutoTokenizer\n",
    "from torch.utils.data import DataLoader, Dataset\n",
    "from torch import nn\n",
    "import numpy as np\n",
    "from scipy.linalg import inv\n",
    "from torch.optim import Adam"
   ]
  },
  {
   "cell_type": "code",
   "execution_count": 2,
   "id": "e46987c4-1aba-4b4f-a803-23052ca77f96",
   "metadata": {
    "ExecuteTime": {
     "end_time": "2023-12-01T07:35:38.793788912Z",
     "start_time": "2023-12-01T07:35:38.713047940Z"
    }
   },
   "outputs": [],
   "source": [
    "# Load the dataset\n",
    "with open(\"clinc150_uci/data_full.json\", \"r\") as file:\n",
    "    data = json.load(file)\n",
    "# Extracting data\n",
    "train_data = data['train']\n",
    "val_data = data['val']\n",
    "test_data = data['test']\n",
    "\n",
    "oos_train_data = data['oos_train']\n",
    "oos_val_data = data['oos_val']\n",
    "oos_test_data = data['oos_test']\n",
    "\n",
    "# Get sentences and labels\n",
    "train_sentences = [item[0] for item in train_data]\n",
    "train_labels = [item[1] for item in train_data]\n",
    "\n",
    "val_sentences = [item[0] for item in val_data]\n",
    "val_labels = [item[1] for item in val_data]\n",
    "\n",
    "test_sentences = [item[0] for item in test_data]\n",
    "test_labels = [item[1] for item in test_data]\n",
    "\n",
    "oos_train_sentences = [item[0] for item in oos_train_data]\n",
    "oos_val_sentences = [item[0] for item in oos_val_data]\n",
    "oos_test_sentences = [item[0] for item in oos_test_data]\n"
   ]
  },
  {
   "cell_type": "markdown",
   "id": "9b12dd80-1971-4215-8486-8de1d655d5ed",
   "metadata": {},
   "source": [
    "# Encode Labels"
   ]
  },
  {
   "cell_type": "code",
   "execution_count": 3,
   "id": "92f9dd99-07c9-4e5a-993b-e73dfd0be95b",
   "metadata": {
    "ExecuteTime": {
     "end_time": "2023-12-01T07:35:40.233615843Z",
     "start_time": "2023-12-01T07:35:40.230584681Z"
    }
   },
   "outputs": [],
   "source": [
    "label_encoder = LabelEncoder()\n",
    "# Fit the label encoder and transform labels to integers\n",
    "encoded_train_labels = label_encoder.fit_transform(train_labels)\n",
    "encoded_val_labels = label_encoder.fit_transform(val_labels)"
   ]
  },
  {
   "cell_type": "markdown",
   "id": "a38c1c26-f71a-4395-8ef9-01b52c930fdc",
   "metadata": {},
   "source": [
    "# Tokenize our sentences and create Dataloaders"
   ]
  },
  {
   "cell_type": "code",
   "execution_count": 4,
   "id": "2d3db18c-5804-4f09-9f6b-1f3131415fa9",
   "metadata": {
    "ExecuteTime": {
     "end_time": "2023-12-01T07:35:46.422582209Z",
     "start_time": "2023-12-01T07:35:45.352744012Z"
    }
   },
   "outputs": [],
   "source": [
    "pretrained_model_name = \"distilroberta-base\"\n",
    "tokenizer = AutoTokenizer.from_pretrained(pretrained_model_name)\n",
    "transformer_model = AutoModel.from_pretrained(pretrained_model_name)\n",
    "\n",
    "class TextDataset(Dataset):\n",
    "    def __init__(self, sentences, labels, tokenizer, max_length=40):\n",
    "        self.encodings = tokenizer(sentences, truncation=True, padding=True, max_length=max_length)\n",
    "        self.labels = labels\n",
    "\n",
    "    def __getitem__(self, idx):\n",
    "        item = {key: torch.tensor(val[idx]) for key, val in self.encodings.items()}\n",
    "        item['labels'] = torch.tensor(self.labels[idx])\n",
    "        return item\n",
    "\n",
    "    def __len__(self):\n",
    "        return len(self.labels)\n",
    "\n",
    "# 2. Create the dataset\n",
    "max_length = 37 \n",
    "train_dataset = TextDataset(train_sentences, encoded_train_labels, tokenizer, max_length)\n",
    "val_dataset = TextDataset(val_sentences, encoded_val_labels, tokenizer, max_length)"
   ]
  },
  {
   "cell_type": "markdown",
   "id": "2d137706-db61-4152-80e7-8068e75e381f",
   "metadata": {},
   "source": [
    "# Define functions to encode our sentences"
   ]
  },
  {
   "cell_type": "code",
   "execution_count": 5,
   "id": "2952162c-8da1-4cae-ae22-5eb06fa41ec9",
   "metadata": {
    "ExecuteTime": {
     "end_time": "2023-12-01T07:35:48.198035416Z",
     "start_time": "2023-12-01T07:35:48.032827586Z"
    }
   },
   "outputs": [
    {
     "name": "stderr",
     "output_type": "stream",
     "text": [
      "huggingface/tokenizers: The current process just got forked, after parallelism has already been used. Disabling parallelism to avoid deadlocks...\n",
      "To disable this warning, you can either:\n",
      "\t- Avoid using `tokenizers` before the fork if possible\n",
      "\t- Explicitly set the environment variable TOKENIZERS_PARALLELISM=(true | false)\n",
      "huggingface/tokenizers: The current process just got forked, after parallelism has already been used. Disabling parallelism to avoid deadlocks...\n",
      "To disable this warning, you can either:\n",
      "\t- Avoid using `tokenizers` before the fork if possible\n",
      "\t- Explicitly set the environment variable TOKENIZERS_PARALLELISM=(true | false)\n"
     ]
    }
   ],
   "source": [
    "transformer_model.eval()\n",
    "device = torch.device(\"cuda\" if torch.cuda.is_available() else \"cpu\")\n",
    "transformer_model = transformer_model.to(device)\n",
    "def encode_sentences(model, sentences):\n",
    "    sentence_embeddings = []\n",
    "\n",
    "    for sentence in sentences:\n",
    "        encoded_input = tokenizer(sentence, return_tensors='pt', truncation=True, padding=True, max_length=max_length)\n",
    "        encoded_input = {k: v.to(device) for k, v in encoded_input.items()}  # Move input to GPU if available\n",
    "        with torch.no_grad():\n",
    "            model_output = model(**encoded_input)\n",
    "\n",
    "        pooled_output = model_output.last_hidden_state.mean(dim=1)\n",
    "        sentence_embeddings.append(pooled_output.cpu().numpy())\n",
    "\n",
    "    sentence_embeddings_np = np.concatenate(sentence_embeddings, axis=0)\n",
    "    return sentence_embeddings_np"
   ]
  },
  {
   "cell_type": "markdown",
   "id": "f5de918d-3a50-4ea9-84d2-8d2d03a0fa4e",
   "metadata": {},
   "source": [
    "# Define our model"
   ]
  },
  {
   "cell_type": "code",
   "execution_count": 6,
   "id": "c586c9a1-9e7c-4fbe-9ff8-087d8bd5f6d4",
   "metadata": {
    "ExecuteTime": {
     "end_time": "2023-12-01T07:35:53.044996143Z",
     "start_time": "2023-12-01T07:35:52.648150754Z"
    }
   },
   "outputs": [],
   "source": [
    "transformer_model = AutoModel.from_pretrained(pretrained_model_name)\n",
    "import torch.nn as nn\n",
    "\n",
    "class TextClassifier(nn.Module):\n",
    "    def __init__(self, transformer_model):\n",
    "        super(TextClassifier, self).__init__()\n",
    "        self.transformer = transformer_model\n",
    "\n",
    "        # Encoder layers\n",
    "        self.encoder1 = nn.Linear(768, 512)\n",
    "        self.encoder2 = nn.Linear(512, 256)\n",
    "        self.encoder3 = nn.Linear(256, 150)\n",
    "\n",
    "\n",
    "    def forward(self, input_ids, attention_mask):\n",
    "        # Transformer model output\n",
    "        transformer_output = self.transformer(input_ids=input_ids, attention_mask=attention_mask)\n",
    "        original_embeddings = transformer_output.last_hidden_state.max(dim=1).values\n",
    "\n",
    "        x = nn.functional.relu(self.encoder1(original_embeddings))\n",
    "        x = nn.functional.relu(self.encoder2(x))\n",
    "        return self.encoder3(x)\n"
   ]
  },
  {
   "cell_type": "code",
   "execution_count": 16,
   "id": "122d1e5e-c984-48e2-8475-7842176d13d4",
   "metadata": {
    "ExecuteTime": {
     "end_time": "2023-12-01T07:35:12.487046238Z",
     "start_time": "2023-12-01T07:35:12.484817970Z"
    }
   },
   "outputs": [],
   "source": [
    "loss_function = nn.CrossEntropyLoss()"
   ]
  },
  {
   "cell_type": "markdown",
   "id": "98181737-c127-41a7-beb3-ab66172b9303",
   "metadata": {},
   "source": [
    "# Initiallize everything else we needed"
   ]
  },
  {
   "cell_type": "code",
   "execution_count": 12,
   "id": "c9836c07-b6b3-43e0-adf9-178ebcdcea68",
   "metadata": {
    "ExecuteTime": {
     "end_time": "2023-12-01T07:24:14.590788140Z",
     "start_time": "2023-12-01T07:24:14.047079467Z"
    }
   },
   "outputs": [],
   "source": [
    "pretrained_model_name = \"distilroberta-base\"\n",
    "unique_intents = list(set(train_labels)) \n",
    "transformer_model = AutoModel.from_pretrained(pretrained_model_name)\n",
    "transformer_model.to(device)\n",
    "model = TextClassifier(transformer_model)\n",
    "model.to(device)\n",
    "optimizer = Adam(model.parameters(), lr=2.2497695787641236e-05)\n",
    "training_losses = []\n",
    "validation_losses = []\n",
    "batch_size= 128\n",
    "train_dataloader = DataLoader(train_dataset, batch_size=batch_size, shuffle=True)\n",
    "val_dataloader = DataLoader(val_dataset, batch_size=batch_size)"
   ]
  },
  {
   "cell_type": "code",
   "execution_count": 13,
   "id": "ed9508c7-081f-469a-96d2-16461816e58c",
   "metadata": {
    "ExecuteTime": {
     "end_time": "2023-12-01T07:24:15.144335166Z",
     "start_time": "2023-12-01T07:24:15.138018007Z"
    }
   },
   "outputs": [],
   "source": [
    "num_epochs = 20"
   ]
  },
  {
   "cell_type": "markdown",
   "id": "c0c9a636-af8e-4d4c-abb2-fc1370da38a3",
   "metadata": {},
   "source": [
    "# Training Loop!!!"
   ]
  },
  {
   "cell_type": "code",
   "execution_count": 14,
   "id": "903bf045-515e-4c93-999f-136d077d391c",
   "metadata": {
    "ExecuteTime": {
     "end_time": "2023-12-01T07:26:13.996768274Z",
     "start_time": "2023-12-01T07:24:16.186062714Z"
    }
   },
   "outputs": [
    {
     "name": "stdout",
     "output_type": "stream",
     "text": [
      "Epoch 1/20: Lower validation loss found. Model saved.\n",
      "Epoch 1/20, Training Loss: 4.81803e+00, Validation Loss: 4.41858e+00\n",
      "Epoch 2/20: Lower validation loss found. Model saved.\n",
      "Epoch 2/20, Training Loss: 3.69116e+00, Validation Loss: 3.07107e+00\n",
      "Epoch 3/20: Lower validation loss found. Model saved.\n",
      "Epoch 3/20, Training Loss: 2.11458e+00, Validation Loss: 1.67388e+00\n",
      "Epoch 4/20: Lower validation loss found. Model saved.\n",
      "Epoch 4/20, Training Loss: 9.34606e-01, Validation Loss: 8.57833e-01\n",
      "Epoch 5/20: Lower validation loss found. Model saved.\n",
      "Epoch 5/20, Training Loss: 4.21451e-01, Validation Loss: 5.17435e-01\n",
      "Epoch 6/20: Lower validation loss found. Model saved.\n",
      "Epoch 6/20, Training Loss: 2.25819e-01, Validation Loss: 3.78237e-01\n",
      "Epoch 7/20: Lower validation loss found. Model saved.\n",
      "Epoch 7/20, Training Loss: 1.37259e-01, Validation Loss: 3.10837e-01\n",
      "Epoch 8/20: Lower validation loss found. Model saved.\n",
      "Epoch 8/20, Training Loss: 9.08971e-02, Validation Loss: 2.67305e-01\n",
      "Epoch 9/20: Lower validation loss found. Model saved.\n",
      "Epoch 9/20, Training Loss: 6.60375e-02, Validation Loss: 2.50836e-01\n",
      "Epoch 10/20: Lower validation loss found. Model saved.\n",
      "Epoch 10/20, Training Loss: 4.94755e-02, Validation Loss: 2.32998e-01\n",
      "Epoch 11/20: Lower validation loss found. Model saved.\n",
      "Epoch 11/20, Training Loss: 3.59043e-02, Validation Loss: 2.30892e-01\n",
      "Epoch 12/20: Lower validation loss found. Model saved.\n",
      "Epoch 12/20, Training Loss: 2.95853e-02, Validation Loss: 2.20213e-01\n",
      "Epoch 13/20, Training Loss: 2.31548e-02, Validation Loss: 2.24004e-01\n",
      "Epoch 14/20, Training Loss: 2.01555e-02, Validation Loss: 2.25993e-01\n",
      "Epoch 15/20: Lower validation loss found. Model saved.\n",
      "Epoch 15/20, Training Loss: 1.85594e-02, Validation Loss: 2.18680e-01\n",
      "Epoch 16/20, Training Loss: 1.90777e-02, Validation Loss: 2.23543e-01\n",
      "Epoch 17/20: Lower validation loss found. Model saved.\n",
      "Epoch 17/20, Training Loss: 1.56010e-02, Validation Loss: 2.16238e-01\n",
      "Epoch 18/20: Lower validation loss found. Model saved.\n",
      "Epoch 18/20, Training Loss: 1.15599e-02, Validation Loss: 2.10062e-01\n",
      "Epoch 19/20, Training Loss: 1.04715e-02, Validation Loss: 2.17482e-01\n",
      "Epoch 20/20, Training Loss: 9.03351e-03, Validation Loss: 2.12714e-01\n"
     ]
    }
   ],
   "source": [
    "best_val_loss = float('inf')\n",
    "for epoch in range(num_epochs):\n",
    "    # Training Phase\n",
    "    model.train()  # Set the model to training mode\n",
    "    total_train_loss = 0\n",
    "    for batch in train_dataloader:\n",
    "        input_ids, attention_mask, labels = batch['input_ids'].to(device), batch['attention_mask'].to(device), batch['labels'].to(device)\n",
    "        optimizer.zero_grad()  # Zero the gradients\n",
    "        prediction = model(input_ids, attention_mask)\n",
    "        loss = loss_function(prediction, labels)  # Compute loss\n",
    "        loss.backward()  # Backward pass\n",
    "        optimizer.step()  # Update weights\n",
    "\n",
    "        total_train_loss += loss.item()\n",
    "    \n",
    "    avg_train_loss = total_train_loss / len(train_dataloader)\n",
    "    training_losses.append(avg_train_loss) \n",
    "\n",
    "    # Validation Phase\n",
    "    model.eval()  # Set the model to evaluation mode\n",
    "    total_val_loss = 0\n",
    "    with torch.no_grad():  # Disable gradient calculations\n",
    "        for batch in val_dataloader:\n",
    "            input_ids, attention_mask, labels = batch['input_ids'].to(device), batch['attention_mask'].to(device), batch['labels'].to(device)\n",
    "            prediction = model(input_ids, attention_mask)\n",
    "            loss = loss_function(prediction, labels)  # Compute loss\n",
    "            total_val_loss += loss.item()\n",
    "    avg_val_loss = total_val_loss / len(val_dataloader)\n",
    "    if avg_val_loss < best_val_loss:\n",
    "        best_val_loss = avg_val_loss\n",
    "        # Save the model\n",
    "        torch.save(model, 'best_improved_ce_model.pth')\n",
    "        print(f\"Epoch {epoch+1}/{num_epochs}: Lower validation loss found. Model saved.\")\n",
    "    validation_losses.append(avg_val_loss)\n",
    "    print(f\"Epoch {epoch+1}/{num_epochs}, Training Loss: {avg_train_loss:.5e}, Validation Loss: {avg_val_loss:.5e}\")"
   ]
  },
  {
   "cell_type": "markdown",
   "id": "a7e32293-8028-4ebe-8a10-3fc012782ad1",
   "metadata": {},
   "source": [
    "# Calculate means and covariance matrix"
   ]
  },
  {
   "cell_type": "code",
   "execution_count": 7,
   "id": "eba64b40-f47d-4a2b-9fe6-3839dc18890e",
   "metadata": {
    "ExecuteTime": {
     "end_time": "2023-12-01T07:35:58.939735486Z",
     "start_time": "2023-12-01T07:35:58.836955620Z"
    }
   },
   "outputs": [],
   "source": [
    "fine_model = torch.load(\"best_improved_ce_model.pth\")\n",
    "fine_model.eval()  # Put the model in evaluation mode\n",
    "fine_model = fine_model.to(device)"
   ]
  },
  {
   "cell_type": "code",
   "execution_count": 8,
   "outputs": [],
   "source": [
    "def encode_sentences(model, sentences):\n",
    "    # the mode here is TextClassifier\n",
    "\n",
    "    encoded_inputs = tokenizer(sentences, padding=True, truncation=True, return_tensors='pt', max_length=50)\n",
    "    input_ids = encoded_inputs['input_ids'].to(device)\n",
    "    attention_mask = encoded_inputs['attention_mask'].to(device)\n",
    "    with torch.no_grad():\n",
    "        model.eval()  # Ensure the model is in evaluation mode\n",
    "        prediction = model(input_ids, attention_mask)\n",
    "    return prediction.cpu().numpy()"
   ],
   "metadata": {
    "collapsed": false,
    "ExecuteTime": {
     "end_time": "2023-12-01T07:35:59.192488904Z",
     "start_time": "2023-12-01T07:35:59.175402263Z"
    }
   },
   "id": "cab109d7d077e530"
  },
  {
   "cell_type": "code",
   "execution_count": 9,
   "id": "d313cc44-0e2c-4851-88c1-147dd23ac09e",
   "metadata": {
    "ExecuteTime": {
     "end_time": "2023-12-01T07:36:02.740024339Z",
     "start_time": "2023-12-01T07:35:59.619428293Z"
    }
   },
   "outputs": [],
   "source": [
    "train_embeddings = encode_sentences(fine_model, train_sentences)\n",
    "val_embeddings = encode_sentences(fine_model, val_sentences)\n",
    "test_embeddings = encode_sentences(fine_model, test_sentences)\n",
    "oos_train_embeddings = encode_sentences(fine_model, oos_train_sentences)\n",
    "oos_val_embeddings = encode_sentences(fine_model, oos_val_sentences)\n",
    "oos_test_embeddings = encode_sentences(fine_model, oos_test_sentences)"
   ]
  },
  {
   "cell_type": "code",
   "execution_count": 10,
   "id": "ec7c0396-bdbf-47e5-8071-63001dea2d3f",
   "metadata": {
    "ExecuteTime": {
     "end_time": "2023-12-01T07:36:03.570469572Z",
     "start_time": "2023-12-01T07:36:03.560815569Z"
    }
   },
   "outputs": [],
   "source": [
    "intent_means = {}\n",
    "for encoded_label in np.unique(encoded_train_labels):\n",
    "    # Find indices where the encoded label matches\n",
    "    indices = np.where(encoded_train_labels == encoded_label)[0]\n",
    "    \n",
    "    # Calculate the mean embedding for the current intent\n",
    "    intent_embeddings = train_embeddings[indices]\n",
    "    intent_mean = np.mean(intent_embeddings, axis=0)\n",
    "    \n",
    "    # Use the encoded label as the dictionary key\n",
    "    intent_means[encoded_label] = intent_mean"
   ]
  },
  {
   "cell_type": "code",
   "execution_count": 11,
   "id": "cf9f9fe7-4b7f-41d7-a81d-f1cf570254eb",
   "metadata": {
    "ExecuteTime": {
     "end_time": "2023-12-01T07:36:04.510438585Z",
     "start_time": "2023-12-01T07:36:04.405403095Z"
    }
   },
   "outputs": [],
   "source": [
    "covariance = np.cov(train_embeddings, rowvar=False)\n",
    "cov_inverse = inv(covariance)"
   ]
  },
  {
   "cell_type": "code",
   "execution_count": 12,
   "id": "f3f854ee-b40a-452a-82b6-687e6629a9f1",
   "metadata": {
    "ExecuteTime": {
     "end_time": "2023-12-01T07:36:05.024638838Z",
     "start_time": "2023-12-01T07:36:04.998655806Z"
    }
   },
   "outputs": [],
   "source": [
    "from sklearn.metrics import roc_auc_score, average_precision_score, roc_curve\n",
    "from scipy.spatial import distance\n",
    "from sklearn.metrics import average_precision_score"
   ]
  },
  {
   "cell_type": "code",
   "execution_count": 13,
   "id": "27ba7dac-3784-4b15-b1d0-b171099d3b1f",
   "metadata": {
    "ExecuteTime": {
     "end_time": "2023-12-01T07:36:05.468566240Z",
     "start_time": "2023-12-01T07:36:05.464219015Z"
    }
   },
   "outputs": [],
   "source": [
    "def min_mahalanobis_for_sample(sample, intent_means, cov_inverse):\n",
    "    distances = [distance.mahalanobis(sample, mean, cov_inverse) for mean in intent_means.values()]\n",
    "    return min(distances)"
   ]
  },
  {
   "cell_type": "code",
   "execution_count": 14,
   "id": "425b8398-4a6f-44bd-99a3-1d929584d5e0",
   "metadata": {
    "ExecuteTime": {
     "end_time": "2023-12-01T07:36:12.057600837Z",
     "start_time": "2023-12-01T07:36:06.089180002Z"
    }
   },
   "outputs": [
    {
     "data": {
      "text/plain": "0.7752552305732566"
     },
     "execution_count": 14,
     "metadata": {},
     "output_type": "execute_result"
    }
   ],
   "source": [
    "# Compute minimum Mahalanobis distances for samples in test_embeddings and oos_test_embeddings\n",
    "test_scores = [min_mahalanobis_for_sample(sample, intent_means, cov_inverse) for sample in test_embeddings]\n",
    "oos_test_scores = [min_mahalanobis_for_sample(sample, intent_means, cov_inverse) for sample in oos_test_embeddings]\n",
    "\n",
    "# True binary labels: 0 for in-domain and 1 for OOD\n",
    "y_true = [0] * len(test_scores) + [1] * len(oos_test_scores)\n",
    "\n",
    "# Combine the scores\n",
    "y_scores = test_scores + oos_test_scores\n",
    "\n",
    "# Compute AUPR\n",
    "aupr = average_precision_score(y_true, y_scores)\n",
    "aupr\n"
   ]
  },
  {
   "cell_type": "code",
   "execution_count": 15,
   "id": "0b5bf5ab-e718-4a7a-a710-5512372b069f",
   "metadata": {
    "ExecuteTime": {
     "end_time": "2023-12-01T07:36:13.430713050Z",
     "start_time": "2023-12-01T07:36:13.110949109Z"
    }
   },
   "outputs": [
    {
     "data": {
      "text/plain": "<Figure size 1000x600 with 1 Axes>",
      "image/png": "[encoded data removed]"
     },
     "metadata": {},
     "output_type": "display_data"
    }
   ],
   "source": [
    "import matplotlib.pyplot as plt\n",
    "\n",
    "# Set up the figure and axes\n",
    "plt.figure(figsize=(10, 6))\n",
    "\n",
    "# Plot the histograms\n",
    "plt.hist(test_scores, bins=50, alpha=0.5, label='In-domain')\n",
    "plt.hist(oos_test_scores, bins=50, alpha=0.5, label='Out-of-domain')\n",
    "\n",
    "# Add legend, title, and labels\n",
    "plt.legend(loc='upper right')\n",
    "plt.title('Distribution of Minimum Mahalanobis Distances')\n",
    "plt.xlabel('Mahalanobis Distance')\n",
    "plt.ylabel('Number of Samples')\n",
    "plt.grid(True, which='both', linestyle='--', linewidth=0.5)\n",
    "plt.tight_layout()\n",
    "\n",
    "# Show the plot\n",
    "plt.show()\n"
   ]
  },
  {
   "cell_type": "code",
   "execution_count": null,
   "id": "07795d99-5725-4fed-a1d0-b1bb9dc6af54",
   "metadata": {},
   "outputs": [],
   "source": []
  }
 ],
 "metadata": {
  "kernelspec": {
   "display_name": "Python 3 (ipykernel)",
   "language": "python",
   "name": "python3"
  },
  "language_info": {
   "codemirror_mode": {
    "name": "ipython",
    "version": 3
   },
   "file_extension": ".py",
   "mimetype": "text/x-python",
   "name": "python",
   "nbconvert_exporter": "python",
   "pygments_lexer": "ipython3",
   "version": "3.11.6"
  }
 },
 "nbformat": 4,
 "nbformat_minor": 5
}
