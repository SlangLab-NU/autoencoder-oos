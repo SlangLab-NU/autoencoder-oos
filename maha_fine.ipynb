{
 "cells": [
  {
   "cell_type": "markdown",
   "id": "1897c26a-1cb2-4ad1-94d3-8cf70b70ee51",
   "metadata": {},
   "source": [
    "# Load Data"
   ]
  },
  {
   "cell_type": "code",
   "execution_count": 2,
   "id": "a3450eef-470e-4540-9c6a-99af76a5e966",
   "metadata": {},
   "outputs": [],
   "source": [
    "import json\n",
    "import torch\n",
    "from sklearn.preprocessing import LabelEncoder\n",
    "from transformers import AutoModel, AutoTokenizer\n",
    "from torch.utils.data import DataLoader, Dataset\n",
    "from torch import nn\n",
    "import numpy as np\n",
    "from scipy.linalg import inv\n",
    "from torch.optim import Adam"
   ]
  },
  {
   "cell_type": "code",
   "execution_count": 3,
   "id": "e46987c4-1aba-4b4f-a803-23052ca77f96",
   "metadata": {},
   "outputs": [],
   "source": [
    "# Load the dataset\n",
    "with open(\"clinc150_uci/data_full.json\", \"r\") as file:\n",
    "    data = json.load(file)\n",
    "# Extracting data\n",
    "train_data = data['train']\n",
    "val_data = data['val']\n",
    "test_data = data['test']\n",
    "\n",
    "oos_train_data = data['oos_train']\n",
    "oos_val_data = data['oos_val']\n",
    "oos_test_data = data['oos_test']\n",
    "\n",
    "# Get sentences and labels\n",
    "train_sentences = [item[0] for item in train_data]\n",
    "train_labels = [item[1] for item in train_data]\n",
    "\n",
    "val_sentences = [item[0] for item in val_data]\n",
    "val_labels = [item[1] for item in val_data]\n",
    "\n",
    "test_sentences = [item[0] for item in test_data]\n",
    "test_labels = [item[1] for item in test_data]\n",
    "\n",
    "oos_train_sentences = [item[0] for item in oos_train_data]\n",
    "oos_val_sentences = [item[0] for item in oos_val_data]\n",
    "oos_test_sentences = [item[0] for item in oos_test_data]\n"
   ]
  },
  {
   "cell_type": "markdown",
   "id": "9b12dd80-1971-4215-8486-8de1d655d5ed",
   "metadata": {},
   "source": [
    "# Encode Labels"
   ]
  },
  {
   "cell_type": "code",
   "execution_count": 4,
   "id": "92f9dd99-07c9-4e5a-993b-e73dfd0be95b",
   "metadata": {},
   "outputs": [],
   "source": [
    "label_encoder = LabelEncoder()\n",
    "# Fit the label encoder and transform labels to integers\n",
    "encoded_train_labels = label_encoder.fit_transform(train_labels)\n",
    "encoded_val_labels = label_encoder.fit_transform(val_labels)"
   ]
  },
  {
   "cell_type": "markdown",
   "id": "a38c1c26-f71a-4395-8ef9-01b52c930fdc",
   "metadata": {},
   "source": [
    "# Tokenize our sentences and create Dataloaders"
   ]
  },
  {
   "cell_type": "code",
   "execution_count": 5,
   "id": "2d3db18c-5804-4f09-9f6b-1f3131415fa9",
   "metadata": {},
   "outputs": [],
   "source": [
    "pretrained_model_name = \"distilroberta-base\"\n",
    "tokenizer = AutoTokenizer.from_pretrained(pretrained_model_name)\n",
    "transformer_model = AutoModel.from_pretrained(pretrained_model_name)\n",
    "\n",
    "class TextDataset(Dataset):\n",
    "    def __init__(self, sentences, labels, tokenizer, max_length=512):\n",
    "        self.encodings = tokenizer(sentences, truncation=True, padding=True, max_length=max_length)\n",
    "        self.labels = labels\n",
    "\n",
    "    def __getitem__(self, idx):\n",
    "        item = {key: torch.tensor(val[idx]) for key, val in self.encodings.items()}\n",
    "        item['labels'] = torch.tensor(self.labels[idx])\n",
    "        return item\n",
    "\n",
    "    def __len__(self):\n",
    "        return len(self.labels)\n",
    "\n",
    "# 2. Create the dataset\n",
    "max_length = 37 \n",
    "train_dataset = TextDataset(train_sentences, encoded_train_labels, tokenizer, max_length)\n",
    "val_dataset = TextDataset(val_sentences, encoded_val_labels, tokenizer, max_length)"
   ]
  },
  {
   "cell_type": "markdown",
   "id": "2d137706-db61-4152-80e7-8068e75e381f",
   "metadata": {},
   "source": [
    "# Define functions to encode our sentences"
   ]
  },
  {
   "cell_type": "code",
   "execution_count": 6,
   "id": "2952162c-8da1-4cae-ae22-5eb06fa41ec9",
   "metadata": {},
   "outputs": [
    {
     "name": "stderr",
     "output_type": "stream",
     "text": [
      "huggingface/tokenizers: The current process just got forked, after parallelism has already been used. Disabling parallelism to avoid deadlocks...\n",
      "To disable this warning, you can either:\n",
      "\t- Avoid using `tokenizers` before the fork if possible\n",
      "\t- Explicitly set the environment variable TOKENIZERS_PARALLELISM=(true | false)\n",
      "huggingface/tokenizers: The current process just got forked, after parallelism has already been used. Disabling parallelism to avoid deadlocks...\n",
      "To disable this warning, you can either:\n",
      "\t- Avoid using `tokenizers` before the fork if possible\n",
      "\t- Explicitly set the environment variable TOKENIZERS_PARALLELISM=(true | false)\n",
      "huggingface/tokenizers: The current process just got forked, after parallelism has already been used. Disabling parallelism to avoid deadlocks...\n",
      "To disable this warning, you can either:\n",
      "\t- Avoid using `tokenizers` before the fork if possible\n",
      "\t- Explicitly set the environment variable TOKENIZERS_PARALLELISM=(true | false)\n"
     ]
    }
   ],
   "source": [
    "transformer_model.eval()\n",
    "device = torch.device(\"cuda\" if torch.cuda.is_available() else \"cpu\")\n",
    "transformer_model = transformer_model.to(device)\n",
    "def encode_sentences(model, sentences):\n",
    "    sentence_embeddings = []\n",
    "\n",
    "    for sentence in sentences:\n",
    "        encoded_input = tokenizer(sentence, return_tensors='pt', truncation=True, padding=True, max_length=512)\n",
    "        encoded_input = {k: v.to(device) for k, v in encoded_input.items()}  # Move input to GPU if available\n",
    "\n",
    "        with torch.no_grad():\n",
    "            model_output = transformer_model(**encoded_input)\n",
    "\n",
    "        pooled_output = model_output.last_hidden_state.mean(dim=1)\n",
    "        sentence_embeddings.append(pooled_output.cpu().numpy())\n",
    "\n",
    "    sentence_embeddings_np = np.concatenate(sentence_embeddings, axis=0)\n",
    "    return sentence_embeddings_np"
   ]
  },
  {
   "cell_type": "code",
   "execution_count": 7,
   "id": "97479788-c270-44cd-813f-8724c575bb12",
   "metadata": {},
   "outputs": [],
   "source": [
    "train_embeddings = encode_sentences(transformer_model, train_sentences)\n",
    "val_embeddings = encode_sentences(transformer_model, val_sentences)\n",
    "test_embeddings = encode_sentences(transformer_model, test_sentences)\n",
    "oos_train_embeddings = encode_sentences(transformer_model, oos_train_sentences)\n",
    "oos_val_embeddings = encode_sentences(transformer_model, oos_val_sentences)\n",
    "oos_test_embeddings = encode_sentences(transformer_model, oos_test_sentences)"
   ]
  },
  {
   "cell_type": "markdown",
   "id": "3ad35adb-db03-4480-a3ab-035bf6d66ae6",
   "metadata": {},
   "source": [
    "# Calculate means and covariance matrix"
   ]
  },
  {
   "cell_type": "code",
   "execution_count": 25,
   "id": "35dafbf6-64d8-46a9-968e-7ad3190d8311",
   "metadata": {},
   "outputs": [],
   "source": [
    "unique_intents = list(set(train_labels)) \n",
    "intent_means = {}\n",
    "for encoded_label in np.unique(encoded_train_labels):\n",
    "    # Find indices where the encoded label matches\n",
    "    indices = np.where(encoded_train_labels == encoded_label)[0]\n",
    "    \n",
    "    # Calculate the mean embedding for the current intent\n",
    "    intent_embeddings = train_embeddings[indices]\n",
    "    intent_mean = np.mean(intent_embeddings, axis=0)\n",
    "    \n",
    "    # Use the encoded label as the dictionary key\n",
    "    intent_means[encoded_label] = intent_mean"
   ]
  },
  {
   "cell_type": "code",
   "execution_count": 27,
   "id": "2192b23f-cf57-4b17-b350-a31ff85b102e",
   "metadata": {},
   "outputs": [],
   "source": [
    "covariance = np.cov(train_embeddings, rowvar=False)\n",
    "cov_inverse = inv(covariance)"
   ]
  },
  {
   "cell_type": "markdown",
   "id": "f5de918d-3a50-4ea9-84d2-8d2d03a0fa4e",
   "metadata": {},
   "source": [
    "# Define our model"
   ]
  },
  {
   "cell_type": "code",
   "execution_count": 13,
   "id": "c586c9a1-9e7c-4fbe-9ff8-087d8bd5f6d4",
   "metadata": {},
   "outputs": [],
   "source": [
    "transformer_model = AutoModel.from_pretrained(pretrained_model_name)\n",
    "class TextClassifier(nn.Module):\n",
    "    def __init__(self, transformer_model, num_labels):\n",
    "        super(TextClassifier, self).__init__()\n",
    "        self.transformer = transformer_model    \n",
    "    def forward(self, input_ids, attention_mask):\n",
    "        # Get the output from the transformer model\n",
    "        transformer_output = self.transformer(input_ids=input_ids, attention_mask=attention_mask)\n",
    "        # Pool the outputs into a single sentence vector\n",
    "        # You can use `transformer_output.last_hidden_state.mean(dim=1)` for mean pooling\n",
    "        # or `transformer_output.last_hidden_state.max(dim=1).values` for max pooling\n",
    "        sentence_embedding = transformer_output.last_hidden_state.max(dim=1).values\n",
    "        # Forward pass through the classifier layer\n",
    "        return sentence_embedding"
   ]
  },
  {
   "cell_type": "markdown",
   "id": "f1940dba-2be2-43ec-94bc-7680692d2b43",
   "metadata": {},
   "source": [
    "# Define Mahalanobis Loss"
   ]
  },
  {
   "cell_type": "code",
   "execution_count": 18,
   "id": "7079e12e-00fe-4fb7-82e2-bfb18be75400",
   "metadata": {},
   "outputs": [],
   "source": [
    "class MahalanobisDistanceLoss(nn.Module):\n",
    "    def __init__(self):\n",
    "        super(MahalanobisDistanceLoss, self).__init__()\n",
    "        self.device = device\n",
    "\n",
    "    def forward(self, predictions, labels, centroids, cov_inverse):\n",
    "        predictions = predictions.to(self.device)\n",
    "        loss = 0\n",
    "\n",
    "        for i in range(predictions.shape[0]):\n",
    "            label = labels[i].item()\n",
    "            centroid = centroids[label].to(self.device)\n",
    "            cov_inverse = cov_inverse.to(self.device)\n",
    "            diff = predictions[i] - centroid\n",
    "            distance = torch.matmul(torch.matmul(diff, cov_inverse), diff.t())\n",
    "            loss += distance.squeeze()  # Squeeze to remove extra dimensions\n",
    "\n",
    "        return loss / predictions.shape[0]\n"
   ]
  },
  {
   "cell_type": "code",
   "execution_count": 31,
   "id": "122d1e5e-c984-48e2-8475-7842176d13d4",
   "metadata": {},
   "outputs": [],
   "source": [
    "loss_function = MahalanobisDistanceLoss()\n",
    "centroids_tensor = {k: torch.tensor(v, dtype=torch.float32) for k, v in intent_means.items()}\n",
    "cov_inverse_tensor = torch.tensor(cov_inverse, dtype=torch.float32)"
   ]
  },
  {
   "cell_type": "markdown",
   "id": "98181737-c127-41a7-beb3-ab66172b9303",
   "metadata": {},
   "source": [
    "# Initiallize everything else we needed"
   ]
  },
  {
   "cell_type": "code",
   "execution_count": 50,
   "id": "c9836c07-b6b3-43e0-adf9-178ebcdcea68",
   "metadata": {},
   "outputs": [],
   "source": [
    "pretrained_model_name = \"distilroberta-base\"\n",
    "transformer_model = AutoModel.from_pretrained(pretrained_model_name)\n",
    "transformer_model.to(device)\n",
    "model = TextClassifier(transformer_model, len(unique_intents))\n",
    "optimizer = Adam(model.parameters(), lr=1e-3)\n",
    "training_losses = []\n",
    "validation_losses = []\n",
    "batch_size= 32\n",
    "train_dataloader = DataLoader(train_dataset, batch_size=batch_size, shuffle=True)\n",
    "val_dataloader = DataLoader(val_dataset, batch_size=batch_size)"
   ]
  },
  {
   "cell_type": "code",
   "execution_count": 52,
   "id": "ed9508c7-081f-469a-96d2-16461816e58c",
   "metadata": {},
   "outputs": [],
   "source": [
    "num_epochs = 100"
   ]
  },
  {
   "cell_type": "markdown",
   "id": "c0c9a636-af8e-4d4c-abb2-fc1370da38a3",
   "metadata": {},
   "source": [
    "# Training Loop!!!"
   ]
  },
  {
   "cell_type": "code",
   "execution_count": null,
   "id": "903bf045-515e-4c93-999f-136d077d391c",
   "metadata": {},
   "outputs": [
    {
     "name": "stdout",
     "output_type": "stream",
     "text": [
      "Epoch 1/100: Lower validation loss found. Model saved.\n",
      "Epoch 1/100, Training Loss: 3.74124e+14, Validation Loss: 1.04669e+15\n",
      "Epoch 2/100: Lower validation loss found. Model saved.\n",
      "Epoch 2/100, Training Loss: 1.39605e+13, Validation Loss: 8.05334e+14\n",
      "Epoch 3/100, Training Loss: 8.51188e+12, Validation Loss: 1.38613e+15\n",
      "Epoch 4/100, Training Loss: 9.52931e+12, Validation Loss: 1.14322e+15\n",
      "Epoch 5/100, Training Loss: 7.90089e+11, Validation Loss: 9.78171e+14\n",
      "Epoch 6/100: Lower validation loss found. Model saved.\n",
      "Epoch 6/100, Training Loss: 4.02816e+11, Validation Loss: 7.48193e+14\n",
      "Epoch 7/100: Lower validation loss found. Model saved.\n",
      "Epoch 7/100, Training Loss: 3.20926e+11, Validation Loss: 6.10950e+14\n",
      "Epoch 8/100, Training Loss: 8.71973e+13, Validation Loss: 2.02776e+16\n",
      "Epoch 9/100, Training Loss: 5.00436e+12, Validation Loss: 1.95754e+16\n",
      "Epoch 10/100, Training Loss: 4.60651e+12, Validation Loss: 1.86002e+16\n",
      "Epoch 11/100, Training Loss: 4.01105e+12, Validation Loss: 1.73955e+16\n",
      "Epoch 12/100, Training Loss: 3.42697e+12, Validation Loss: 1.64035e+16\n",
      "Epoch 13/100, Training Loss: 3.21910e+12, Validation Loss: 1.52163e+16\n",
      "Epoch 14/100, Training Loss: 2.94989e+12, Validation Loss: 1.39142e+16\n",
      "Epoch 15/100, Training Loss: 2.68814e+12, Validation Loss: 1.24677e+16\n",
      "Epoch 16/100, Training Loss: 2.43375e+12, Validation Loss: 1.12488e+16\n",
      "Epoch 17/100, Training Loss: 2.04322e+12, Validation Loss: 9.76516e+15\n",
      "Epoch 18/100, Training Loss: 1.91705e+12, Validation Loss: 8.31326e+15\n",
      "Epoch 19/100, Training Loss: 1.51024e+12, Validation Loss: 6.76076e+15\n",
      "Epoch 20/100, Training Loss: 9.75324e+11, Validation Loss: 4.74783e+15\n",
      "Epoch 21/100, Training Loss: 4.66002e+11, Validation Loss: 3.68192e+15\n",
      "Epoch 22/100, Training Loss: 3.74335e+11, Validation Loss: 3.12107e+15\n",
      "Epoch 23/100, Training Loss: 3.61071e+11, Validation Loss: 2.64870e+15\n",
      "Epoch 24/100, Training Loss: 3.16770e+11, Validation Loss: 2.28512e+15\n",
      "Epoch 25/100, Training Loss: 2.73055e+11, Validation Loss: 1.99144e+15\n",
      "Epoch 26/100, Training Loss: 2.62508e+11, Validation Loss: 1.75839e+15\n",
      "Epoch 27/100, Training Loss: 2.41559e+11, Validation Loss: 1.55117e+15\n",
      "Epoch 28/100, Training Loss: 2.16973e+11, Validation Loss: 1.38446e+15\n",
      "Epoch 29/100, Training Loss: 2.02125e+11, Validation Loss: 1.23730e+15\n",
      "Epoch 30/100, Training Loss: 1.88942e+11, Validation Loss: 1.13151e+15\n",
      "Epoch 31/100, Training Loss: 2.17421e+11, Validation Loss: 1.03153e+15\n",
      "Epoch 32/100, Training Loss: 1.93069e+11, Validation Loss: 9.50912e+14\n",
      "Epoch 33/100, Training Loss: 2.01242e+11, Validation Loss: 8.75971e+14\n",
      "Epoch 34/100, Training Loss: 1.69492e+11, Validation Loss: 8.21523e+14\n",
      "Epoch 35/100, Training Loss: 1.82794e+11, Validation Loss: 7.83659e+14\n",
      "Epoch 36/100, Training Loss: 1.47667e+11, Validation Loss: 7.31539e+14\n",
      "Epoch 37/100, Training Loss: 1.93401e+11, Validation Loss: 7.09605e+14\n",
      "Epoch 38/100, Training Loss: 1.48092e+11, Validation Loss: 6.77020e+14\n",
      "Epoch 39/100, Training Loss: 1.70114e+11, Validation Loss: 6.58343e+14\n",
      "Epoch 40/100, Training Loss: 1.36196e+11, Validation Loss: 6.47397e+14\n",
      "Epoch 41/100, Training Loss: 1.71075e+11, Validation Loss: 6.24221e+14\n",
      "Epoch 42/100: Lower validation loss found. Model saved.\n",
      "Epoch 42/100, Training Loss: 1.33175e+11, Validation Loss: 6.08334e+14\n",
      "Epoch 43/100: Lower validation loss found. Model saved.\n",
      "Epoch 43/100, Training Loss: 1.60645e+11, Validation Loss: 5.83033e+14\n",
      "Epoch 44/100: Lower validation loss found. Model saved.\n",
      "Epoch 44/100, Training Loss: 1.37853e+11, Validation Loss: 5.64705e+14\n",
      "Epoch 45/100: Lower validation loss found. Model saved.\n",
      "Epoch 45/100, Training Loss: 1.36320e+11, Validation Loss: 5.58726e+14\n",
      "Epoch 46/100: Lower validation loss found. Model saved.\n",
      "Epoch 46/100, Training Loss: 1.32345e+11, Validation Loss: 5.47860e+14\n",
      "Epoch 47/100: Lower validation loss found. Model saved.\n",
      "Epoch 47/100, Training Loss: 1.30596e+11, Validation Loss: 5.36505e+14\n",
      "Epoch 48/100: Lower validation loss found. Model saved.\n",
      "Epoch 48/100, Training Loss: 1.49577e+11, Validation Loss: 5.15117e+14\n",
      "Epoch 49/100: Lower validation loss found. Model saved.\n",
      "Epoch 49/100, Training Loss: 1.28843e+11, Validation Loss: 5.10405e+14\n",
      "Epoch 50/100, Training Loss: 1.20605e+11, Validation Loss: 5.10957e+14\n",
      "Epoch 51/100: Lower validation loss found. Model saved.\n",
      "Epoch 51/100, Training Loss: 1.41757e+11, Validation Loss: 4.96585e+14\n",
      "Epoch 52/100: Lower validation loss found. Model saved.\n",
      "Epoch 52/100, Training Loss: 1.18848e+11, Validation Loss: 4.87614e+14\n",
      "Epoch 53/100: Lower validation loss found. Model saved.\n",
      "Epoch 53/100, Training Loss: 1.14883e+11, Validation Loss: 4.79005e+14\n",
      "Epoch 54/100: Lower validation loss found. Model saved.\n",
      "Epoch 54/100, Training Loss: 1.10885e+11, Validation Loss: 4.73231e+14\n",
      "Epoch 55/100: Lower validation loss found. Model saved.\n",
      "Epoch 55/100, Training Loss: 1.25390e+11, Validation Loss: 4.64123e+14\n",
      "Epoch 56/100: Lower validation loss found. Model saved.\n",
      "Epoch 56/100, Training Loss: 1.19565e+11, Validation Loss: 4.52034e+14\n",
      "Epoch 57/100: Lower validation loss found. Model saved.\n",
      "Epoch 57/100, Training Loss: 1.09062e+11, Validation Loss: 4.45341e+14\n",
      "Epoch 58/100: Lower validation loss found. Model saved.\n",
      "Epoch 58/100, Training Loss: 1.18882e+11, Validation Loss: 4.40262e+14\n",
      "Epoch 59/100: Lower validation loss found. Model saved.\n",
      "Epoch 59/100, Training Loss: 9.70311e+10, Validation Loss: 4.33178e+14\n",
      "Epoch 60/100: Lower validation loss found. Model saved.\n",
      "Epoch 60/100, Training Loss: 1.05740e+11, Validation Loss: 4.22150e+14\n",
      "Epoch 61/100: Lower validation loss found. Model saved.\n",
      "Epoch 61/100, Training Loss: 1.16371e+11, Validation Loss: 4.19986e+14\n",
      "Epoch 62/100: Lower validation loss found. Model saved.\n",
      "Epoch 62/100, Training Loss: 9.02931e+10, Validation Loss: 4.08363e+14\n",
      "Epoch 63/100, Training Loss: 1.04989e+11, Validation Loss: 4.14558e+14\n",
      "Epoch 64/100: Lower validation loss found. Model saved.\n",
      "Epoch 64/100, Training Loss: 1.02490e+11, Validation Loss: 3.91768e+14\n",
      "Epoch 65/100: Lower validation loss found. Model saved.\n",
      "Epoch 65/100, Training Loss: 1.04661e+11, Validation Loss: 3.89493e+14\n",
      "Epoch 66/100, Training Loss: 1.05759e+11, Validation Loss: 3.99903e+14\n",
      "Epoch 67/100, Training Loss: 1.19567e+11, Validation Loss: 3.95419e+14\n",
      "Epoch 68/100: Lower validation loss found. Model saved.\n",
      "Epoch 68/100, Training Loss: 9.57151e+10, Validation Loss: 3.78223e+14\n",
      "Epoch 69/100: Lower validation loss found. Model saved.\n",
      "Epoch 69/100, Training Loss: 9.43452e+10, Validation Loss: 3.69432e+14\n",
      "Epoch 70/100: Lower validation loss found. Model saved.\n",
      "Epoch 70/100, Training Loss: 8.62497e+10, Validation Loss: 3.53508e+14\n",
      "Epoch 71/100: Lower validation loss found. Model saved.\n",
      "Epoch 71/100, Training Loss: 9.00758e+10, Validation Loss: 3.46071e+14\n",
      "Epoch 72/100: Lower validation loss found. Model saved.\n",
      "Epoch 72/100, Training Loss: 7.34075e+10, Validation Loss: 3.45434e+14\n",
      "Epoch 73/100: Lower validation loss found. Model saved.\n",
      "Epoch 73/100, Training Loss: 1.01807e+11, Validation Loss: 3.39298e+14\n",
      "Epoch 74/100, Training Loss: 7.82222e+10, Validation Loss: 3.39654e+14\n",
      "Epoch 75/100: Lower validation loss found. Model saved.\n",
      "Epoch 75/100, Training Loss: 7.88351e+10, Validation Loss: 3.39101e+14\n",
      "Epoch 76/100: Lower validation loss found. Model saved.\n",
      "Epoch 76/100, Training Loss: 7.23321e+10, Validation Loss: 3.34517e+14\n",
      "Epoch 77/100: Lower validation loss found. Model saved.\n",
      "Epoch 77/100, Training Loss: 8.38618e+10, Validation Loss: 3.26931e+14\n",
      "Epoch 78/100: Lower validation loss found. Model saved.\n",
      "Epoch 78/100, Training Loss: 7.12924e+10, Validation Loss: 3.20324e+14\n",
      "Epoch 79/100: Lower validation loss found. Model saved.\n",
      "Epoch 79/100, Training Loss: 8.62687e+10, Validation Loss: 3.19523e+14\n"
     ]
    }
   ],
   "source": [
    "best_val_loss = float('inf')\n",
    "for epoch in range(num_epochs):\n",
    "    # Training Phase\n",
    "    model.train()  # Set the model to training mode\n",
    "    total_train_loss = 0\n",
    "    for batch in train_dataloader:\n",
    "        input_ids, attention_mask, labels = batch['input_ids'].to(device), batch['attention_mask'].to(device), batch['labels'].to(device)\n",
    "\n",
    "        optimizer.zero_grad()  # Zero the gradients\n",
    "        predictions = model(input_ids, attention_mask)  # Forward pass\n",
    "        loss = loss_function(predictions, labels, centroids_tensor, cov_inverse_tensor)  # Compute loss\n",
    "        loss.backward()  # Backward pass\n",
    "        optimizer.step()  # Update weights\n",
    "\n",
    "        total_train_loss += loss.item()\n",
    "    \n",
    "    avg_train_loss = total_train_loss / len(train_dataloader)\n",
    "    training_losses.append(avg_train_loss) \n",
    "\n",
    "    # Validation Phase\n",
    "    model.eval()  # Set the model to evaluation mode\n",
    "    total_val_loss = 0\n",
    "    with torch.no_grad():  # Disable gradient calculations\n",
    "        for batch in val_dataloader:\n",
    "            input_ids, attention_mask, labels = batch['input_ids'].to(device), batch['attention_mask'].to(device), batch['labels'].to(device)\n",
    "            predictions = model(input_ids, attention_mask)  # Forward pass\n",
    "            loss = loss_function(predictions, labels, centroids_tensor, cov_inverse_tensor)  # Compute loss\n",
    "            total_val_loss += loss.item()\n",
    "    avg_val_loss = total_val_loss / len(val_dataloader)\n",
    "    if avg_val_loss < best_val_loss:\n",
    "        best_val_loss = avg_val_loss\n",
    "        # Save the model\n",
    "        torch.save(model, 'best_maha_model.pth')\n",
    "        print(f\"Epoch {epoch+1}/{num_epochs}: Lower validation loss found. Model saved.\")\n",
    "    validation_losses.append(avg_val_loss)\n",
    "    print(f\"Epoch {epoch+1}/{num_epochs}, Training Loss: {avg_train_loss:.5e}, Validation Loss: {avg_val_loss:.5e}\")\n",
    "    #recalculate centroid and cov\n",
    "    recalc_training_embeddings = encode_sentences(model, train_sentences)\n",
    "    intent_means = {}\n",
    "    for encoded_label in np.unique(encoded_train_labels):\n",
    "        # Find indices where the encoded label matches\n",
    "        indices = np.where(encoded_train_labels == encoded_label)[0]\n",
    "        \n",
    "        # Calculate the mean embedding for the current intent\n",
    "        intent_embeddings = train_embeddings[indices]\n",
    "        intent_mean = np.mean(intent_embeddings, axis=0)\n",
    "        \n",
    "        # Use the encoded label as the dictionary key\n",
    "        intent_means[encoded_label] = intent_mean\n",
    "    covariance = np.cov(train_embeddings, rowvar=False)\n",
    "    cov_inverse = inv(covariance)\n",
    "    centroids_tensor = {k: torch.tensor(v, dtype=torch.float32) for k, v in intent_means.items()}\n",
    "    cov_inverse_tensor = torch.tensor(cov_inverse, dtype=torch.float32)\n",
    "    "
   ]
  },
  {
   "cell_type": "markdown",
   "id": "a7e32293-8028-4ebe-8a10-3fc012782ad1",
   "metadata": {},
   "source": [
    "# Visuals"
   ]
  },
  {
   "cell_type": "code",
   "execution_count": 54,
   "id": "eba64b40-f47d-4a2b-9fe6-3839dc18890e",
   "metadata": {},
   "outputs": [],
   "source": [
    "fine_model = torch.load(\"best_maha_model.pth\")\n",
    "fine_model.eval()  # Put the model in evaluation mode\n",
    "fine_model = fine_model.to(device)\n",
    "train_embeddings = encode_sentences(fine_model, train_sentences)\n",
    "val_embeddings = encode_sentences(fine_model, val_sentences)\n",
    "test_embeddings = encode_sentences(fine_model, test_sentences)\n",
    "oos_train_embeddings = encode_sentences(fine_model, oos_train_sentences)\n",
    "oos_val_embeddings = encode_sentences(fine_model, oos_val_sentences)\n",
    "oos_test_embeddings = encode_sentences(fine_model, oos_test_sentences)"
   ]
  },
  {
   "cell_type": "code",
   "execution_count": 55,
   "id": "f3f854ee-b40a-452a-82b6-687e6629a9f1",
   "metadata": {},
   "outputs": [],
   "source": [
    "from sklearn.metrics import roc_auc_score, average_precision_score, roc_curve\n",
    "from scipy.spatial import distance\n",
    "from sklearn.metrics import average_precision_score"
   ]
  },
  {
   "cell_type": "code",
   "execution_count": 56,
   "id": "889e6172-693a-4237-963d-3e899f999801",
   "metadata": {},
   "outputs": [],
   "source": [
    "intent_means = {}\n",
    "for encoded_label in np.unique(encoded_train_labels):\n",
    "    # Find indices where the encoded label matches\n",
    "    indices = np.where(encoded_train_labels == encoded_label)[0]\n",
    "    \n",
    "    # Calculate the mean embedding for the current intent\n",
    "    intent_embeddings = train_embeddings[indices]\n",
    "    intent_mean = np.mean(intent_embeddings, axis=0)\n",
    "    \n",
    "    # Use the encoded label as the dictionary key\n",
    "    intent_means[encoded_label] = intent_mean\n",
    "covariance = np.cov(train_embeddings, rowvar=False)\n",
    "cov_inverse = inv(covariance)"
   ]
  },
  {
   "cell_type": "code",
   "execution_count": 57,
   "id": "27ba7dac-3784-4b15-b1d0-b171099d3b1f",
   "metadata": {},
   "outputs": [],
   "source": [
    "def min_mahalanobis_for_sample(sample, intent_means, cov_inverse):\n",
    "    distances = [distance.mahalanobis(sample, mean, cov_inverse) for mean in intent_means.values()]\n",
    "    return min(distances)"
   ]
  },
  {
   "cell_type": "code",
   "execution_count": 58,
   "id": "425b8398-4a6f-44bd-99a3-1d929584d5e0",
   "metadata": {},
   "outputs": [
    {
     "data": {
      "text/plain": [
       "0.17437627194520444"
      ]
     },
     "execution_count": 58,
     "metadata": {},
     "output_type": "execute_result"
    }
   ],
   "source": [
    "# Compute minimum Mahalanobis distances for samples in test_embeddings and oos_test_embeddings\n",
    "test_scores = [min_mahalanobis_for_sample(sample, intent_means, cov_inverse) for sample in test_embeddings]\n",
    "oos_test_scores = [min_mahalanobis_for_sample(sample, intent_means, cov_inverse) for sample in oos_test_embeddings]\n",
    "\n",
    "# True binary labels: 0 for in-domain and 1 for OOD\n",
    "y_true = [0] * len(test_scores) + [1] * len(oos_test_scores)\n",
    "\n",
    "# Combine the scores\n",
    "y_scores = test_scores + oos_test_scores\n",
    "\n",
    "# Compute AUPR\n",
    "aupr = average_precision_score(y_true, y_scores)\n",
    "aupr\n"
   ]
  },
  {
   "cell_type": "code",
   "execution_count": 59,
   "id": "0b5bf5ab-e718-4a7a-a710-5512372b069f",
   "metadata": {},
   "outputs": [
    {
     "data": {
      "image/png": "[encoded data removed]",
      "text/plain": [
       "<Figure size 1000x600 with 1 Axes>"
      ]
     },
     "metadata": {},
     "output_type": "display_data"
    }
   ],
   "source": [
    "import matplotlib.pyplot as plt\n",
    "\n",
    "# Set up the figure and axes\n",
    "plt.figure(figsize=(10, 6))\n",
    "\n",
    "# Plot the histograms\n",
    "plt.hist(test_scores, bins=50, alpha=0.5, label='In-domain')\n",
    "plt.hist(oos_test_scores, bins=50, alpha=0.5, label='Out-of-domain')\n",
    "\n",
    "# Add legend, title, and labels\n",
    "plt.legend(loc='upper right')\n",
    "plt.title('Distribution of Minimum Mahalanobis Distances')\n",
    "plt.xlabel('Mahalanobis Distance')\n",
    "plt.ylabel('Number of Samples')\n",
    "plt.grid(True, which='both', linestyle='--', linewidth=0.5)\n",
    "plt.tight_layout()\n",
    "\n",
    "# Show the plot\n",
    "plt.show()\n"
   ]
  },
  {
   "cell_type": "code",
   "execution_count": null,
   "id": "07795d99-5725-4fed-a1d0-b1bb9dc6af54",
   "metadata": {},
   "outputs": [],
   "source": []
  }
 ],
 "metadata": {
  "kernelspec": {
   "display_name": "Python 3 (ipykernel)",
   "language": "python",
   "name": "python3"
  },
  "language_info": {
   "codemirror_mode": {
    "name": "ipython",
    "version": 3
   },
   "file_extension": ".py",
   "mimetype": "text/x-python",
   "name": "python",
   "nbconvert_exporter": "python",
   "pygments_lexer": "ipython3",
   "version": "3.11.6"
  }
 },
 "nbformat": 4,
 "nbformat_minor": 5
}
