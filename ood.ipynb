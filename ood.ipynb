{
 "cells": [
  {
   "cell_type": "code",
   "execution_count": 3,
   "id": "e6de6413-ee03-4ace-84ee-a767a6a7f113",
   "metadata": {},
   "outputs": [],
   "source": [
    "import json\n",
    "\n",
    "# Load the dataset\n",
    "with open(\"clinc150_uci/data_full.json\", \"r\") as file:\n",
    "    data = json.load(file)\n"
   ]
  },
  {
   "cell_type": "code",
   "execution_count": 4,
   "id": "20662a82-da0b-4d9c-a2eb-2a11f02e7abc",
   "metadata": {},
   "outputs": [
    {
     "data": {
      "text/plain": [
       "(15000, 3000, 4500, 100, 100, 1000)"
      ]
     },
     "execution_count": 4,
     "metadata": {},
     "output_type": "execute_result"
    }
   ],
   "source": [
    "# Extracting data\n",
    "train_data = data['train']\n",
    "val_data = data['val']\n",
    "test_data = data['test']\n",
    "\n",
    "oos_train_data = data['oos_train']\n",
    "oos_val_data = data['oos_val']\n",
    "oos_test_data = data['oos_test']\n",
    "\n",
    "# Get sentences and labels\n",
    "train_sentences = [item[0] for item in train_data]\n",
    "train_labels = [item[1] for item in train_data]\n",
    "\n",
    "val_sentences = [item[0] for item in val_data]\n",
    "val_labels = [item[1] for item in val_data]\n",
    "\n",
    "test_sentences = [item[0] for item in test_data]\n",
    "test_labels = [item[1] for item in test_data]\n",
    "\n",
    "oos_train_sentences = [item[0] for item in oos_train_data]\n",
    "oos_val_sentences = [item[0] for item in oos_val_data]\n",
    "oos_test_sentences = [item[0] for item in oos_test_data]\n",
    "\n",
    "# Check the number of samples in each subset\n",
    "len(train_sentences), len(val_sentences), len(test_sentences), len(oos_train_sentences), len(oos_val_sentences), len(oos_test_sentences)\n"
   ]
  },
  {
   "cell_type": "code",
   "execution_count": 5,
   "id": "c43b3818-f7a2-4ed8-9c18-55a5016c71ef",
   "metadata": {},
   "outputs": [],
   "source": [
    "from transformers import RobertaTokenizer, RobertaModel\n",
    "import torch"
   ]
  },
  {
   "cell_type": "code",
   "execution_count": 6,
   "id": "6d2a7995-d5be-40ac-a692-241cd27d5090",
   "metadata": {},
   "outputs": [
    {
     "name": "stderr",
     "output_type": "stream",
     "text": [
      "Some weights of RobertaModel were not initialized from the model checkpoint at roberta-base and are newly initialized: ['roberta.pooler.dense.bias', 'roberta.pooler.dense.weight']\n",
      "You should probably TRAIN this model on a down-stream task to be able to use it for predictions and inference.\n"
     ]
    }
   ],
   "source": [
    "# Initialize tokenizer and model\n",
    "tokenizer = RobertaTokenizer.from_pretrained('roberta-base')\n",
    "model = RobertaModel.from_pretrained('roberta-base')\n",
    "if torch.cuda.is_available():\n",
    "    model = model.to('cuda')"
   ]
  },
  {
   "cell_type": "code",
   "execution_count": 7,
   "id": "3d739581-6f92-4cf2-bc42-07e33ceb84bb",
   "metadata": {},
   "outputs": [],
   "source": [
    "def get_embeddings(sentences):\n",
    "    inputs = tokenizer(sentences, return_tensors=\"pt\", padding=True, truncation=True, max_length=256)\n",
    "    \n",
    "    # Move inputs to GPU if available\n",
    "    if torch.cuda.is_available():\n",
    "        for key in inputs:\n",
    "            inputs[key] = inputs[key].to('cuda')\n",
    "    \n",
    "    with torch.no_grad():\n",
    "        outputs = model(**inputs)\n",
    "    \n",
    "    # Move embeddings back to CPU if they were on GPU\n",
    "    embeddings = outputs.last_hidden_state.mean(dim=1)\n",
    "    if torch.cuda.is_available():\n",
    "        embeddings = embeddings.cpu()\n",
    "    \n",
    "    return embeddings.numpy()"
   ]
  },
  {
   "cell_type": "code",
   "execution_count": 8,
   "id": "06a95d9f-0c13-4045-bffc-8dcdd42b89d0",
   "metadata": {},
   "outputs": [],
   "source": [
    "train_embeddings = get_embeddings(train_sentences)\n",
    "val_embeddings = get_embeddings(val_sentences)\n",
    "test_embeddings = get_embeddings(test_sentences)\n",
    "oos_train_embeddings = get_embeddings(oos_train_sentences)\n",
    "oos_val_embeddings = get_embeddings(oos_val_sentences)\n",
    "oos_test_embeddings = get_embeddings(oos_test_sentences)"
   ]
  },
  {
   "cell_type": "code",
   "execution_count": 9,
   "id": "74c2a412-0120-4122-b695-ca60344f3b53",
   "metadata": {},
   "outputs": [
    {
     "data": {
      "text/plain": [
       "(1000, 768)"
      ]
     },
     "execution_count": 9,
     "metadata": {},
     "output_type": "execute_result"
    }
   ],
   "source": [
    "oos_test_embeddings.shape"
   ]
  },
  {
   "cell_type": "code",
   "execution_count": 26,
   "id": "e980c7a9-4964-43c8-b4e4-0d4b0c65a550",
   "metadata": {},
   "outputs": [],
   "source": [
    "import numpy as np\n",
    "from scipy.linalg import inv"
   ]
  },
  {
   "cell_type": "code",
   "execution_count": 19,
   "id": "2e022d34-99a6-4e7a-bb76-154381f8b4a6",
   "metadata": {},
   "outputs": [],
   "source": [
    "mean = np.mean(train_embeddings, axis=0)\n",
    "covariance = np.cov(train_embeddings, rowvar=False)\n",
    "cov_inverse = inv(covariance)\n"
   ]
  },
  {
   "cell_type": "code",
   "execution_count": 20,
   "id": "9ca6f231-5b41-40b0-a13a-19cd9abae377",
   "metadata": {},
   "outputs": [],
   "source": [
    "def mahalanobis(x, mean, cov_inverse):\n",
    "    delta = x - mean\n",
    "    return np.dot(np.dot(delta, cov_inverse), delta.T)"
   ]
  },
  {
   "cell_type": "code",
   "execution_count": 22,
   "id": "425ea622-da38-47c8-ba4f-cc3cda71013c",
   "metadata": {},
   "outputs": [],
   "source": [
    "test_mahalanobis = [mahalanobis(embedding, mean, cov_inverse) for embedding in test_embeddings]\n",
    "oos_test_mahalanobis = [mahalanobis(embedding, mean, cov_inverse) for embedding in oos_test_embeddings]"
   ]
  },
  {
   "cell_type": "code",
   "execution_count": 23,
   "id": "d5dc4053-c99d-4b2b-9238-17235acec795",
   "metadata": {},
   "outputs": [
    {
     "data": {
      "text/plain": [
       "([1544.1246716934256,\n",
       "  663.8241205392405,\n",
       "  1094.3538775008637,\n",
       "  562.2457204030361,\n",
       "  659.604276040569],\n",
       " [788.6236793857533,\n",
       "  1639.5125718298368,\n",
       "  1261.2153645055369,\n",
       "  531.1102627911605,\n",
       "  640.0282306554727])"
      ]
     },
     "execution_count": 23,
     "metadata": {},
     "output_type": "execute_result"
    }
   ],
   "source": [
    "test_mahalanobis[:5], oos_test_mahalanobis[:5]"
   ]
  },
  {
   "cell_type": "code",
   "execution_count": 27,
   "id": "a739f2a4-24a6-4be9-a9de-1b336ac5b7b7",
   "metadata": {},
   "outputs": [
    {
     "data": {
      "text/plain": [
       "(0.7214566666666666, 0.28372634166890487, 0.6653333333333333)"
      ]
     },
     "execution_count": 27,
     "metadata": {},
     "output_type": "execute_result"
    }
   ],
   "source": [
    "from sklearn.metrics import roc_auc_score, average_precision_score, roc_curve\n",
    "\n",
    "# Label the data: in-distribution (0) and out-of-distribution (1)\n",
    "y_true = [0] * len(test_mahalanobis) + [1] * len(oos_test_mahalanobis)\n",
    "y_scores = test_mahalanobis + oos_test_mahalanobis\n",
    "\n",
    "# Compute AUROC and AUPR\n",
    "auroc = roc_auc_score(y_true, y_scores)\n",
    "aupr = average_precision_score(y_true, y_scores)\n",
    "\n",
    "# Compute FPR@95\n",
    "fpr, tpr, thresholds = roc_curve(y_true, y_scores)\n",
    "index = np.where(tpr >= 0.95)[0][0]\n",
    "fpr_95 = fpr[index]\n",
    "\n",
    "#OOD is positive class\n",
    "auroc, aupr, fpr_95\n"
   ]
  },
  {
   "cell_type": "code",
   "execution_count": 28,
   "id": "f0b74f01-e8d5-46c1-af87-171a37952895",
   "metadata": {},
   "outputs": [
    {
     "data": {
      "text/plain": [
       "(0.27854333333333336, 0.7454464575815867, 0.999)"
      ]
     },
     "execution_count": 28,
     "metadata": {},
     "output_type": "execute_result"
    }
   ],
   "source": [
    "from sklearn.metrics import roc_auc_score, average_precision_score, roc_curve\n",
    "\n",
    "# Label the data: in-distribution (1) and out-of-distribution (0)\n",
    "y_true = [1] * len(test_mahalanobis) + [0] * len(oos_test_mahalanobis)\n",
    "y_scores = test_mahalanobis + oos_test_mahalanobis\n",
    "\n",
    "# Compute AUROC\n",
    "auroc = roc_auc_score(y_true, y_scores)\n",
    "\n",
    "# Compute AUPR for in-distribution class\n",
    "aupr_in = average_precision_score(y_true, y_scores)\n",
    "\n",
    "# Compute FPR@95 for in-distribution class\n",
    "fpr, tpr, thresholds = roc_curve(y_true, y_scores, pos_label=1)\n",
    "index = np.where(tpr >= 0.95)[0][0]\n",
    "fpr_95 = fpr[index]\n",
    "\n",
    "auroc, aupr_in, fpr_95"
   ]
  },
  {
   "cell_type": "code",
   "execution_count": 29,
   "id": "a7369a57-aba8-42bf-a3f5-a4d98296f049",
   "metadata": {},
   "outputs": [
    {
     "data": {
      "text/plain": [
       "1.0"
      ]
     },
     "execution_count": 29,
     "metadata": {},
     "output_type": "execute_result"
    }
   ],
   "source": [
    "0.7214566666666666+0.27854333333333336"
   ]
  },
  {
   "cell_type": "code",
   "execution_count": 31,
   "id": "5fec01e5-f178-47bc-9258-27521d562260",
   "metadata": {},
   "outputs": [
    {
     "data": {
      "text/plain": [
       "(0.26018444444444444, 0.7330483406864483, 1.0)"
      ]
     },
     "execution_count": 31,
     "metadata": {},
     "output_type": "execute_result"
    }
   ],
   "source": [
    "from sklearn.neighbors import NearestNeighbors\n",
    "\n",
    "# Initialize and fit the Nearest Neighbors model\n",
    "nbrs = NearestNeighbors(n_neighbors=1, algorithm='auto').fit(train_embeddings)\n",
    "\n",
    "# Find distances and indices of the nearest neighbors for the test embeddings\n",
    "distances, indices = nbrs.kneighbors(test_embeddings)\n",
    "\n",
    "# Extract the nearest neighbor distances\n",
    "nn_distances = distances[:, 0]\n",
    "\n",
    "# For OOD samples\n",
    "oos_distances, _ = nbrs.kneighbors(oos_test_embeddings)\n",
    "oos_nn_distances = oos_distances[:, 0]\n",
    "\n",
    "# Combine in-distribution and OOD distances and labels for evaluation\n",
    "all_distances = np.concatenate([nn_distances, oos_nn_distances])\n",
    "y_true = [1] * len(nn_distances) + [0] * len(oos_nn_distances)\n",
    "\n",
    "# Compute AUROC\n",
    "auroc = roc_auc_score(y_true, all_distances)\n",
    "\n",
    "# Compute AUPR for in-distribution class\n",
    "aupr_in = average_precision_score(y_true, all_distances)\n",
    "\n",
    "# Compute FPR@95 for in-distribution class\n",
    "fpr, tpr, thresholds = roc_curve(y_true, all_distances, pos_label=1)\n",
    "index = np.where(tpr >= 0.95)[0][0]\n",
    "fpr_95 = fpr[index]\n",
    "\n",
    "auroc, aupr_in, fpr_95\n"
   ]
  },
  {
   "cell_type": "code",
   "execution_count": 34,
   "id": "1a323f9d-1497-48c7-8c10-fd1454ee2b2b",
   "metadata": {},
   "outputs": [
    {
     "data": {
      "text/plain": [
       "(0.7398155555555554, 0.30473436865553233, 0.6473333333333333)"
      ]
     },
     "execution_count": 34,
     "metadata": {},
     "output_type": "execute_result"
    }
   ],
   "source": [
    "from sklearn.neighbors import NearestNeighbors\n",
    "\n",
    "# Initialize and fit the Nearest Neighbors model\n",
    "nbrs = NearestNeighbors(n_neighbors=1, algorithm='auto').fit(train_embeddings)\n",
    "\n",
    "# Find distances of the nearest neighbors for the test embeddings\n",
    "distances, _ = nbrs.kneighbors(test_embeddings)\n",
    "nn_distances = distances[:, 0]\n",
    "\n",
    "# For OOD samples\n",
    "oos_distances, _ = nbrs.kneighbors(oos_test_embeddings)\n",
    "oos_nn_distances = oos_distances[:, 0]\n",
    "\n",
    "# Label the data: in-distribution (0) and out-of-distribution (1)\n",
    "y_true = [0] * len(nn_distances) + [1] * len(oos_nn_distances)\n",
    "y_scores = list(nn_distances) + list(oos_nn_distances)\n",
    "\n",
    "# Compute AUROC\n",
    "auroc = roc_auc_score(y_true, y_scores)\n",
    "\n",
    "# Compute AUPR for the positive class (OOD)\n",
    "aupr_ood = average_precision_score(y_true, y_scores)\n",
    "\n",
    "# Compute FPR@95 for the positive class (OOD)\n",
    "fpr, tpr, thresholds = roc_curve(y_true, y_scores)\n",
    "index = np.where(tpr >= 0.95)[0][0]\n",
    "fpr_95 = fpr[index]\n",
    "\n",
    "auroc, aupr_ood, fpr_95\n"
   ]
  },
  {
   "cell_type": "code",
   "execution_count": null,
   "id": "88bce1f4-7b9e-4692-8039-630bb3b90955",
   "metadata": {},
   "outputs": [],
   "source": []
  }
 ],
 "metadata": {
  "kernelspec": {
   "display_name": "Python 3 (ipykernel)",
   "language": "python",
   "name": "python3"
  },
  "language_info": {
   "codemirror_mode": {
    "name": "ipython",
    "version": 3
   },
   "file_extension": ".py",
   "mimetype": "text/x-python",
   "name": "python",
   "nbconvert_exporter": "python",
   "pygments_lexer": "ipython3",
   "version": "3.11.4"
  }
 },
 "nbformat": 4,
 "nbformat_minor": 5
}
