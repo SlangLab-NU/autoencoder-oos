{
 "cells": [
  {
   "cell_type": "code",
   "execution_count": 17,
   "id": "3425dda8-4626-4d3b-aaf3-1dfe4921ea73",
   "metadata": {},
   "outputs": [],
   "source": [
    "import pandas as pd\n",
    "from sklearn.model_selection import train_test_split\n",
    "import numpy as np\n",
    "import os\n",
    "import pickle\n",
    "\n",
    "def save_split_data(train_data, val_data, test_data, oos_val_data, oos_test_data, split_dir):\n",
    "    datasets = {\n",
    "        'train_sentences.pkl': train_data['Title'].tolist(),\n",
    "        'train_labels.pkl': train_data['Tag1'].tolist(),\n",
    "        'val_sentences.pkl': val_data['Title'].tolist(),\n",
    "        'val_labels.pkl': val_data['Tag1'].tolist(),\n",
    "        'test_sentences.pkl': test_data['Title'].tolist(),\n",
    "        'test_labels.pkl': test_data['Tag1'].tolist(),\n",
    "        'oos_val_sentences.pkl': oos_val_data['Title'].tolist(),\n",
    "        'oos_test_sentences.pkl': oos_test_data['Title'].tolist(),\n",
    "    }\n",
    "    \n",
    "    for filename, data in datasets.items():\n",
    "        with open(os.path.join(split_dir, filename), 'wb') as file:\n",
    "            pickle.dump(data, file)\n",
    "    \n",
    "    metadata = f\"Train size: {len(train_data)}\\nValidation size: {len(val_data)}\\nTest size: {len(test_data)}\\nOOS Validation size: {len(oos_val_data)}\\nOOS Test size: {len(oos_test_data)}\"\n",
    "    with open(os.path.join(split_dir, 'metadata.txt'), 'w') as metafile:\n",
    "        metafile.write(metadata)\n",
    "\n",
    "# Load and filter the data\n",
    "file_path = 'stack_overflow.csv'\n",
    "main_dir = 'stackoverflow_data'\n",
    "os.makedirs(main_dir, exist_ok=True)\n",
    "\n",
    "for split_num in range(1, 6):\n",
    "    split_num = 5\n",
    "    data = pd.read_csv(file_path)\n",
    "    data = data[data['Tag1'].isin(['svn', 'oracle', 'bash', 'apache', 'excel', 'matlab', 'cocoa', 'visual-studio', 'osx', 'wordpress', 'spring', 'hibernate', 'scala', 'sharepoint', 'ajax', 'drupal', 'qt', 'haskell', 'linq', 'magento'])]\n",
    "    data = data[data['Tag1'].apply(lambda x: isinstance(x, str))]\n",
    "    \n",
    "    threshold = len(data) * 0.75\n",
    "    tag_counts = data['Tag1'].value_counts()\n",
    "    tag_counts_shuffled = tag_counts.sample(frac=1, random_state=split_num)\n",
    "    \n",
    "    cumulative_count = 0\n",
    "    selected_tags = []\n",
    "    \n",
    "    for tag, count in tag_counts_shuffled.items():\n",
    "        cumulative_count += count\n",
    "        selected_tags.append(tag)\n",
    "        if cumulative_count >= threshold:\n",
    "            break\n",
    "    \n",
    "    in_domain_data = data[data['Tag1'].isin(selected_tags)]\n",
    "    out_of_domain_data = data[~data['Tag1'].isin(selected_tags)]\n",
    "    \n",
    "    train_data, temp_data = train_test_split(in_domain_data, test_size=0.3, random_state=split_num)\n",
    "    val_data, test_data = train_test_split(temp_data, test_size=0.5, random_state=split_num)\n",
    "    oos_val_data, oos_test_data = train_test_split(out_of_domain_data, test_size=0.5, random_state=split_num)\n",
    "    \n",
    "    # Create directory for the current split\n",
    "    split_dir = os.path.join(main_dir, f'split{split_num}')\n",
    "    os.makedirs(split_dir, exist_ok=True)\n",
    "    \n",
    "    # Save the split data and metadata\n",
    "    save_split_data(train_data, val_data, test_data, oos_val_data, oos_test_data, split_dir)\n"
   ]
  },
  {
   "cell_type": "code",
   "execution_count": 18,
   "id": "51c2b072-5ad6-4009-a0e8-d225d04698c1",
   "metadata": {},
   "outputs": [],
   "source": [
    "all_tags =['svn', 'oracle', 'bash', 'apache', 'excel', 'matlab', 'cocoa', 'visual-studio', 'osx', 'wordpress', 'spring', 'hibernate', 'scala', 'sharepoint', 'ajax', 'drupal', 'qt', 'haskell', 'linq', 'magento']"
   ]
  },
  {
   "cell_type": "code",
   "execution_count": 20,
   "id": "e036d4db-b831-49bb-8be8-987a3601d6ec",
   "metadata": {},
   "outputs": [
    {
     "data": {
      "text/plain": [
       "{'ajax', 'apache', 'drupal', 'qt', 'visual-studio'}"
      ]
     },
     "execution_count": 20,
     "metadata": {},
     "output_type": "execute_result"
    }
   ],
   "source": [
    "set(all_tags)- set(selected_tags)"
   ]
  },
  {
   "cell_type": "code",
   "execution_count": null,
   "id": "1eb48165-809b-4bf4-9b3e-3bf9bcc8e9fe",
   "metadata": {},
   "outputs": [],
   "source": []
  }
 ],
 "metadata": {
  "kernelspec": {
   "display_name": "Python 3 (ipykernel)",
   "language": "python",
   "name": "python3"
  },
  "language_info": {
   "codemirror_mode": {
    "name": "ipython",
    "version": 3
   },
   "file_extension": ".py",
   "mimetype": "text/x-python",
   "name": "python",
   "nbconvert_exporter": "python",
   "pygments_lexer": "ipython3",
   "version": "3.12.3"
  }
 },
 "nbformat": 4,
 "nbformat_minor": 5
}
