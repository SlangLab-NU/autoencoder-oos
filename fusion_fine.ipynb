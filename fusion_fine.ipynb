{
 "cells": [
  {
   "cell_type": "markdown",
   "id": "1897c26a-1cb2-4ad1-94d3-8cf70b70ee51",
   "metadata": {},
   "source": [
    "# Load Data"
   ]
  },
  {
   "cell_type": "code",
   "execution_count": 2,
   "id": "a3450eef-470e-4540-9c6a-99af76a5e966",
   "metadata": {
    "ExecuteTime": {
     "end_time": "2023-12-01T05:46:57.637647142Z",
     "start_time": "2023-12-01T05:46:56.101609820Z"
    }
   },
   "outputs": [],
   "source": [
    "import json\n",
    "import torch\n",
    "from sklearn.preprocessing import LabelEncoder\n",
    "from transformers import AutoModel, AutoTokenizer\n",
    "from torch.utils.data import DataLoader, Dataset\n",
    "from torch import nn\n",
    "import numpy as np\n",
    "from scipy.linalg import inv\n",
    "from torch.optim import Adam"
   ]
  },
  {
   "cell_type": "code",
   "execution_count": 3,
   "id": "e46987c4-1aba-4b4f-a803-23052ca77f96",
   "metadata": {
    "ExecuteTime": {
     "end_time": "2023-12-01T05:47:06.596136455Z",
     "start_time": "2023-12-01T05:47:06.586541155Z"
    }
   },
   "outputs": [],
   "source": [
    "# Load the dataset\n",
    "with open(\"clinc150_uci/data_full.json\", \"r\") as file:\n",
    "    data = json.load(file)\n",
    "# Extracting data\n",
    "train_data = data['train']\n",
    "val_data = data['val']\n",
    "test_data = data['test']\n",
    "\n",
    "oos_train_data = data['oos_train']\n",
    "oos_val_data = data['oos_val']\n",
    "oos_test_data = data['oos_test']\n",
    "\n",
    "# Get sentences and labels\n",
    "train_sentences = [item[0] for item in train_data]\n",
    "train_labels = [item[1] for item in train_data]\n",
    "\n",
    "val_sentences = [item[0] for item in val_data]\n",
    "val_labels = [item[1] for item in val_data]\n",
    "\n",
    "test_sentences = [item[0] for item in test_data]\n",
    "test_labels = [item[1] for item in test_data]\n",
    "\n",
    "oos_train_sentences = [item[0] for item in oos_train_data]\n",
    "oos_val_sentences = [item[0] for item in oos_val_data]\n",
    "oos_test_sentences = [item[0] for item in oos_test_data]\n"
   ]
  },
  {
   "cell_type": "markdown",
   "id": "9b12dd80-1971-4215-8486-8de1d655d5ed",
   "metadata": {},
   "source": [
    "# Encode Labels"
   ]
  },
  {
   "cell_type": "code",
   "execution_count": 4,
   "id": "92f9dd99-07c9-4e5a-993b-e73dfd0be95b",
   "metadata": {
    "ExecuteTime": {
     "end_time": "2023-12-01T05:47:11.994721178Z",
     "start_time": "2023-12-01T05:47:11.979633066Z"
    }
   },
   "outputs": [],
   "source": [
    "label_encoder = LabelEncoder()\n",
    "# Fit the label encoder and transform labels to integers\n",
    "encoded_train_labels = label_encoder.fit_transform(train_labels)\n",
    "encoded_val_labels = label_encoder.fit_transform(val_labels)"
   ]
  },
  {
   "cell_type": "markdown",
   "id": "a38c1c26-f71a-4395-8ef9-01b52c930fdc",
   "metadata": {},
   "source": [
    "# Tokenize our sentences and create Dataloaders"
   ]
  },
  {
   "cell_type": "code",
   "execution_count": 5,
   "id": "2d3db18c-5804-4f09-9f6b-1f3131415fa9",
   "metadata": {
    "ExecuteTime": {
     "end_time": "2023-12-01T05:47:18.554957176Z",
     "start_time": "2023-12-01T05:47:17.175180209Z"
    }
   },
   "outputs": [],
   "source": [
    "pretrained_model_name = \"distilroberta-base\"\n",
    "tokenizer = AutoTokenizer.from_pretrained(pretrained_model_name)\n",
    "transformer_model = AutoModel.from_pretrained(pretrained_model_name)\n",
    "\n",
    "class TextDataset(Dataset):\n",
    "    def __init__(self, sentences, labels, tokenizer, max_length=512):\n",
    "        self.encodings = tokenizer(sentences, truncation=True, padding=True, max_length=max_length)\n",
    "        self.labels = labels\n",
    "\n",
    "    def __getitem__(self, idx):\n",
    "        item = {key: torch.tensor(val[idx]) for key, val in self.encodings.items()}\n",
    "        item['labels'] = torch.tensor(self.labels[idx])\n",
    "        return item\n",
    "\n",
    "    def __len__(self):\n",
    "        return len(self.labels)\n",
    "\n",
    "# 2. Create the dataset\n",
    "max_length = 37 \n",
    "train_dataset = TextDataset(train_sentences, encoded_train_labels, tokenizer, max_length)\n",
    "val_dataset = TextDataset(val_sentences, encoded_val_labels, tokenizer, max_length)"
   ]
  },
  {
   "cell_type": "markdown",
   "id": "2d137706-db61-4152-80e7-8068e75e381f",
   "metadata": {},
   "source": [
    "# Define functions to encode our sentences"
   ]
  },
  {
   "cell_type": "code",
   "execution_count": 6,
   "id": "2952162c-8da1-4cae-ae22-5eb06fa41ec9",
   "metadata": {
    "ExecuteTime": {
     "end_time": "2023-12-01T05:48:37.721316035Z",
     "start_time": "2023-12-01T05:48:37.670663494Z"
    }
   },
   "outputs": [
    {
     "name": "stderr",
     "output_type": "stream",
     "text": [
      "huggingface/tokenizers: The current process just got forked, after parallelism has already been used. Disabling parallelism to avoid deadlocks...\n",
      "To disable this warning, you can either:\n",
      "\t- Avoid using `tokenizers` before the fork if possible\n",
      "\t- Explicitly set the environment variable TOKENIZERS_PARALLELISM=(true | false)\n",
      "huggingface/tokenizers: The current process just got forked, after parallelism has already been used. Disabling parallelism to avoid deadlocks...\n",
      "To disable this warning, you can either:\n",
      "\t- Avoid using `tokenizers` before the fork if possible\n",
      "\t- Explicitly set the environment variable TOKENIZERS_PARALLELISM=(true | false)\n"
     ]
    }
   ],
   "source": [
    "transformer_model.eval()\n",
    "device = torch.device(\"cuda\" if torch.cuda.is_available() else \"cpu\")\n",
    "transformer_model = transformer_model.to(device)\n",
    "def encode_sentences(model, sentences):\n",
    "    sentence_embeddings = []\n",
    "\n",
    "    for sentence in sentences:\n",
    "        encoded_input = tokenizer(sentence, return_tensors='pt', truncation=True, padding=True, max_length=512)\n",
    "        encoded_input = {k: v.to(device) for k, v in encoded_input.items()}  # Move input to GPU if available\n",
    "        with torch.no_grad():\n",
    "            model_output = model(**encoded_input)\n",
    "\n",
    "        pooled_output = model_output.last_hidden_state.mean(dim=1)\n",
    "        sentence_embeddings.append(pooled_output.cpu().numpy())\n",
    "\n",
    "    sentence_embeddings_np = np.concatenate(sentence_embeddings, axis=0)\n",
    "    return sentence_embeddings_np"
   ]
  },
  {
   "cell_type": "markdown",
   "id": "f27c9074-7826-467f-8ccf-38b2820ccd38",
   "metadata": {},
   "source": [
    "# ReconstructionLoss"
   ]
  },
  {
   "cell_type": "code",
   "execution_count": 9,
   "id": "843cefc5-414e-4710-84dd-2a9c35046a3c",
   "metadata": {},
   "outputs": [],
   "source": [
    "class ReconstructionLoss(nn.Module):\n",
    "    def __init__(self):\n",
    "        super(ReconstructionLoss, self).__init__()\n",
    "        self.mse_loss = nn.MSELoss()\n",
    "\n",
    "    def forward(self, original_embeddings, reconstructed_embeddings):\n",
    "        return self.mse_loss(original_embeddings, reconstructed_embeddings)"
   ]
  },
  {
   "cell_type": "markdown",
   "id": "f5de918d-3a50-4ea9-84d2-8d2d03a0fa4e",
   "metadata": {},
   "source": [
    "# Define our model"
   ]
  },
  {
   "cell_type": "code",
   "execution_count": 8,
   "id": "c586c9a1-9e7c-4fbe-9ff8-087d8bd5f6d4",
   "metadata": {
    "ExecuteTime": {
     "end_time": "2023-12-01T05:48:43.266219171Z",
     "start_time": "2023-12-01T05:48:42.916645883Z"
    }
   },
   "outputs": [],
   "source": [
    "transformer_model = AutoModel.from_pretrained(pretrained_model_name)\n",
    "\n",
    "class FusedTextClassifier(nn.Module):\n",
    "    def __init__(self, transformer_model, num_labels):\n",
    "        super(FusedTextClassifier, self).__init__()\n",
    "        self.transformer = transformer_model\n",
    "\n",
    "        # Autoencoder layers\n",
    "        self.encoder1 = nn.Linear(768, 512)\n",
    "        self.encoder2 = nn.Linear(512, 64)\n",
    "        self.encoder3 = nn.Linear(64, 16)\n",
    "        self.decoder1 = nn.Linear(16, 64)\n",
    "        self.decoder2 = nn.Linear(64, 512)\n",
    "        self.decoder3 = nn.Linear(512, 768)\n",
    "\n",
    "        # Classifier layer\n",
    "        self.classifier = nn.Linear(768, num_labels)\n",
    "        self.classifier_enabled = True\n",
    "\n",
    "    def forward(self, input_ids, attention_mask):\n",
    "        transformer_output = self.transformer(input_ids=input_ids, attention_mask=attention_mask)\n",
    "        sentence_embedding = transformer_output.last_hidden_state.max(dim=1).values\n",
    "\n",
    "        if self.classifier_enabled:\n",
    "            # When classifier is enabled, use the output of the transformer directly\n",
    "            return self.classifier(sentence_embedding)\n",
    "        else:\n",
    "            # Autoencoder forward pass\n",
    "            x = nn.functional.tanh(self.encoder1(sentence_embedding))\n",
    "            x = nn.functional.tanh(self.encoder2(x))\n",
    "            x = nn.functional.tanh(self.encoder3(x))\n",
    "\n",
    "            x = nn.functional.tanh(self.decoder1(x))\n",
    "            x = nn.functional.tanh(self.decoder2(x))\n",
    "            reconstructed_embeddings = self.decoder3(x)\n",
    "\n",
    "            return sentence_embedding, reconstructed_embeddings\n",
    "\n",
    "    def enable_classifier(self):\n",
    "        self.classifier_enabled = True\n",
    "\n",
    "    def disable_classifier(self):\n",
    "        self.classifier_enabled = False\n",
    "\n",
    "\n"
   ]
  },
  {
   "cell_type": "markdown",
   "id": "98181737-c127-41a7-beb3-ab66172b9303",
   "metadata": {},
   "source": [
    "# Initiallize everything else we needed"
   ]
  },
  {
   "cell_type": "code",
   "execution_count": 11,
   "id": "c9836c07-b6b3-43e0-adf9-178ebcdcea68",
   "metadata": {
    "ExecuteTime": {
     "end_time": "2023-12-01T05:54:01.432727970Z",
     "start_time": "2023-12-01T05:54:00.858905115Z"
    }
   },
   "outputs": [],
   "source": [
    "pretrained_model_name = \"distilroberta-base\"\n",
    "unique_intents = list(set(train_labels)) \n",
    "transformer_model = AutoModel.from_pretrained(pretrained_model_name)\n",
    "transformer_model.to(device)\n",
    "model = FusedTextClassifier(transformer_model, len(unique_intents))\n",
    "model.to(device)\n",
    "optimizer = Adam(model.parameters(), lr=2.2497695787641236e-05)\n",
    "training_losses = []\n",
    "validation_losses = []\n",
    "batch_size= 128\n",
    "train_dataloader = DataLoader(train_dataset, batch_size=batch_size, shuffle=True)\n",
    "val_dataloader = DataLoader(val_dataset, batch_size=batch_size)\n",
    "ce_loss = nn.CrossEntropyLoss()\n",
    "reconstruction_loss = ReconstructionLoss()"
   ]
  },
  {
   "cell_type": "code",
   "execution_count": 12,
   "id": "ed9508c7-081f-469a-96d2-16461816e58c",
   "metadata": {
    "ExecuteTime": {
     "end_time": "2023-12-01T05:54:02.079280530Z",
     "start_time": "2023-12-01T05:54:02.071418245Z"
    }
   },
   "outputs": [],
   "source": [
    "num_epochs = 24"
   ]
  },
  {
   "cell_type": "markdown",
   "id": "c0c9a636-af8e-4d4c-abb2-fc1370da38a3",
   "metadata": {},
   "source": [
    "# Training Loop!!!"
   ]
  },
  {
   "cell_type": "code",
   "execution_count": 20,
   "id": "903bf045-515e-4c93-999f-136d077d391c",
   "metadata": {
    "ExecuteTime": {
     "end_time": "2023-12-01T05:55:20.768410345Z",
     "start_time": "2023-12-01T05:54:06.212110157Z"
    }
   },
   "outputs": [
    {
     "name": "stdout",
     "output_type": "stream",
     "text": [
      "Epoch 1/24: Lower validation loss found. Model saved.\n",
      "Epoch 1/24, Training Loss: 9.04524e-02, Validation Loss: 4.74251e-01\n",
      "Epoch 2/24: Lower validation loss found. Model saved.\n",
      "Epoch 2/24, Training Loss: 2.37041e-01, Validation Loss: 7.58151e-02\n",
      "Epoch 3/24, Training Loss: 8.79954e-02, Validation Loss: 4.60180e-01\n",
      "Epoch 4/24: Lower validation loss found. Model saved.\n",
      "Epoch 4/24, Training Loss: 2.23304e-01, Validation Loss: 7.02151e-02\n",
      "Epoch 5/24, Training Loss: 8.10756e-02, Validation Loss: 4.45752e-01\n",
      "Epoch 6/24, Training Loss: 2.11907e-01, Validation Loss: 7.75337e-02\n",
      "Epoch 7/24, Training Loss: 7.54509e-02, Validation Loss: 4.30866e-01\n",
      "Epoch 8/24, Training Loss: 2.01663e-01, Validation Loss: 8.13416e-02\n",
      "Epoch 9/24, Training Loss: 6.70430e-02, Validation Loss: 4.06919e-01\n",
      "Epoch 10/24, Training Loss: 1.86450e-01, Validation Loss: 7.68926e-02\n",
      "Epoch 11/24, Training Loss: 6.56508e-02, Validation Loss: 3.91277e-01\n",
      "Epoch 12/24, Training Loss: 1.76605e-01, Validation Loss: 8.07817e-02\n",
      "Epoch 13/24, Training Loss: 6.07750e-02, Validation Loss: 3.67847e-01\n",
      "Epoch 14/24, Training Loss: 1.62443e-01, Validation Loss: 7.17275e-02\n",
      "Epoch 15/24, Training Loss: 6.49556e-02, Validation Loss: 3.62610e-01\n",
      "Epoch 16/24, Training Loss: 1.55832e-01, Validation Loss: 7.80213e-02\n",
      "Epoch 17/24, Training Loss: 5.65423e-02, Validation Loss: 3.42413e-01\n",
      "Epoch 18/24, Training Loss: 1.46889e-01, Validation Loss: 7.89535e-02\n",
      "Epoch 19/24, Training Loss: 5.27949e-02, Validation Loss: 3.23389e-01\n",
      "Epoch 20/24, Training Loss: 1.37108e-01, Validation Loss: 7.62070e-02\n",
      "Epoch 21/24, Training Loss: 5.04805e-02, Validation Loss: 3.11227e-01\n",
      "Epoch 22/24, Training Loss: 1.30257e-01, Validation Loss: 8.01927e-02\n",
      "Epoch 23/24, Training Loss: 4.54177e-02, Validation Loss: 2.89742e-01\n",
      "Epoch 24/24, Training Loss: 1.20934e-01, Validation Loss: 7.74030e-02\n"
     ]
    }
   ],
   "source": [
    "best_val_loss = float('inf')\n",
    "\n",
    "for epoch in range(num_epochs):\n",
    "    model.train()  # Set the model to training mode\n",
    "    is_classifier_training = epoch % 2 == 0\n",
    "\n",
    "    # Enable or disable classifier based on the current epoch\n",
    "    model.enable_classifier() if is_classifier_training else model.disable_classifier()\n",
    "\n",
    "    # Set classifier parameters' requires_grad appropriately\n",
    "    for param in model.classifier.parameters():\n",
    "        param.requires_grad = is_classifier_training\n",
    "\n",
    "    total_train_loss = 0\n",
    "    for batch in train_dataloader:\n",
    "        input_ids, attention_mask, labels = batch['input_ids'].to(device), batch['attention_mask'].to(device), batch['labels'].to(device)\n",
    "        optimizer.zero_grad()  # Zero the gradients\n",
    "\n",
    "        if is_classifier_training:\n",
    "            # Training logic for classifier\n",
    "            predictions = model(input_ids, attention_mask)  # Forward pass\n",
    "            loss = ce_loss(predictions, labels)\n",
    "        else:\n",
    "            # Training logic for autoencoder\n",
    "            original_embeddings, reconstructed_embeddings = model(input_ids, attention_mask)\n",
    "            loss = reconstruction_loss(original_embeddings, reconstructed_embeddings)\n",
    "\n",
    "        loss.backward()  # Backward pass\n",
    "        optimizer.step()  # Update weights\n",
    "        total_train_loss += loss.item()\n",
    "\n",
    "    avg_train_loss = total_train_loss / len(train_dataloader)\n",
    "    training_losses.append(avg_train_loss)\n",
    "\n",
    "    # Validation Phase\n",
    "    model.eval()  # Set the model to evaluation mode\n",
    "    model.disable_classifier()  # Always disable classifier in validation for autoencoder reconstruction loss\n",
    "    total_val_loss = 0\n",
    "    with torch.no_grad():  # Disable gradient calculations\n",
    "        for batch in val_dataloader:\n",
    "            input_ids, attention_mask, labels = batch['input_ids'].to(device), batch['attention_mask'].to(device), batch['labels'].to(device)\n",
    "            original_embeddings, reconstructed_embeddings = model(input_ids, attention_mask)\n",
    "            loss = reconstruction_loss(original_embeddings, reconstructed_embeddings)\n",
    "            total_val_loss += loss.item()\n",
    "\n",
    "    avg_val_loss = total_val_loss / len(val_dataloader)\n",
    "    if avg_val_loss < best_val_loss:\n",
    "        best_val_loss = avg_val_loss\n",
    "        torch.save(model, 'best_fusion_model.pth')\n",
    "        print(f\"Epoch {epoch+1}/{num_epochs}: Lower validation loss found. Model saved.\")\n",
    "\n",
    "    validation_losses.append(avg_val_loss)\n",
    "    print(f\"Epoch {epoch+1}/{num_epochs}, Training Loss: {avg_train_loss:.5e}, Validation Loss: {avg_val_loss:.5e}\")\n"
   ]
  },
  {
   "cell_type": "markdown",
   "id": "a7e32293-8028-4ebe-8a10-3fc012782ad1",
   "metadata": {},
   "source": [
    "# Calculate means and covariance matrix"
   ]
  },
  {
   "cell_type": "code",
   "execution_count": 15,
   "id": "eba64b40-f47d-4a2b-9fe6-3839dc18890e",
   "metadata": {
    "ExecuteTime": {
     "end_time": "2023-12-01T05:55:29.223470776Z",
     "start_time": "2023-12-01T05:55:29.126474189Z"
    }
   },
   "outputs": [],
   "source": [
    "fine_model = torch.load(\"best_fusion_model.pth\")\n",
    "fine_model.eval()  # Put the model in evaluation mode\n",
    "fine_model.disable_classifier()\n",
    "fine_model = fine_model.to(device)"
   ]
  },
  {
   "cell_type": "code",
   "execution_count": 16,
   "id": "daf64b38465b810c",
   "metadata": {
    "ExecuteTime": {
     "end_time": "2023-12-01T05:57:29.484254207Z",
     "start_time": "2023-12-01T05:57:29.442532320Z"
    },
    "collapsed": false,
    "jupyter": {
     "outputs_hidden": false
    }
   },
   "outputs": [],
   "source": [
    "def encode_sentences(model, sentences):\n",
    "    # the mode here is TextClassifier\n",
    "\n",
    "    encoded_inputs = tokenizer(sentences, padding=True, truncation=True, return_tensors='pt', \n",
    "                               max_length=max_length)\n",
    "    input_ids = encoded_inputs['input_ids'].to(device)\n",
    "    attention_mask = encoded_inputs['attention_mask'].to(device)\n",
    "    with torch.no_grad():\n",
    "        model.eval()  # Ensure the model is in evaluation mode\n",
    "        original_embeddings, reconstructed_embeddings = model(input_ids, attention_mask)\n",
    "    return original_embeddings.cpu(), reconstructed_embeddings.cpu()"
   ]
  },
  {
   "cell_type": "code",
   "execution_count": 17,
   "id": "d313cc44-0e2c-4851-88c1-147dd23ac09e",
   "metadata": {
    "ExecuteTime": {
     "end_time": "2023-12-01T05:58:00.612845683Z",
     "start_time": "2023-12-01T05:57:30.186777749Z"
    }
   },
   "outputs": [],
   "source": [
    "test_org, test_rec = encode_sentences(fine_model, test_sentences)\n",
    "oos_test_org, oos_test_rec = encode_sentences(fine_model, oos_test_sentences)"
   ]
  },
  {
   "cell_type": "code",
   "execution_count": 18,
   "id": "ec7c0396-bdbf-47e5-8071-63001dea2d3f",
   "metadata": {
    "ExecuteTime": {
     "end_time": "2023-12-01T05:58:03.735123310Z",
     "start_time": "2023-12-01T05:58:03.728059325Z"
    }
   },
   "outputs": [],
   "source": [
    "test_diffs = torch.mean((test_org - test_rec) ** 2, dim = 1).numpy()\n",
    "oos_test_diffs = torch.mean((oos_test_org - oos_test_rec) ** 2, dim = 1).numpy()"
   ]
  },
  {
   "cell_type": "code",
   "execution_count": 19,
   "id": "07795d99-5725-4fed-a1d0-b1bb9dc6af54",
   "metadata": {},
   "outputs": [
    {
     "data": {
      "image/png": "[encoded data removed]",
      "text/plain": [
       "<Figure size 1000x600 with 1 Axes>"
      ]
     },
     "metadata": {},
     "output_type": "display_data"
    }
   ],
   "source": [
    "import matplotlib.pyplot as plt\n",
    "\n",
    "# Set up the figure and axes\n",
    "plt.figure(figsize=(10, 6))\n",
    "\n",
    "# Plot the histograms\n",
    "plt.hist(test_diffs, bins=50, alpha=0.5, label='In-domain')\n",
    "plt.hist(oos_test_diffs, bins=50, alpha=0.5, label='Out-of-domain')\n",
    "\n",
    "# Add legend, title, and labels\n",
    "plt.legend(loc='upper right')\n",
    "plt.title('Distribution of Reconstruction Loss')\n",
    "plt.xlabel('MSE')\n",
    "plt.ylabel('Number of Samples')\n",
    "plt.grid(True, which='both', linestyle='--', linewidth=0.5)\n",
    "plt.tight_layout()\n",
    "\n",
    "# Show the plot\n",
    "plt.show()"
   ]
  },
  {
   "cell_type": "code",
   "execution_count": null,
   "id": "d3c05881-eca6-4adf-90f5-0463db1a79d7",
   "metadata": {},
   "outputs": [],
   "source": []
  }
 ],
 "metadata": {
  "kernelspec": {
   "display_name": "Python 3 (ipykernel)",
   "language": "python",
   "name": "python3"
  },
  "language_info": {
   "codemirror_mode": {
    "name": "ipython",
    "version": 3
   },
   "file_extension": ".py",
   "mimetype": "text/x-python",
   "name": "python",
   "nbconvert_exporter": "python",
   "pygments_lexer": "ipython3",
   "version": "3.11.6"
  }
 },
 "nbformat": 4,
 "nbformat_minor": 5
}
