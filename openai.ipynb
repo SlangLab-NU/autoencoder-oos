{
 "cells": [
  {
   "cell_type": "code",
   "execution_count": 23,
   "id": "955f1e8d-274d-4a72-980b-4bd19183e5e7",
   "metadata": {},
   "outputs": [],
   "source": [
    "from collections import Counter\n",
    "from sklearn.model_selection import train_test_split\n",
    "import random\n",
    "from openai import OpenAI\n",
    "import json\n",
    "import os\n",
    "from sklearn.metrics import precision_recall_curve, roc_curve, auc, accuracy_score\n",
    "import time"
   ]
  },
  {
   "cell_type": "code",
   "execution_count": 38,
   "id": "4e2b478d-a008-4263-a68d-c4196a213d83",
   "metadata": {},
   "outputs": [
    {
     "data": {
      "text/plain": [
       "{'OOD Domains': ['timer'],\n",
       " 'Train Set Size': 14465,\n",
       " 'Validation Set Size': 2067,\n",
       " 'Test Set Size': 4134,\n",
       " 'OOS Validation Set Size': 491,\n",
       " 'OOS Test Set Size': 997}"
      ]
     },
     "execution_count": 38,
     "metadata": {},
     "output_type": "execute_result"
    }
   ],
   "source": [
    "seed_value=117629\n",
    "random.seed(seed_value)\n",
    "def read_mtop_file(file_path):\n",
    "    data = []\n",
    "    with open(file_path, 'r', encoding='utf-8') as file:\n",
    "        for line in file:\n",
    "            fields = line.strip().split('\\t')\n",
    "            if len(fields) < 8:\n",
    "                continue  # Skip any malformed lines\n",
    "            record = {\n",
    "                'ID': fields[0],\n",
    "                'Intent': fields[1],\n",
    "                'Utterance': fields[3],\n",
    "                'Domain': fields[4]\n",
    "            }\n",
    "            data.append(record)\n",
    "    return data\n",
    "\n",
    "def select_ood_domains(domains, num_ood):\n",
    "    return [\"timer\"]  # Hardcoded OOD domains\n",
    "\n",
    "# Configuration parameters\n",
    "english_dir = 'mtop/en'\n",
    "\n",
    "# Read dataset\n",
    "all_data = read_mtop_file(f'{english_dir}/test.txt') + \\\n",
    "           read_mtop_file(f'{english_dir}/train.txt') + \\\n",
    "           read_mtop_file(f'{english_dir}/eval.txt')\n",
    "\n",
    "domains = set(record['Domain'] for record in all_data)\n",
    "ood_domains = select_ood_domains(domains, 1)  # Using 1 as hardcoded number of OOD domains\n",
    "\n",
    "# Separate OOD data based on domain\n",
    "in_domain_data = [record for record in all_data if record['Domain'] not in ood_domains]\n",
    "ood_data = [record for record in all_data if record['Domain'] in ood_domains]\n",
    "\n",
    "intent_counts = Counter(record['Intent'] for record in in_domain_data)\n",
    "\n",
    "# Filter intents with at least 10 instances\n",
    "sufficient_data = [record for record in in_domain_data if intent_counts[record['Intent']] > 10]\n",
    "\n",
    "train_val_data, test_data = train_test_split(\n",
    "    sufficient_data, test_size=0.2, random_state=seed_value, stratify=[record['Intent'] for record in sufficient_data]\n",
    ")\n",
    "train_data, val_data = train_test_split(\n",
    "    train_val_data, test_size=0.125, random_state=seed_value, stratify=[record['Intent'] for record in train_val_data]\n",
    ")\n",
    "\n",
    "# Split OOD data between validation and test\n",
    "oos_val_data, oos_test_data = train_test_split(ood_data, test_size=0.67, random_state=seed_value)  # No stratification here since it's all OOD\n",
    "\n",
    "# Extract sentences and labels\n",
    "train_sentences = [record['Utterance'] for record in train_data]\n",
    " # Chop off first 3 characters from each intent\n",
    "train_labels = [record['Intent'][3:] for record in train_data]\n",
    "\n",
    "val_sentences = [record['Utterance'] for record in val_data]\n",
    "val_labels = [record['Intent'][3:] for record in val_data]\n",
    "\n",
    "test_sentences = [record['Utterance'] for record in test_data]\n",
    "test_labels = [record['Intent'][3:] for record in test_data]\n",
    "\n",
    "oos_val_sentences = [record['Utterance'] for record in oos_val_data]\n",
    "oos_test_sentences = [record['Utterance'] for record in oos_test_data]\n",
    "\n",
    "# Summary of splits\n",
    "summary = {\n",
    "    \"OOD Domains\": ood_domains,\n",
    "    \"Train Set Size\": len(train_sentences),\n",
    "    \"Validation Set Size\": len(val_sentences),\n",
    "    \"Test Set Size\": len(test_sentences),\n",
    "    \"OOS Validation Set Size\": len(oos_val_sentences),\n",
    "    \"OOS Test Set Size\": len(oos_test_sentences)\n",
    "}\n",
    "\n",
    "\n",
    "model_name = \"ce_model_bert_mtop.pth\"\n",
    "summary"
   ]
  },
  {
   "cell_type": "code",
   "execution_count": 39,
   "id": "8779a0ec-45f5-4a1d-8b96-22037c5c4596",
   "metadata": {},
   "outputs": [],
   "source": [
    "system_prompt = '''\n",
    "You are an AI assistant specialized in natural language processing tasks. You will be provided with training samples consisting of sentences and their corresponding intents. Your task is to determine whether a given sentence is in-scope (belongs to a known intent) or out-of-scope (does not belong to any known intent).\n",
    "Based on the provided training data, classify each input sentence and return a JSON object indicating whether the sentence is in-scope or out-of-scope. If the sentence is in-scope, also provide the intent name. If the sentence is out-of-scope, indicate that it is out-of-scope. The in-scope intents must match exactly with the intents provided in the training data except for oos.\n",
    "Instructions: 1. For each input sentence, determine if it is in-scope or out-of-scope based on the provided training data. 2. If the sentence is in-scope, return a JSON object with { inscope: true, scope: \"intent_name\" }. The intent name must match exactly with the intents provided in the training data. 3. If the sentence is out-of-scope, return a JSON object with { inscope: false, scope: \"oos\" }.\n",
    "'''"
   ]
  },
  {
   "cell_type": "code",
   "execution_count": 40,
   "id": "cc4f8daf-4a04-4161-8837-8cb0318e61f1",
   "metadata": {},
   "outputs": [],
   "source": [
    "# Initialize the OpenAI client\n",
    "client = OpenAI()\n",
    "\n",
    "# Control variable for the number of training samples\n",
    "num_training_samples = 200\n",
    "\n",
    "# Combine sentences and labels into training data\n",
    "training_data = list(zip(train_sentences, train_labels))\n",
    "\n",
    "unique_intents = list(set(train_labels))\n",
    "sampled_training_data = [random.choice([data for data in training_data if data[1] == intent]) for intent in unique_intents]\n",
    "\n",
    "# Sample additional training data if needed\n",
    "additional_samples_needed = max(0, num_training_samples - len(sampled_training_data))\n",
    "if additional_samples_needed > 0:\n",
    "    additional_samples = random.sample(training_data, additional_samples_needed)\n",
    "    sampled_training_data.extend(additional_samples)\n",
    "\n",
    "training_data_string = \"Training Data:\\n\"\n",
    "training_data_string += \"\\n\".join([f\"{sentence} - {intent}\" for sentence, intent in sampled_training_data])\n",
    "\n",
    "user_content_template = f\"{training_data_string}\\n\\nInput Sentence:\\n{{}}\"\n",
    "# # Function to query OpenAI API\n",
    "# def query_openai(input_sentence, sampled_sentences, sampled_intents):\n",
    "#     # Create the user content with sampled training data\n",
    "#     user_content = f\"{training_data_string}\\n\\nInput Sentence:\\n{input_sentence}\"\n",
    "\n",
    "#     # Query OpenAI API\n",
    "#     response = client.chat.completions.create(\n",
    "#         model=\"gpt-4o\",\n",
    "#         response_format={ \"type\": \"json_object\" },\n",
    "#         messages=[\n",
    "#             {\"role\": \"system\", \"content\": system_prompt},\n",
    "#             {\"role\": \"user\", \"content\": user_content}\n",
    "#         ]\n",
    "#     )\n",
    "#     response_content = response.choices[0].message.content\n",
    "#     response_json = json.loads(response_content)\n",
    "\n",
    "#     # Return the boolean and intent\n",
    "#     inscope = response_json[\"inscope\"]\n",
    "#     scope = response_json[\"scope\"]\n",
    "#     return inscope, scope\n"
   ]
  },
  {
   "cell_type": "code",
   "execution_count": 41,
   "id": "ffc9914d-818e-46f5-9d43-039e9c90e1c9",
   "metadata": {},
   "outputs": [],
   "source": [
    "# Combine test sentences and oos test sentences\n",
    "all_sentences = test_sentences + oos_test_sentences\n",
    "all_labels = test_labels + [\"oos\"] * len(oos_test_sentences)\n",
    "# Create JSONL entries\n",
    "\n",
    "jsonl_entries = []\n",
    "for index, sentence in enumerate(all_sentences):\n",
    "    user_content = user_content_template.format(sentence)\n",
    "    entry = {\n",
    "        \"custom_id\": f\"{index}\",\n",
    "        \"method\": \"POST\",\n",
    "        \"url\": \"/v1/chat/completions\",\n",
    "        \"body\": {\n",
    "            \"model\": \"gpt-3.5-turbo\",\n",
    "            \"response_format\": { \"type\": \"json_object\" },\n",
    "            \"messages\": [\n",
    "                {\"role\": \"system\", \"content\": system_prompt},\n",
    "                {\"role\": \"user\", \"content\": user_content}\n",
    "            ],\n",
    "            \"max_tokens\": 256\n",
    "        }\n",
    "    }\n",
    "    jsonl_entries.append(entry)\n",
    "\n"
   ]
  },
  {
   "cell_type": "code",
   "execution_count": 42,
   "id": "96e25a34-395a-4dae-86ed-70d039745d3e",
   "metadata": {},
   "outputs": [
    {
     "data": {
      "text/plain": [
       "5131"
      ]
     },
     "execution_count": 42,
     "metadata": {},
     "output_type": "execute_result"
    }
   ],
   "source": [
    "len(all_sentences)"
   ]
  },
  {
   "cell_type": "code",
   "execution_count": 43,
   "id": "66775c48-9308-41f7-8f04-ddd803dc4125",
   "metadata": {},
   "outputs": [],
   "source": [
    "# entries_per_file = 50\n",
    "# num_files = (len(jsonl_entries) + entries_per_file - 1) // entries_per_file\n",
    "\n",
    "# for i in range(num_files):\n",
    "#     start_index = i * entries_per_file\n",
    "#     end_index = min((i + 1) * entries_per_file, len(jsonl_entries))\n",
    "#     output_file = f'gpt3.5-t200-request-part{i+1}.jsonl'\n",
    "#     with open(output_file, 'w') as f:\n",
    "#         for entry in jsonl_entries[start_index:end_index]:\n",
    "#             f.write(json.dumps(entry) + '\\n')\n",
    "#     print(f\"JSONL file '{output_file}' created successfully.\")"
   ]
  },
  {
   "cell_type": "markdown",
   "id": "da1dc18f-824b-43c9-a488-ca5b383a6fb8",
   "metadata": {},
   "source": [
    "## upload file via file api"
   ]
  },
  {
   "cell_type": "code",
   "execution_count": 44,
   "id": "589d0574-e6ac-49f1-8abf-31d85750319f",
   "metadata": {},
   "outputs": [],
   "source": [
    "# batch_input_id = []\n",
    "# for i in range(1, num_files + 1):\n",
    "#         filename = f'gpt3.5-t200-request-part{i}.jsonl'\n",
    "#         response = client.files.create(file=open(filename, \"rb\"), purpose=\"batch\")\n",
    "#         file_id = response.id\n",
    "#         # Append the file ID to the list\n",
    "#         batch_input_id.append(file_id)"
   ]
  },
  {
   "cell_type": "markdown",
   "id": "1eefa5ce-7537-4624-9502-94807b22628c",
   "metadata": {},
   "source": [
    "## create batch and check every minute"
   ]
  },
  {
   "cell_type": "code",
   "execution_count": 45,
   "id": "f4f8dbb9-6191-40c2-aa57-4f6a4af7c35d",
   "metadata": {},
   "outputs": [],
   "source": [
    "# output_file_ids = []\n",
    "# i = 1\n",
    "# # Iterate over each input file ID and process the batch\n",
    "# for file_id in batch_input_id:\n",
    "#     # Create the batch\n",
    "#     batch_run = client.batches.create(\n",
    "#         input_file_id=file_id,\n",
    "#         endpoint=\"/v1/chat/completions\",\n",
    "#         completion_window=\"24h\"\n",
    "#     )\n",
    "    \n",
    "#     # Extract the batch ID\n",
    "#     batch_id = batch_run.id\n",
    "#     print(f\"Created batch with ID: {batch_id}\")\n",
    "    \n",
    "#     # Query the status of the batch until it is completed\n",
    "#     while True:\n",
    "#         batch_status = client.batches.retrieve(batch_id)\n",
    "#         status = batch_status.status\n",
    "#         print(f\"Batch {i} status: {status}\")\n",
    "        \n",
    "#         if status == \"completed\":\n",
    "#             # Save the output file ID\n",
    "#             output_file_id = batch_status.output_file_id\n",
    "#             print(f\"Batch {batch_id} completed. Output file ID: {output_file_id}\")\n",
    "#             output_file_ids.append(output_file_id)\n",
    "#             i += 1\n",
    "#             break\n",
    "#         elif status == \"failed\":\n",
    "#             print(f\"Batch {batch_id} failed.\")\n",
    "#             break\n",
    "        \n",
    "#         # Wait for 1 minute before querying again\n",
    "#         time.sleep(60)"
   ]
  },
  {
   "cell_type": "code",
   "execution_count": 46,
   "id": "c0681e35-1bd6-40c7-bb09-dff61ec3032d",
   "metadata": {},
   "outputs": [],
   "source": [
    "filepath = f\"gpt-response/gpt3-t200-response-{seed_value}.jsonl\"\n",
    "# with open(filepath, 'wb') as combined_output_file:\n",
    "#     for out_id in output_file_ids:\n",
    "#         content_response = client.files.content(out_id)\n",
    "#         content = content_response.read()\n",
    "#         combined_output_file.write(content)"
   ]
  },
  {
   "cell_type": "code",
   "execution_count": 47,
   "id": "e3add365-5bfc-4048-a061-bb3f4d6c88d1",
   "metadata": {},
   "outputs": [],
   "source": [
    "# import zipfile\n",
    "\n",
    "\n",
    "# with zipfile.ZipFile('gpt4o-t1000-requests.zip', 'w', zipfile.ZIP_DEFLATED) as zipf:\n",
    "#     for i in range(1, num_files + 1):\n",
    "#         filename = f'gpt4o-t1000-request-part{i}.jsonl'\n",
    "#         zipf.write(filename)\n",
    "\n",
    "# print(\"All parts have been zipped and compressed into 'gpt4o-t1000-requests.zip'\")\n"
   ]
  },
  {
   "cell_type": "markdown",
   "id": "7ed754b7-42c3-4b01-a032-fec26be944f1",
   "metadata": {},
   "source": [
    "# Analysis of Result"
   ]
  },
  {
   "cell_type": "code",
   "execution_count": 48,
   "id": "574c4783-8ead-455d-ba4f-911b6d1cfcc2",
   "metadata": {},
   "outputs": [],
   "source": [
    "responses = []\n",
    "with open(filepath, 'r') as file:\n",
    "    for line in file:\n",
    "        responses.append(json.loads(line))"
   ]
  },
  {
   "cell_type": "code",
   "execution_count": 49,
   "id": "9f2310c4-1f90-4e7a-910d-0279db1cb69a",
   "metadata": {},
   "outputs": [],
   "source": [
    "y_true = []\n",
    "y_pred = []\n",
    "predicted_intents = []\n",
    "for response in responses:\n",
    "    custom_id = int(response['custom_id'])\n",
    "    label = all_labels[custom_id]\n",
    "    y_true.append(1 if label == 'oos' else 0)\n",
    "\n",
    "    response_content = json.loads(response['response']['body']['choices'][0]['message']['content'])\n",
    "    inscope = response_content['inscope']\n",
    "    predicted_intent = response_content['scope'] if inscope else 'oos'\n",
    "    predicted_intents.append(predicted_intent)\n",
    "    y_pred.append(0 if inscope else 1) "
   ]
  },
  {
   "cell_type": "code",
   "execution_count": 50,
   "id": "700ed44f-7639-4266-a189-5b0f328c11db",
   "metadata": {},
   "outputs": [],
   "source": [
    "precision, recall, _ = precision_recall_curve(y_true, y_pred)\n",
    "fpr, tpr, _ = roc_curve(y_true, y_pred)\n",
    "\n",
    "aupr = auc(recall, precision)\n",
    "auroc = auc(fpr, tpr)\n"
   ]
  },
  {
   "cell_type": "code",
   "execution_count": 51,
   "id": "73e37057-28ce-4311-9333-e1bf43524a32",
   "metadata": {
    "scrolled": true
   },
   "outputs": [
    {
     "name": "stdout",
     "output_type": "stream",
     "text": [
      "AUPR: 0.6211814486458204\n",
      "AUROC: 0.6377038711684156\n"
     ]
    }
   ],
   "source": [
    "print(f'AUPR: {aupr}')\n",
    "print(f'AUROC: {auroc}')"
   ]
  },
  {
   "cell_type": "code",
   "execution_count": 52,
   "id": "2f506ca2-9894-42fa-b683-1842b7aa5025",
   "metadata": {},
   "outputs": [
    {
     "ename": "NameError",
     "evalue": "name 'average_precision_score' is not defined",
     "output_type": "error",
     "traceback": [
      "\u001b[0;31m---------------------------------------------------------------------------\u001b[0m",
      "\u001b[0;31mNameError\u001b[0m                                 Traceback (most recent call last)",
      "Cell \u001b[0;32mIn[52], line 1\u001b[0m\n\u001b[0;32m----> 1\u001b[0m aupr \u001b[38;5;241m=\u001b[39m \u001b[43maverage_precision_score\u001b[49m(y_true, y_scores)\n",
      "\u001b[0;31mNameError\u001b[0m: name 'average_precision_score' is not defined"
     ]
    }
   ],
   "source": [
    "aupr = average_precision_score(y_true, y_scores)"
   ]
  },
  {
   "cell_type": "code",
   "execution_count": 53,
   "id": "c6e32902-5aff-4d6e-bda9-8a0d37eaa518",
   "metadata": {},
   "outputs": [
    {
     "data": {
      "image/png": "[encoded data removed]",
      "text/plain": [
       "<Figure size 1200x600 with 2 Axes>"
      ]
     },
     "metadata": {},
     "output_type": "display_data"
    }
   ],
   "source": [
    "import matplotlib.pyplot as plt\n",
    "\n",
    "# Plot Precision-Recall curve\n",
    "plt.figure(figsize=(12, 6))\n",
    "plt.subplot(1, 2, 1)\n",
    "plt.plot(recall, precision, label='AUPR = %0.2f' % aupr)\n",
    "plt.xlabel('Recall')\n",
    "plt.ylabel('Precision')\n",
    "plt.title('Precision-Recall Curve')\n",
    "plt.legend()\n",
    "\n",
    "# Plot ROC curve\n",
    "plt.subplot(1, 2, 2)\n",
    "plt.plot(fpr, tpr, label='AUROC = %0.2f' % auroc)\n",
    "plt.plot([0, 1], [0, 1], 'k--')  # Dashed diagonal\n",
    "plt.xlabel('False Positive Rate')\n",
    "plt.ylabel('True Positive Rate')\n",
    "plt.title('ROC Curve')\n",
    "plt.legend()\n",
    "\n",
    "plt.show()\n"
   ]
  },
  {
   "cell_type": "code",
   "execution_count": null,
   "id": "eb747063-91ab-4276-a513-d6bf487c61b8",
   "metadata": {},
   "outputs": [],
   "source": [
    "system_prompt = '''\n",
    "You are an AI assistant specialized in natural language processing tasks. You will be provided with training samples consisting of sentences and their corresponding intents. Your task is to classify a given sentence's intent.\n",
    "Based on the provided training data, classify the input sentence and return a JSON object indicating the intent of the sentence. The intents must match exactly with the intents provided in the training data.\n",
    "return a JSON object with { intent: \"intent_name\" }.\n",
    "'''"
   ]
  },
  {
   "cell_type": "code",
   "execution_count": null,
   "id": "7f4158e8-80d8-4b56-a8b6-86802113f7b1",
   "metadata": {},
   "outputs": [],
   "source": [
    "# Combine test sentences and oos test sentences\n",
    "all_sentences = test_sentences\n",
    "all_labels = test_labels\n",
    "# Create JSONL entries\n",
    "\n",
    "jsonl_entries = []\n",
    "for index, sentence in enumerate(all_sentences):\n",
    "    user_content = user_content_template.format(sentence)\n",
    "    entry = {\n",
    "        \"custom_id\": f\"{index}\",\n",
    "        \"method\": \"POST\",\n",
    "        \"url\": \"/v1/chat/completions\",\n",
    "        \"body\": {\n",
    "            \"model\": \"gpt-3.5-turbo\",\n",
    "            \"response_format\": { \"type\": \"json_object\" },\n",
    "            \"messages\": [\n",
    "                {\"role\": \"system\", \"content\": system_prompt},\n",
    "                {\"role\": \"user\", \"content\": user_content}\n",
    "            ],\n",
    "            \"max_tokens\": 256\n",
    "        }\n",
    "    }\n",
    "    jsonl_entries.append(entry)\n",
    "    \n",
    "entries_per_file = 50\n",
    "num_files = (len(jsonl_entries) + entries_per_file - 1) // entries_per_file\n",
    "\n",
    "for i in range(num_files):\n",
    "    start_index = i * entries_per_file\n",
    "    end_index = min((i + 1) * entries_per_file, len(jsonl_entries))\n",
    "    output_file = f'gpt3.5-t200-classification-request-part{i+1}.jsonl'\n",
    "    with open(output_file, 'w') as f:\n",
    "        for entry in jsonl_entries[start_index:end_index]:\n",
    "            f.write(json.dumps(entry) + '\\n')\n",
    "    print(f\"JSONL file '{output_file}' created successfully.\")"
   ]
  },
  {
   "cell_type": "code",
   "execution_count": null,
   "id": "b9db16ea-bf63-4e54-854e-45e8ebca487b",
   "metadata": {},
   "outputs": [],
   "source": [
    "batch_input_id = []\n",
    "for i in range(1, num_files + 1):\n",
    "        filename = f'gpt3.5-t200-classification-request-part{i}.jsonl'\n",
    "        response = client.files.create(file=open(filename, \"rb\"), purpose=\"batch\")\n",
    "        file_id = response.id\n",
    "        # Append the file ID to the list\n",
    "        batch_input_id.append(file_id)"
   ]
  },
  {
   "cell_type": "code",
   "execution_count": null,
   "id": "5ae16da4-6268-4dc6-99c2-2eb65c997ac5",
   "metadata": {},
   "outputs": [],
   "source": [
    "len(batch_input_id)"
   ]
  },
  {
   "cell_type": "code",
   "execution_count": null,
   "id": "cc073039-21f5-40cd-86d6-6578bbbd0f4f",
   "metadata": {},
   "outputs": [],
   "source": [
    "i = 0\n",
    "output_file_ids = []\n",
    "# Iterate over each input file ID and process the batch\n",
    "for file_id in batch_input_id:\n",
    "    # Create the batch\n",
    "    batch_run = client.batches.create(\n",
    "        input_file_id=file_id,\n",
    "        endpoint=\"/v1/chat/completions\",\n",
    "        completion_window=\"24h\"\n",
    "    )\n",
    "    \n",
    "    # Extract the batch ID\n",
    "    batch_id = batch_run.id\n",
    "    print(f\"Created batch with ID: {batch_id}\")\n",
    "    \n",
    "    # Query the status of the batch until it is completed\n",
    "    while True:\n",
    "        batch_status = client.batches.retrieve(batch_id)\n",
    "        status = batch_status.status\n",
    "        print(f\"Batch {i} status: {status}\")\n",
    "        \n",
    "        if status == \"completed\":\n",
    "            # Save the output file ID\n",
    "            output_file_id = batch_status.output_file_id\n",
    "            print(f\"Batch {batch_id} completed. Output file ID: {output_file_id}\")\n",
    "            output_file_ids.append(output_file_id)\n",
    "            i += 1\n",
    "            break\n",
    "        elif status == \"failed\":\n",
    "            print(f\"Batch {batch_id} failed.\")\n",
    "            break\n",
    "        \n",
    "        # Wait for 1 minute before querying again\n",
    "        time.sleep(60)"
   ]
  },
  {
   "cell_type": "code",
   "execution_count": null,
   "id": "d5422f9c-83e5-4317-83aa-06998ebc03e3",
   "metadata": {},
   "outputs": [],
   "source": [
    "filepath = f\"gpt-response/gpt3-t200-classfication-{seed_value}.jsonl\"\n",
    "with open(filepath, 'wb') as combined_output_file:\n",
    "    for out_id in output_file_ids:\n",
    "        content_response = client.files.content(out_id)\n",
    "        content = content_response.read()\n",
    "        combined_output_file.write(content)"
   ]
  },
  {
   "cell_type": "code",
   "execution_count": null,
   "id": "f58bd9cc-68a6-416c-9715-3bb8967f6976",
   "metadata": {},
   "outputs": [],
   "source": [
    "responses = []\n",
    "with open(filepath, 'r') as file:\n",
    "    for line in file:\n",
    "        responses.append(json.loads(line))"
   ]
  },
  {
   "cell_type": "code",
   "execution_count": null,
   "id": "a9ad1244-62e5-4f29-b77c-22128bae4668",
   "metadata": {},
   "outputs": [],
   "source": [
    "true_in_scope_labels = []\n",
    "predicted_in_scope_labels = []\n",
    "for response in responses:\n",
    "    custom_id = int(response['custom_id'])\n",
    "    true_in_scope_labels.append(all_labels[custom_id])\n",
    "    response_content = json.loads(response['response']['body']['choices'][0]['message']['content'])\n",
    "    try:\n",
    "        predicted_intent = response_content['intent']\n",
    "        predicted_in_scope_labels.append(predicted_intent)\n",
    "    except:\n",
    "        print(response_content)\n"
   ]
  },
  {
   "cell_type": "code",
   "execution_count": null,
   "id": "b126fb3a-2e06-4ac6-8458-bef07339a9bd",
   "metadata": {},
   "outputs": [],
   "source": [
    "accuracy = accuracy_score(true_in_scope_labels, predicted_in_scope_labels)"
   ]
  },
  {
   "cell_type": "code",
   "execution_count": null,
   "id": "e76914b1-e597-419f-9f26-93e5fb475264",
   "metadata": {},
   "outputs": [],
   "source": [
    "print(f'Classification Accuracy (In-Scope): {accuracy}')"
   ]
  },
  {
   "cell_type": "code",
   "execution_count": null,
   "id": "0f62bf90-b1f1-4ca7-8aac-5fbaf7b27596",
   "metadata": {},
   "outputs": [],
   "source": []
  }
 ],
 "metadata": {
  "kernelspec": {
   "display_name": "Python 3 (ipykernel)",
   "language": "python",
   "name": "python3"
  },
  "language_info": {
   "codemirror_mode": {
    "name": "ipython",
    "version": 3
   },
   "file_extension": ".py",
   "mimetype": "text/x-python",
   "name": "python",
   "nbconvert_exporter": "python",
   "pygments_lexer": "ipython3",
   "version": "3.12.3"
  }
 },
 "nbformat": 4,
 "nbformat_minor": 5
}
