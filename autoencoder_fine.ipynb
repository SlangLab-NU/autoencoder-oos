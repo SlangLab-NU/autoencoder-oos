{
 "cells": [
  {
   "cell_type": "markdown",
   "id": "1897c26a-1cb2-4ad1-94d3-8cf70b70ee51",
   "metadata": {},
   "source": [
    "# Load Data"
   ]
  },
  {
   "cell_type": "code",
   "execution_count": 21,
   "id": "a3450eef-470e-4540-9c6a-99af76a5e966",
   "metadata": {
    "ExecuteTime": {
     "end_time": "2023-12-01T07:38:04.721661140Z",
     "start_time": "2023-12-01T07:38:03.867605995Z"
    }
   },
   "outputs": [],
   "source": [
    "import json\n",
    "import torch\n",
    "from sklearn.preprocessing import LabelEncoder\n",
    "from transformers import AutoModel, AutoTokenizer\n",
    "from torch.utils.data import DataLoader, Dataset\n",
    "from torch import nn\n",
    "import numpy as np\n",
    "from scipy.linalg import inv\n",
    "from torch.optim import Adam"
   ]
  },
  {
   "cell_type": "code",
   "execution_count": 22,
   "id": "e46987c4-1aba-4b4f-a803-23052ca77f96",
   "metadata": {
    "ExecuteTime": {
     "end_time": "2023-12-01T07:38:04.774005458Z",
     "start_time": "2023-12-01T07:38:04.723166259Z"
    }
   },
   "outputs": [],
   "source": [
    "# Load the dataset\n",
    "with open(\"clinc150_uci/data_full.json\", \"r\") as file:\n",
    "    data = json.load(file)\n",
    "# Extracting data\n",
    "train_data = data['train']\n",
    "val_data = data['val']\n",
    "test_data = data['test']\n",
    "\n",
    "oos_train_data = data['oos_train']\n",
    "oos_val_data = data['oos_val']\n",
    "oos_test_data = data['oos_test']\n",
    "\n",
    "# Get sentences and labels\n",
    "train_sentences = [item[0] for item in train_data]\n",
    "train_labels = [item[1] for item in train_data]\n",
    "\n",
    "val_sentences = [item[0] for item in val_data]\n",
    "val_labels = [item[1] for item in val_data]\n",
    "\n",
    "test_sentences = [item[0] for item in test_data]\n",
    "test_labels = [item[1] for item in test_data]\n",
    "\n",
    "oos_train_sentences = [item[0] for item in oos_train_data]\n",
    "oos_val_sentences = [item[0] for item in oos_val_data]\n",
    "oos_test_sentences = [item[0] for item in oos_test_data]\n"
   ]
  },
  {
   "cell_type": "markdown",
   "id": "9b12dd80-1971-4215-8486-8de1d655d5ed",
   "metadata": {},
   "source": [
    "# Encode Labels"
   ]
  },
  {
   "cell_type": "code",
   "execution_count": 23,
   "id": "92f9dd99-07c9-4e5a-993b-e73dfd0be95b",
   "metadata": {
    "ExecuteTime": {
     "end_time": "2023-12-01T07:38:05.423215976Z",
     "start_time": "2023-12-01T07:38:05.406651396Z"
    }
   },
   "outputs": [],
   "source": [
    "label_encoder = LabelEncoder()\n",
    "# Fit the label encoder and transform labels to integers\n",
    "encoded_train_labels = label_encoder.fit_transform(train_labels)\n",
    "encoded_val_labels = label_encoder.fit_transform(val_labels)"
   ]
  },
  {
   "cell_type": "code",
   "execution_count": 24,
   "id": "db936701-4cfa-4f39-a698-9f93b7f972ec",
   "metadata": {},
   "outputs": [],
   "source": [
    "# This is just for the transfomer model from ce to be loaded\n",
    "class TextClassifier(nn.Module):\n",
    "    def __init__(self, transformer_model, num_labels):\n",
    "        super(TextClassifier, self).__init__()\n",
    "        self.transformer = transformer_model\n",
    "        self.classifier = nn.Linear(self.transformer.config.hidden_size, num_labels)\n",
    "    \n",
    "    def forward(self, input_ids, attention_mask):\n",
    "        # Get the output from the transformer model\n",
    "        transformer_output = self.transformer(input_ids=input_ids, attention_mask=attention_mask)\n",
    "        sentence_embedding = transformer_output.last_hidden_state.max(dim=1).values\n",
    "        # Forward pass through the classifier layer\n",
    "        return self.classifier(sentence_embedding)"
   ]
  },
  {
   "cell_type": "markdown",
   "id": "a38c1c26-f71a-4395-8ef9-01b52c930fdc",
   "metadata": {},
   "source": [
    "# Tokenize our sentences and create Dataloaders"
   ]
  },
  {
   "cell_type": "code",
   "execution_count": 25,
   "id": "2d3db18c-5804-4f09-9f6b-1f3131415fa9",
   "metadata": {
    "ExecuteTime": {
     "end_time": "2023-12-01T07:38:07.327824427Z",
     "start_time": "2023-12-01T07:38:06.135883081Z"
    }
   },
   "outputs": [],
   "source": [
    "pretrained_model_name = \"distilroberta-base\"\n",
    "best_ce_model = torch.load(\"best_ce_model.pth\")\n",
    "tokenizer = AutoTokenizer.from_pretrained(pretrained_model_name)\n",
    "#transformer_model = best_ce_model.transformer\n",
    "transformer_model = AutoModel.from_pretrained(pretrained_model_name)\n",
    "class TextDataset(Dataset):\n",
    "    def __init__(self, sentences, labels, tokenizer, max_length=40):\n",
    "        self.encodings = tokenizer(sentences, truncation=True, padding=True, max_length=max_length)\n",
    "        self.labels = labels\n",
    "\n",
    "    def __getitem__(self, idx):\n",
    "        item = {key: torch.tensor(val[idx]) for key, val in self.encodings.items()}\n",
    "        item['labels'] = torch.tensor(self.labels[idx])\n",
    "        return item\n",
    "\n",
    "    def __len__(self):\n",
    "        return len(self.labels)\n",
    "\n",
    "# 2. Create the dataset\n",
    "max_length = 37 \n",
    "train_dataset = TextDataset(train_sentences, encoded_train_labels, tokenizer, max_length)\n",
    "val_dataset = TextDataset(val_sentences, encoded_val_labels, tokenizer, max_length)"
   ]
  },
  {
   "cell_type": "markdown",
   "id": "2d137706-db61-4152-80e7-8068e75e381f",
   "metadata": {},
   "source": [
    "# Define functions to encode our sentences"
   ]
  },
  {
   "cell_type": "code",
   "execution_count": 26,
   "id": "2952162c-8da1-4cae-ae22-5eb06fa41ec9",
   "metadata": {
    "ExecuteTime": {
     "end_time": "2023-12-01T07:38:07.931914441Z",
     "start_time": "2023-12-01T07:38:07.768420485Z"
    }
   },
   "outputs": [],
   "source": [
    "transformer_model.eval()\n",
    "device = torch.device(\"cuda\" if torch.cuda.is_available() else \"cpu\")\n",
    "transformer_model = transformer_model.to(device)\n",
    "def encode_sentences(model, sentences):\n",
    "    sentence_embeddings = []\n",
    "\n",
    "    for sentence in sentences:\n",
    "        encoded_input = tokenizer(sentence, return_tensors='pt', truncation=True, padding=True, max_length=max_length)\n",
    "        encoded_input = {k: v.to(device) for k, v in encoded_input.items()}\n",
    "        with torch.no_grad():\n",
    "            model_output = model(**encoded_input)\n",
    "\n",
    "        # Using pooler_output\n",
    "        sentence_embedding = model_output.pooler_output\n",
    "        sentence_embeddings.append(sentence_embedding.cpu().numpy())\n",
    "\n",
    "    sentence_embeddings_np = np.concatenate(sentence_embeddings, axis=0)\n",
    "    return sentence_embeddings_np\n"
   ]
  },
  {
   "cell_type": "markdown",
   "id": "f5de918d-3a50-4ea9-84d2-8d2d03a0fa4e",
   "metadata": {},
   "source": [
    "# Define our model"
   ]
  },
  {
   "cell_type": "code",
   "execution_count": 27,
   "id": "c586c9a1-9e7c-4fbe-9ff8-087d8bd5f6d4",
   "metadata": {
    "ExecuteTime": {
     "end_time": "2023-12-01T07:38:09.600227529Z",
     "start_time": "2023-12-01T07:38:09.154881377Z"
    }
   },
   "outputs": [],
   "source": [
    "transformer_model = AutoModel.from_pretrained(pretrained_model_name)\n",
    "import torch.nn as nn\n",
    "\n",
    "class TextClassifier(nn.Module):\n",
    "    def __init__(self, transformer_model):\n",
    "        super(TextClassifier, self).__init__()\n",
    "        self.transformer = transformer_model\n",
    "\n",
    "        # Encoder layers\n",
    "        self.encoder1 = nn.Linear(768, 512)\n",
    "        self.encoder2 = nn.Linear(512, 256)\n",
    "        self.encoder3 = nn.Linear(256, 128)\n",
    "        self.encoder4 = nn.Linear(128, 64)\n",
    "\n",
    "        # Decoder layers\n",
    "        self.decoder1 = nn.Linear(128, 256)\n",
    "        self.decoder2 = nn.Linear(256, 512)\n",
    "        self.decoder3 = nn.Linear(512, 768)\n",
    "\n",
    "    def forward(self, input_ids, attention_mask):\n",
    "        # Transformer model output\n",
    "        transformer_output = self.transformer(input_ids=input_ids, attention_mask=attention_mask)\n",
    "        original_embeddings = transformer_output.pooler_output\n",
    "\n",
    "        # Autoencoder forward pass\n",
    "        x = nn.functional.relu(self.encoder1(original_embeddings))\n",
    "        x = nn.functional.relu(self.encoder2(x))\n",
    "        x = nn.functional.relu(self.encoder3(x))\n",
    "        x = nn.functional.relu(self.decoder1(x))\n",
    "        x = nn.functional.relu(self.decoder2(x))\n",
    "        reconstructed_embeddings = self.decoder3(x)\n",
    "\n",
    "        return original_embeddings, reconstructed_embeddings\n"
   ]
  },
  {
   "cell_type": "markdown",
   "id": "f1940dba-2be2-43ec-94bc-7680692d2b43",
   "metadata": {},
   "source": [
    "# Define Reconstruction Loss"
   ]
  },
  {
   "cell_type": "code",
   "execution_count": 28,
   "id": "7079e12e-00fe-4fb7-82e2-bfb18be75400",
   "metadata": {
    "ExecuteTime": {
     "end_time": "2023-12-01T07:38:10.756886987Z",
     "start_time": "2023-12-01T07:38:10.755503502Z"
    }
   },
   "outputs": [],
   "source": [
    "class ReconstructionLoss(nn.Module):\n",
    "    def __init__(self):\n",
    "        super(ReconstructionLoss, self).__init__()\n",
    "        self.mse_loss = nn.MSELoss()\n",
    "\n",
    "    def forward(self, original_embeddings, reconstructed_embeddings):\n",
    "        return self.mse_loss(original_embeddings, reconstructed_embeddings)"
   ]
  },
  {
   "cell_type": "code",
   "execution_count": 29,
   "id": "122d1e5e-c984-48e2-8475-7842176d13d4",
   "metadata": {
    "ExecuteTime": {
     "end_time": "2023-12-01T07:38:11.368749731Z",
     "start_time": "2023-12-01T07:38:11.364897164Z"
    }
   },
   "outputs": [],
   "source": [
    "loss_function = ReconstructionLoss()"
   ]
  },
  {
   "cell_type": "markdown",
   "id": "98181737-c127-41a7-beb3-ab66172b9303",
   "metadata": {},
   "source": [
    "# Initiallize everything else we needed"
   ]
  },
  {
   "cell_type": "code",
   "execution_count": 51,
   "id": "c9836c07-b6b3-43e0-adf9-178ebcdcea68",
   "metadata": {
    "ExecuteTime": {
     "end_time": "2023-12-01T07:38:13.263966793Z",
     "start_time": "2023-12-01T07:38:12.771780958Z"
    }
   },
   "outputs": [],
   "source": [
    "pretrained_model_name = \"distilroberta-base\"\n",
    "unique_intents = list(set(train_labels)) \n",
    "transformer_model = AutoModel.from_pretrained(pretrained_model_name)\n",
    "transformer_model.to(device)\n",
    "model = TextClassifier(transformer_model)\n",
    "model.to(device)\n",
    "optimizer = Adam(model.parameters(), lr=2.25e-4)\n",
    "training_losses = []\n",
    "validation_losses = []\n",
    "batch_size= 64\n",
    "train_dataloader = DataLoader(train_dataset, batch_size=batch_size, shuffle=True)\n",
    "val_dataloader = DataLoader(val_dataset, batch_size=batch_size)"
   ]
  },
  {
   "cell_type": "code",
   "execution_count": 52,
   "id": "ed9508c7-081f-469a-96d2-16461816e58c",
   "metadata": {
    "ExecuteTime": {
     "end_time": "2023-12-01T07:38:13.956536576Z",
     "start_time": "2023-12-01T07:38:13.948457670Z"
    }
   },
   "outputs": [],
   "source": [
    "num_epochs = 50"
   ]
  },
  {
   "cell_type": "markdown",
   "id": "c0c9a636-af8e-4d4c-abb2-fc1370da38a3",
   "metadata": {},
   "source": [
    "# Training Loop!!!"
   ]
  },
  {
   "cell_type": "code",
   "execution_count": 53,
   "id": "903bf045-515e-4c93-999f-136d077d391c",
   "metadata": {
    "ExecuteTime": {
     "end_time": "2023-12-01T07:42:19.550420285Z",
     "start_time": "2023-12-01T07:38:15.626978073Z"
    }
   },
   "outputs": [
    {
     "name": "stdout",
     "output_type": "stream",
     "text": [
      "Epoch 1/50: Lower validation loss found. Model saved.\n",
      "Epoch 1/50, Training Loss: 1.23385e-03, Validation Loss: 7.88480e-06\n",
      "Epoch 2/50, Training Loss: 3.71490e-05, Validation Loss: 1.32680e-05\n",
      "Epoch 3/50: Lower validation loss found. Model saved.\n",
      "Epoch 3/50, Training Loss: 1.88775e-05, Validation Loss: 4.29941e-06\n",
      "Epoch 4/50: Lower validation loss found. Model saved.\n",
      "Epoch 4/50, Training Loss: 1.12089e-05, Validation Loss: 3.06950e-06\n",
      "Epoch 5/50: Lower validation loss found. Model saved.\n",
      "Epoch 5/50, Training Loss: 7.76921e-06, Validation Loss: 2.21657e-06\n",
      "Epoch 6/50, Training Loss: 2.39278e-05, Validation Loss: 2.69095e-06\n",
      "Epoch 7/50: Lower validation loss found. Model saved.\n",
      "Epoch 7/50, Training Loss: 7.01717e-06, Validation Loss: 1.90288e-06\n",
      "Epoch 8/50: Lower validation loss found. Model saved.\n",
      "Epoch 8/50, Training Loss: 5.40852e-06, Validation Loss: 1.80432e-06\n",
      "Epoch 9/50, Training Loss: 9.33591e-06, Validation Loss: 2.28063e-06\n",
      "Epoch 10/50, Training Loss: 2.97211e-06, Validation Loss: 2.01725e-06\n",
      "Epoch 11/50, Training Loss: 2.59349e-06, Validation Loss: 2.08577e-06\n",
      "Epoch 12/50, Training Loss: 2.16279e-06, Validation Loss: 1.97177e-06\n",
      "Epoch 13/50, Training Loss: 7.57264e-06, Validation Loss: 1.95996e-06\n",
      "Epoch 14/50, Training Loss: 2.60533e-06, Validation Loss: 2.16115e-06\n",
      "Epoch 15/50, Training Loss: 2.21826e-06, Validation Loss: 1.81026e-06\n",
      "Epoch 16/50: Lower validation loss found. Model saved.\n",
      "Epoch 16/50, Training Loss: 1.82851e-06, Validation Loss: 1.25333e-06\n",
      "Epoch 17/50, Training Loss: 7.63247e-06, Validation Loss: 3.50130e-06\n",
      "Epoch 18/50: Lower validation loss found. Model saved.\n",
      "Epoch 18/50, Training Loss: 2.07837e-06, Validation Loss: 8.72883e-07\n",
      "Epoch 19/50, Training Loss: 2.86444e-06, Validation Loss: 1.04093e-06\n",
      "Epoch 20/50: Lower validation loss found. Model saved.\n",
      "Epoch 20/50, Training Loss: 1.74114e-06, Validation Loss: 6.70931e-07\n",
      "Epoch 21/50, Training Loss: 2.29215e-06, Validation Loss: 9.84680e-07\n",
      "Epoch 22/50: Lower validation loss found. Model saved.\n",
      "Epoch 22/50, Training Loss: 5.61434e-06, Validation Loss: 5.72872e-07\n",
      "Epoch 23/50, Training Loss: 1.21172e-06, Validation Loss: 7.28554e-07\n",
      "Epoch 24/50, Training Loss: 4.31441e-06, Validation Loss: 8.27089e-07\n",
      "Epoch 25/50, Training Loss: 8.89725e-06, Validation Loss: 3.35759e-06\n",
      "Epoch 26/50, Training Loss: 1.23317e-06, Validation Loss: 1.01258e-06\n",
      "Epoch 27/50, Training Loss: 1.19602e-06, Validation Loss: 7.27387e-07\n",
      "Epoch 28/50, Training Loss: 7.51512e-07, Validation Loss: 1.48319e-06\n",
      "Epoch 29/50, Training Loss: 3.00282e-06, Validation Loss: 6.50044e-07\n",
      "Epoch 30/50, Training Loss: 8.79204e-07, Validation Loss: 6.65174e-07\n",
      "Epoch 31/50, Training Loss: 3.50514e-06, Validation Loss: 1.15823e-06\n",
      "Epoch 32/50, Training Loss: 1.29527e-06, Validation Loss: 1.30030e-06\n",
      "Epoch 33/50: Lower validation loss found. Model saved.\n",
      "Epoch 33/50, Training Loss: 2.64645e-06, Validation Loss: 3.18733e-07\n",
      "Epoch 34/50, Training Loss: 7.54119e-07, Validation Loss: 1.05427e-06\n",
      "Epoch 35/50, Training Loss: 1.08212e-06, Validation Loss: 8.02037e-07\n",
      "Epoch 36/50, Training Loss: 1.92471e-06, Validation Loss: 7.01854e-06\n",
      "Epoch 37/50, Training Loss: 2.05453e-06, Validation Loss: 3.96542e-07\n",
      "Epoch 38/50, Training Loss: 2.44777e-06, Validation Loss: 1.17025e-06\n",
      "Epoch 39/50: Lower validation loss found. Model saved.\n",
      "Epoch 39/50, Training Loss: 1.34239e-06, Validation Loss: 2.42250e-07\n",
      "Epoch 40/50, Training Loss: 2.99615e-07, Validation Loss: 3.10869e-07\n",
      "Epoch 41/50, Training Loss: 9.35333e-07, Validation Loss: 8.73070e-07\n",
      "Epoch 42/50, Training Loss: 2.32291e-06, Validation Loss: 2.71432e-07\n",
      "Epoch 43/50, Training Loss: 2.98467e-06, Validation Loss: 3.97702e-06\n",
      "Epoch 44/50, Training Loss: 8.83556e-07, Validation Loss: 4.35207e-07\n",
      "Epoch 45/50, Training Loss: 3.91423e-07, Validation Loss: 2.67540e-07\n",
      "Epoch 46/50, Training Loss: 9.88747e-07, Validation Loss: 1.62160e-06\n",
      "Epoch 47/50, Training Loss: 9.07801e-07, Validation Loss: 6.60614e-07\n",
      "Epoch 48/50, Training Loss: 5.04321e-07, Validation Loss: 3.42388e-07\n",
      "Epoch 49/50, Training Loss: 3.82083e-06, Validation Loss: 4.02909e-07\n",
      "Epoch 50/50, Training Loss: 4.28745e-07, Validation Loss: 4.80843e-07\n"
     ]
    }
   ],
   "source": [
    "best_val_loss = float('inf')\n",
    "for epoch in range(num_epochs):\n",
    "    # Training Phase\n",
    "    model.train()  # Set the model to training mode\n",
    "    total_train_loss = 0\n",
    "    for batch in train_dataloader:\n",
    "        input_ids, attention_mask, labels = batch['input_ids'].to(device), batch['attention_mask'].to(device), batch['labels'].to(device)\n",
    "        optimizer.zero_grad()  # Zero the gradients\n",
    "        original_embeddings, reconstructed_embeddings = model(input_ids, attention_mask)\n",
    "        loss = loss_function(original_embeddings, reconstructed_embeddings)\n",
    "        loss.backward()  # Backward pass\n",
    "        optimizer.step()  # Update weights\n",
    "\n",
    "        total_train_loss += loss.item()\n",
    "    \n",
    "    avg_train_loss = total_train_loss / len(train_dataloader)\n",
    "    training_losses.append(avg_train_loss) \n",
    "\n",
    "    # Validation Phase\n",
    "    model.eval()  # Set the model to evaluation mode\n",
    "    total_val_loss = 0\n",
    "    with torch.no_grad():  # Disable gradient calculations\n",
    "        for batch in val_dataloader:\n",
    "            input_ids, attention_mask, labels = batch['input_ids'].to(device), batch['attention_mask'].to(device), batch['labels'].to(device)\n",
    "            original_embeddings, reconstructed_embeddings = model(input_ids, attention_mask)\n",
    "            loss = loss_function(original_embeddings, reconstructed_embeddings)  # Compute loss\n",
    "            total_val_loss += loss.item()\n",
    "    avg_val_loss = total_val_loss / len(val_dataloader)\n",
    "    if avg_val_loss < best_val_loss:\n",
    "        best_val_loss = avg_val_loss\n",
    "        # Save the model\n",
    "        torch.save(model, 'best_autoencoder_model.pth')\n",
    "        print(f\"Epoch {epoch+1}/{num_epochs}: Lower validation loss found. Model saved.\")\n",
    "    validation_losses.append(avg_val_loss)\n",
    "    print(f\"Epoch {epoch+1}/{num_epochs}, Training Loss: {avg_train_loss:.5e}, Validation Loss: {avg_val_loss:.5e}\")"
   ]
  },
  {
   "cell_type": "markdown",
   "id": "a7e32293-8028-4ebe-8a10-3fc012782ad1",
   "metadata": {},
   "source": [
    "# Calculate means and covariance matrix"
   ]
  },
  {
   "cell_type": "code",
   "execution_count": 54,
   "id": "eba64b40-f47d-4a2b-9fe6-3839dc18890e",
   "metadata": {
    "ExecuteTime": {
     "end_time": "2023-12-01T07:42:27.299616993Z",
     "start_time": "2023-12-01T07:42:27.186388460Z"
    }
   },
   "outputs": [],
   "source": [
    "fine_model = torch.load(\"best_autoencoder_model.pth\")\n",
    "fine_model.eval()  # Put the model in evaluation mode\n",
    "fine_model = fine_model.to(device)"
   ]
  },
  {
   "cell_type": "code",
   "execution_count": 55,
   "id": "cab109d7d077e530",
   "metadata": {
    "ExecuteTime": {
     "end_time": "2023-12-01T07:42:27.735028721Z",
     "start_time": "2023-12-01T07:42:27.728227844Z"
    },
    "collapsed": false,
    "jupyter": {
     "outputs_hidden": false
    }
   },
   "outputs": [],
   "source": [
    "def encode_sentences(model, sentences):\n",
    "    # the mode here is TextClassifier\n",
    "\n",
    "    encoded_inputs = tokenizer(sentences, padding=True, truncation=True, return_tensors='pt', \n",
    "                               max_length=max_length)\n",
    "    input_ids = encoded_inputs['input_ids'].to(device)\n",
    "    attention_mask = encoded_inputs['attention_mask'].to(device)\n",
    "    with torch.no_grad():\n",
    "        model.eval()  # Ensure the model is in evaluation mode\n",
    "        original_embeddings, reconstructed_embeddings = model(input_ids, attention_mask)\n",
    "    return original_embeddings.cpu(), reconstructed_embeddings.cpu()"
   ]
  },
  {
   "cell_type": "code",
   "execution_count": 56,
   "id": "d313cc44-0e2c-4851-88c1-147dd23ac09e",
   "metadata": {
    "ExecuteTime": {
     "end_time": "2023-12-01T07:42:29.631025780Z",
     "start_time": "2023-12-01T07:42:28.516869555Z"
    }
   },
   "outputs": [],
   "source": [
    "test_org, test_rec = encode_sentences(fine_model, test_sentences)\n",
    "oos_test_org, oos_test_rec = encode_sentences(fine_model, oos_test_sentences)"
   ]
  },
  {
   "cell_type": "code",
   "execution_count": 57,
   "id": "1703d8d5-dbb7-47ab-a3b1-052d7e8dcbb3",
   "metadata": {},
   "outputs": [],
   "source": [
    "test_diffs = torch.mean((test_org - test_rec) ** 2, dim = 1).numpy()\n",
    "oos_test_diffs = torch.mean((oos_test_org - oos_test_rec) ** 2, dim = 1).numpy()"
   ]
  },
  {
   "cell_type": "code",
   "execution_count": 58,
   "id": "0b5bf5ab-e718-4a7a-a710-5512372b069f",
   "metadata": {
    "ExecuteTime": {
     "end_time": "2023-12-01T06:16:37.534713642Z",
     "start_time": "2023-12-01T06:16:37.249316569Z"
    }
   },
   "outputs": [
    {
     "data": {
      "image/png": "[encoded data removed]",
      "text/plain": [
       "<Figure size 1000x600 with 1 Axes>"
      ]
     },
     "metadata": {},
     "output_type": "display_data"
    }
   ],
   "source": [
    "import matplotlib.pyplot as plt\n",
    "\n",
    "# Set up the figure and axes\n",
    "plt.figure(figsize=(10, 6))\n",
    "\n",
    "# Plot the histograms\n",
    "plt.hist(test_diffs, bins=50, alpha=0.5, label='In-domain')\n",
    "plt.hist(oos_test_diffs, bins=50, alpha=0.5, label='Out-of-domain')\n",
    "\n",
    "# Add legend, title, and labels\n",
    "plt.legend(loc='upper right')\n",
    "plt.title('Distribution of Reconstruction Loss')\n",
    "plt.xlabel('MSE')\n",
    "plt.ylabel('Number of Samples')\n",
    "plt.grid(True, which='both', linestyle='--', linewidth=0.5)\n",
    "plt.tight_layout()\n",
    "\n",
    "# Show the plot\n",
    "plt.show()\n"
   ]
  },
  {
   "cell_type": "code",
   "execution_count": 59,
   "id": "25ad446a-9bf0-4850-93fa-56c99dbe35c2",
   "metadata": {},
   "outputs": [],
   "source": [
    "from sklearn.metrics import average_precision_score"
   ]
  },
  {
   "cell_type": "code",
   "execution_count": 60,
   "id": "07795d99-5725-4fed-a1d0-b1bb9dc6af54",
   "metadata": {},
   "outputs": [
    {
     "data": {
      "text/plain": [
       "0.15833828764071856"
      ]
     },
     "execution_count": 60,
     "metadata": {},
     "output_type": "execute_result"
    }
   ],
   "source": [
    "y_true = [0] * len(test_diffs) + [1] * len(oos_test_diffs)\n",
    "\n",
    "# Combine the scores\n",
    "y_scores = list(test_diffs) + list(oos_test_diffs)\n",
    "\n",
    "# Compute AUPR\n",
    "aupr = average_precision_score(y_true, y_scores)\n",
    "aupr"
   ]
  },
  {
   "cell_type": "code",
   "execution_count": null,
   "id": "ad89a179-c59b-4a2c-8932-c4d8aaf207f4",
   "metadata": {},
   "outputs": [],
   "source": []
  }
 ],
 "metadata": {
  "kernelspec": {
   "display_name": "Python 3 (ipykernel)",
   "language": "python",
   "name": "python3"
  },
  "language_info": {
   "codemirror_mode": {
    "name": "ipython",
    "version": 3
   },
   "file_extension": ".py",
   "mimetype": "text/x-python",
   "name": "python",
   "nbconvert_exporter": "python",
   "pygments_lexer": "ipython3",
   "version": "3.11.6"
  }
 },
 "nbformat": 4,
 "nbformat_minor": 5
}
