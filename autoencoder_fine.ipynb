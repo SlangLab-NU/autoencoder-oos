{
 "cells": [
  {
   "cell_type": "markdown",
   "id": "1897c26a-1cb2-4ad1-94d3-8cf70b70ee51",
   "metadata": {},
   "source": [
    "# Load Data"
   ]
  },
  {
   "cell_type": "code",
   "execution_count": 1,
   "id": "a3450eef-470e-4540-9c6a-99af76a5e966",
   "metadata": {
    "ExecuteTime": {
     "end_time": "2023-12-01T07:38:04.721661140Z",
     "start_time": "2023-12-01T07:38:03.867605995Z"
    }
   },
   "outputs": [],
   "source": [
    "import json\n",
    "import torch\n",
    "import random\n",
    "from sklearn.preprocessing import LabelEncoder\n",
    "from transformers import AutoModel, AutoTokenizer\n",
    "from torch.utils.data import DataLoader, Dataset\n",
    "from torch import nn\n",
    "import numpy as np\n",
    "from scipy.linalg import inv\n",
    "from torch.optim import Adam"
   ]
  },
  {
   "cell_type": "markdown",
   "id": "31f96c05-0753-42a0-a801-beb4c2aed962",
   "metadata": {},
   "source": [
    "# CLINC150"
   ]
  },
  {
   "cell_type": "code",
   "execution_count": 2,
   "id": "e46987c4-1aba-4b4f-a803-23052ca77f96",
   "metadata": {
    "ExecuteTime": {
     "end_time": "2023-12-01T07:38:04.774005458Z",
     "start_time": "2023-12-01T07:38:04.723166259Z"
    }
   },
   "outputs": [],
   "source": [
    "# Load the dataset\n",
    "with open(\"clinc150_uci/data_full.json\", \"r\") as file:\n",
    "    data = json.load(file)\n",
    "# Extracting data\n",
    "train_data = data['train']\n",
    "val_data = data['val']\n",
    "test_data = data['test']\n",
    "\n",
    "oos_train_data = data['oos_train']\n",
    "oos_val_data = data['oos_val']\n",
    "oos_test_data = data['oos_test']\n",
    "\n",
    "# Get sentences and labels\n",
    "train_sentences = [item[0] for item in train_data]\n",
    "train_labels = [item[1] for item in train_data]\n",
    "\n",
    "val_sentences = [item[0] for item in val_data]\n",
    "val_labels = [item[1] for item in val_data]\n",
    "\n",
    "test_sentences = [item[0] for item in test_data]\n",
    "test_labels = [item[1] for item in test_data]\n",
    "\n",
    "oos_train_sentences = [item[0] for item in oos_train_data]\n",
    "oos_val_sentences = [item[0] for item in oos_val_data]\n",
    "oos_test_sentences = [item[0] for item in oos_test_data]\n"
   ]
  },
  {
   "cell_type": "markdown",
   "id": "42b779be-a7df-4697-ae69-bba69171ac2c",
   "metadata": {},
   "source": [
    "# SLURP"
   ]
  },
  {
   "cell_type": "code",
   "execution_count": 3,
   "id": "d3b414e9-6912-4c60-95f4-7abd2a42d7d5",
   "metadata": {},
   "outputs": [],
   "source": [
    "# def load_data(file_path):\n",
    "#     sentences = []\n",
    "#     scenarios = []\n",
    "#     with open(file_path, 'r') as file:\n",
    "#         for line in file:\n",
    "#             data = json.loads(line)\n",
    "#             sentence = data.get('sentence', None)\n",
    "#             scenario = data.get('scenario', None)\n",
    "#             if sentence is not None and scenario is not None:\n",
    "#                 sentences.append(sentence)\n",
    "#                 scenarios.append(scenario)\n",
    "#     return sentences, scenarios\n",
    "\n",
    "# # Randomly select one domain to be out of scope\n",
    "# unique_scenarios = {'alarm', 'audio', 'calendar', 'cooking', 'datetime', 'email', 'general', 'iot', 'lists', 'music', 'news', 'play', 'qa', 'recommendation', 'social', 'takeaway', 'transport', 'weather'}\n",
    "# oos_scenario = random.choice(list(unique_scenarios))\n",
    "\n",
    "# # Load data from files\n",
    "# train_sentences, train_labels = load_data('slurp/dataset/slurp/train.jsonl')\n",
    "# val_sentences, val_labels = load_data('slurp/dataset/slurp/devel.jsonl')\n",
    "# test_sentences, test_labels = load_data('slurp/dataset/slurp/test.jsonl')\n",
    "\n",
    "# # Separate out of scope data\n",
    "# oos_train_data = [(s, l) for s, l in zip(train_sentences, train_labels) if l == oos_scenario]\n",
    "# oos_val_data = [(s, l) for s, l in zip(val_sentences, val_labels) if l == oos_scenario]\n",
    "# oos_test_data = [(s, l) for s, l in zip(test_sentences, test_labels) if l == oos_scenario]\n",
    "\n",
    "# # Remove out of scope data from original sets\n",
    "# train_data = [(s, l) for s, l in zip(train_sentences, train_labels) if l != oos_scenario]\n",
    "# val_data = [(s, l) for s, l in zip(val_sentences, val_labels) if l != oos_scenario]\n",
    "# test_data = [(s, l) for s, l in zip(test_sentences, test_labels) if l != oos_scenario]\n",
    "\n",
    "# # Extract sentences and labels\n",
    "# train_sentences = [item[0] for item in train_data]\n",
    "# train_labels = [item[1] for item in train_data]\n",
    "\n",
    "# val_sentences = [item[0] for item in val_data]\n",
    "# val_labels = [item[1] for item in val_data]\n",
    "\n",
    "# test_sentences = [item[0] for item in test_data]\n",
    "# test_labels = [item[1] for item in test_data]\n",
    "\n",
    "# oos_train_sentences = [item[0] for item in oos_train_data]\n",
    "# oos_val_sentences = [item[0] for item in oos_val_data]\n",
    "# oos_test_sentences = [item[0] for item in oos_test_data]"
   ]
  },
  {
   "cell_type": "code",
   "execution_count": 4,
   "id": "d591f29e-0d13-49d3-a11f-437e77287057",
   "metadata": {},
   "outputs": [
    {
     "ename": "NameError",
     "evalue": "name 'oos_scenario' is not defined",
     "output_type": "error",
     "traceback": [
      "\u001b[0;31m---------------------------------------------------------------------------\u001b[0m",
      "\u001b[0;31mNameError\u001b[0m                                 Traceback (most recent call last)",
      "Cell \u001b[0;32mIn[4], line 1\u001b[0m\n\u001b[0;32m----> 1\u001b[0m \u001b[43moos_scenario\u001b[49m\n",
      "\u001b[0;31mNameError\u001b[0m: name 'oos_scenario' is not defined"
     ]
    }
   ],
   "source": [
    "oos_scenario"
   ]
  },
  {
   "cell_type": "code",
   "execution_count": 3,
   "id": "1396e6d2-59bb-4c39-9c07-2893365b4c30",
   "metadata": {},
   "outputs": [
    {
     "data": {
      "text/plain": [
       "15000"
      ]
     },
     "execution_count": 3,
     "metadata": {},
     "output_type": "execute_result"
    }
   ],
   "source": [
    "len(train_sentences)"
   ]
  },
  {
   "cell_type": "markdown",
   "id": "9b12dd80-1971-4215-8486-8de1d655d5ed",
   "metadata": {},
   "source": [
    "# Encode Labels"
   ]
  },
  {
   "cell_type": "code",
   "execution_count": 38,
   "id": "92f9dd99-07c9-4e5a-993b-e73dfd0be95b",
   "metadata": {
    "ExecuteTime": {
     "end_time": "2023-12-01T07:38:05.423215976Z",
     "start_time": "2023-12-01T07:38:05.406651396Z"
    }
   },
   "outputs": [],
   "source": [
    "label_encoder = LabelEncoder()\n",
    "# Fit the label encoder and transform labels to integers\n",
    "encoded_train_labels = label_encoder.fit_transform(train_labels)\n",
    "encoded_val_labels = label_encoder.fit_transform(val_labels)"
   ]
  },
  {
   "cell_type": "code",
   "execution_count": 39,
   "id": "db936701-4cfa-4f39-a698-9f93b7f972ec",
   "metadata": {},
   "outputs": [],
   "source": [
    "# This is just for the transfomer model from ce to be loaded\n",
    "class TextClassifier(nn.Module):\n",
    "    def __init__(self, transformer_model, num_labels):\n",
    "        super(TextClassifier, self).__init__()\n",
    "        self.transformer = transformer_model\n",
    "        self.classifier = nn.Linear(self.transformer.config.hidden_size, num_labels)\n",
    "    \n",
    "    def forward(self, input_ids, attention_mask):\n",
    "        # Get the output from the transformer model\n",
    "        transformer_output = self.transformer(input_ids=input_ids, attention_mask=attention_mask)\n",
    "        sentence_embedding = transformer_output.last_hidden_state.max(dim=1).values\n",
    "        # Forward pass through the classifier layer\n",
    "        return self.classifier(sentence_embedding)"
   ]
  },
  {
   "cell_type": "markdown",
   "id": "a38c1c26-f71a-4395-8ef9-01b52c930fdc",
   "metadata": {},
   "source": [
    "# Tokenize our sentences and create Dataloaders"
   ]
  },
  {
   "cell_type": "code",
   "execution_count": 40,
   "id": "2d3db18c-5804-4f09-9f6b-1f3131415fa9",
   "metadata": {
    "ExecuteTime": {
     "end_time": "2023-12-01T07:38:07.327824427Z",
     "start_time": "2023-12-01T07:38:06.135883081Z"
    }
   },
   "outputs": [],
   "source": [
    "pretrained_model_name = \"distilroberta-base\"\n",
    "best_ce_model = torch.load(\"best_ce_model.pth\")\n",
    "tokenizer = AutoTokenizer.from_pretrained(pretrained_model_name)\n",
    "transformer_model = best_ce_model.transformer\n",
    "#transformer_model = AutoModel.from_pretrained(pretrained_model_name)\n"
   ]
  },
  {
   "cell_type": "code",
   "execution_count": 41,
   "id": "1ab67fd0-7073-4495-b464-8ecb4b2b3300",
   "metadata": {},
   "outputs": [
    {
     "name": "stdout",
     "output_type": "stream",
     "text": [
      "Max length for tokenizer: 37\n"
     ]
    }
   ],
   "source": [
    "tokenized_lengths = [len(tokenizer.encode(sentence, add_special_tokens=True)) for sentence in train_sentences]\n",
    "max_length = max(tokenized_lengths)\n",
    "print(f\"Max length for tokenizer: {max_length}\")"
   ]
  },
  {
   "cell_type": "code",
   "execution_count": 42,
   "id": "e9090dc4-fe28-4c23-b21b-5ba229eb8fe0",
   "metadata": {},
   "outputs": [],
   "source": [
    "class TextDataset(Dataset):\n",
    "    def __init__(self, sentences, labels, tokenizer, max_length):\n",
    "        self.encodings = tokenizer(sentences, truncation=True, padding=True, max_length=max_length)\n",
    "        self.labels = labels\n",
    "\n",
    "    def __getitem__(self, idx):\n",
    "        item = {key: torch.tensor(val[idx]) for key, val in self.encodings.items()}\n",
    "        item['labels'] = torch.tensor(self.labels[idx])\n",
    "        return item\n",
    "\n",
    "    def __len__(self):\n",
    "        return len(self.labels)\n",
    "\n",
    "# 2. Create the dataset\n",
    "train_dataset = TextDataset(train_sentences, encoded_train_labels, tokenizer, max_length)\n",
    "val_dataset = TextDataset(val_sentences, encoded_val_labels, tokenizer, max_length)"
   ]
  },
  {
   "cell_type": "markdown",
   "id": "2d137706-db61-4152-80e7-8068e75e381f",
   "metadata": {},
   "source": [
    "# Define functions to encode our sentences"
   ]
  },
  {
   "cell_type": "code",
   "execution_count": 43,
   "id": "5a8213f6-4be9-41e6-95cd-07d9fa53a58c",
   "metadata": {},
   "outputs": [],
   "source": [
    "device = torch.device(\"cuda\" if torch.cuda.is_available() else \"cpu\")"
   ]
  },
  {
   "cell_type": "code",
   "execution_count": 44,
   "id": "2952162c-8da1-4cae-ae22-5eb06fa41ec9",
   "metadata": {
    "ExecuteTime": {
     "end_time": "2023-12-01T07:38:07.931914441Z",
     "start_time": "2023-12-01T07:38:07.768420485Z"
    }
   },
   "outputs": [],
   "source": [
    "transformer_model.eval()\n",
    "transformer_model = transformer_model.to(device)\n",
    "def encode_sentences(model, sentences):\n",
    "    sentence_embeddings = []\n",
    "\n",
    "    for sentence in sentences:\n",
    "        encoded_input = tokenizer(sentence, return_tensors='pt', truncation=True, padding=True, max_length=max_length)\n",
    "        encoded_input = {k: v.to(device) for k, v in encoded_input.items()}\n",
    "        with torch.no_grad():\n",
    "            model_output = model(**encoded_input)\n",
    "\n",
    "        # Using pooler_output\n",
    "        sentence_embedding = model_output.last_hidden_state.max(dim=1).values\n",
    "        sentence_embeddings.append(sentence_embedding.cpu().numpy())\n",
    "\n",
    "    sentence_embeddings_np = np.concatenate(sentence_embeddings, axis=0)\n",
    "    return sentence_embeddings_np\n"
   ]
  },
  {
   "cell_type": "code",
   "execution_count": 47,
   "id": "86ece297-f93e-424b-9051-147ffa1f7bab",
   "metadata": {},
   "outputs": [],
   "source": [
    "test_before_fine = encode_sentences(transformer_model, test_sentences)"
   ]
  },
  {
   "cell_type": "code",
   "execution_count": 48,
   "id": "290d2076-317f-46ea-b662-b4c7ebf2a281",
   "metadata": {},
   "outputs": [
    {
     "data": {
      "text/plain": [
       "array([[-1.1863111 ,  0.08605812,  0.77187866, ..., -0.01427295,\n",
       "        -0.16371396,  0.05548896],\n",
       "       [-0.5211822 , -0.09334413,  0.8267136 , ...,  0.26234072,\n",
       "         0.52932113, -0.09267343],\n",
       "       [-0.63188165, -0.06009592,  0.69428515, ..., -0.26533237,\n",
       "         0.26582038, -0.7362463 ],\n",
       "       ...,\n",
       "       [ 0.20671664,  0.00756379, -0.00494014, ...,  2.1312742 ,\n",
       "         1.0233384 , -0.27835307],\n",
       "       [ 0.98594856, -0.4223319 ,  0.2975854 , ...,  0.86799765,\n",
       "         0.8066172 , -1.3825599 ],\n",
       "       [ 0.6144992 , -0.34527656,  0.43303347, ...,  1.8063234 ,\n",
       "         1.0846337 , -0.8968681 ]], dtype=float32)"
      ]
     },
     "execution_count": 48,
     "metadata": {},
     "output_type": "execute_result"
    }
   ],
   "source": [
    "test_before_fine"
   ]
  },
  {
   "cell_type": "markdown",
   "id": "f5de918d-3a50-4ea9-84d2-8d2d03a0fa4e",
   "metadata": {},
   "source": [
    "# Define our model"
   ]
  },
  {
   "cell_type": "code",
   "execution_count": 96,
   "id": "c586c9a1-9e7c-4fbe-9ff8-087d8bd5f6d4",
   "metadata": {
    "ExecuteTime": {
     "end_time": "2023-12-01T07:38:09.600227529Z",
     "start_time": "2023-12-01T07:38:09.154881377Z"
    }
   },
   "outputs": [],
   "source": [
    "class TextClassifier(nn.Module):\n",
    "    def __init__(self, transformer_model):\n",
    "        super(TextClassifier, self).__init__()\n",
    "        self.transformer = transformer_model\n",
    "        # Freeze transformer parameters\n",
    "        for param in self.transformer.parameters():\n",
    "            param.requires_grad = False\n",
    "        # Encoder layers\n",
    "        self.encoder1 = nn.Linear(768, 512)\n",
    "        self.encoder2 = nn.Linear(512, 256)\n",
    "        self.encoder3 = nn.Linear(256, 128)\n",
    "        # Decoder layers\n",
    "        self.decoder1 = nn.Linear(128, 256)   # Adjusted to match the output of encoder4\n",
    "        self.decoder2 = nn.Linear(256, 512)\n",
    "        self.decoder3 = nn.Linear(512, 768)\n",
    "\n",
    "    def forward(self, input_ids, attention_mask):\n",
    "        # Transformer model output\n",
    "        transformer_output = self.transformer(input_ids=input_ids, attention_mask=attention_mask)\n",
    "        original_embeddings = transformer_output.last_hidden_state.max(dim=1).values\n",
    "\n",
    "        # Autoencoder forward pass\n",
    "        x = nn.functional.tanh(self.encoder1(original_embeddings))\n",
    "        x = nn.functional.tanh(self.encoder2(x))\n",
    "        x = nn.functional.tanh(self.encoder3(x))\n",
    "        \n",
    "        x = nn.functional.tanh(self.decoder1(x))\n",
    "        x = nn.functional.tanh(self.decoder2(x))\n",
    "        reconstructed_embeddings = self.decoder3(x)\n",
    "\n",
    "        return original_embeddings, reconstructed_embeddings"
   ]
  },
  {
   "cell_type": "markdown",
   "id": "f1940dba-2be2-43ec-94bc-7680692d2b43",
   "metadata": {},
   "source": [
    "# Define Reconstruction Loss"
   ]
  },
  {
   "cell_type": "code",
   "execution_count": 97,
   "id": "7079e12e-00fe-4fb7-82e2-bfb18be75400",
   "metadata": {
    "ExecuteTime": {
     "end_time": "2023-12-01T07:38:10.756886987Z",
     "start_time": "2023-12-01T07:38:10.755503502Z"
    }
   },
   "outputs": [],
   "source": [
    "class ReconstructionLoss(nn.Module):\n",
    "    def __init__(self):\n",
    "        super(ReconstructionLoss, self).__init__()\n",
    "        self.mse_loss = nn.MSELoss()\n",
    "\n",
    "    def forward(self, original_embeddings, reconstructed_embeddings):\n",
    "        return self.mse_loss(original_embeddings, reconstructed_embeddings)"
   ]
  },
  {
   "cell_type": "code",
   "execution_count": 98,
   "id": "122d1e5e-c984-48e2-8475-7842176d13d4",
   "metadata": {
    "ExecuteTime": {
     "end_time": "2023-12-01T07:38:11.368749731Z",
     "start_time": "2023-12-01T07:38:11.364897164Z"
    }
   },
   "outputs": [],
   "source": [
    "loss_function = ReconstructionLoss()"
   ]
  },
  {
   "cell_type": "markdown",
   "id": "98181737-c127-41a7-beb3-ab66172b9303",
   "metadata": {},
   "source": [
    "# Initiallize everything else we needed"
   ]
  },
  {
   "cell_type": "code",
   "execution_count": 99,
   "id": "c9836c07-b6b3-43e0-adf9-178ebcdcea68",
   "metadata": {
    "ExecuteTime": {
     "end_time": "2023-12-01T07:38:13.263966793Z",
     "start_time": "2023-12-01T07:38:12.771780958Z"
    }
   },
   "outputs": [],
   "source": [
    "unique_intents = list(set(train_labels)) \n",
    "transformer_model.to(device)\n",
    "model = TextClassifier(transformer_model)\n",
    "model.to(device)\n",
    "optimizer = Adam(model.parameters(), lr=6e-4)\n",
    "training_losses = []\n",
    "validation_losses = []\n",
    "batch_size= 128\n",
    "train_dataloader = DataLoader(train_dataset, batch_size=batch_size, shuffle=True)\n",
    "val_dataloader = DataLoader(val_dataset, batch_size=batch_size)"
   ]
  },
  {
   "cell_type": "code",
   "execution_count": 100,
   "id": "ed9508c7-081f-469a-96d2-16461816e58c",
   "metadata": {
    "ExecuteTime": {
     "end_time": "2023-12-01T07:38:13.956536576Z",
     "start_time": "2023-12-01T07:38:13.948457670Z"
    }
   },
   "outputs": [],
   "source": [
    "num_epochs = 200"
   ]
  },
  {
   "cell_type": "markdown",
   "id": "c0c9a636-af8e-4d4c-abb2-fc1370da38a3",
   "metadata": {},
   "source": [
    "# Training Loop!!!"
   ]
  },
  {
   "cell_type": "code",
   "execution_count": 101,
   "id": "903bf045-515e-4c93-999f-136d077d391c",
   "metadata": {
    "ExecuteTime": {
     "end_time": "2023-12-01T07:42:19.550420285Z",
     "start_time": "2023-12-01T07:38:15.626978073Z"
    }
   },
   "outputs": [
    {
     "name": "stdout",
     "output_type": "stream",
     "text": [
      "Epoch 1/200: Lower validation loss found. Model saved.\n",
      "Epoch 1/200, Training Loss: 4.90130e-01, Validation Loss: 5.96348e-01\n",
      "Epoch 2/200: Lower validation loss found. Model saved.\n",
      "Epoch 2/200, Training Loss: 3.24828e-01, Validation Loss: 3.95856e-01\n",
      "Epoch 3/200: Lower validation loss found. Model saved.\n",
      "Epoch 3/200, Training Loss: 2.15057e-01, Validation Loss: 2.81774e-01\n",
      "Epoch 4/200: Lower validation loss found. Model saved.\n",
      "Epoch 4/200, Training Loss: 1.43897e-01, Validation Loss: 2.11261e-01\n",
      "Epoch 5/200: Lower validation loss found. Model saved.\n",
      "Epoch 5/200, Training Loss: 9.59431e-02, Validation Loss: 1.55365e-01\n",
      "Epoch 6/200: Lower validation loss found. Model saved.\n",
      "Epoch 6/200, Training Loss: 7.15703e-02, Validation Loss: 1.40391e-01\n",
      "Epoch 7/200: Lower validation loss found. Model saved.\n",
      "Epoch 7/200, Training Loss: 6.09687e-02, Validation Loss: 1.26552e-01\n",
      "Epoch 8/200: Lower validation loss found. Model saved.\n",
      "Epoch 8/200, Training Loss: 5.64718e-02, Validation Loss: 1.22849e-01\n",
      "Epoch 9/200: Lower validation loss found. Model saved.\n",
      "Epoch 9/200, Training Loss: 5.36804e-02, Validation Loss: 1.16883e-01\n",
      "Epoch 10/200: Lower validation loss found. Model saved.\n",
      "Epoch 10/200, Training Loss: 5.20913e-02, Validation Loss: 1.13488e-01\n",
      "Epoch 11/200: Lower validation loss found. Model saved.\n",
      "Epoch 11/200, Training Loss: 5.08376e-02, Validation Loss: 1.12220e-01\n",
      "Epoch 12/200: Lower validation loss found. Model saved.\n",
      "Epoch 12/200, Training Loss: 4.98327e-02, Validation Loss: 1.07948e-01\n",
      "Epoch 13/200: Lower validation loss found. Model saved.\n",
      "Epoch 13/200, Training Loss: 4.86676e-02, Validation Loss: 1.04585e-01\n",
      "Epoch 14/200: Lower validation loss found. Model saved.\n",
      "Epoch 14/200, Training Loss: 4.78557e-02, Validation Loss: 1.03200e-01\n",
      "Epoch 15/200: Lower validation loss found. Model saved.\n",
      "Epoch 15/200, Training Loss: 4.68629e-02, Validation Loss: 1.02866e-01\n",
      "Epoch 16/200: Lower validation loss found. Model saved.\n",
      "Epoch 16/200, Training Loss: 4.62575e-02, Validation Loss: 1.01136e-01\n",
      "Epoch 17/200: Lower validation loss found. Model saved.\n",
      "Epoch 17/200, Training Loss: 4.55992e-02, Validation Loss: 9.86449e-02\n",
      "Epoch 18/200: Lower validation loss found. Model saved.\n",
      "Epoch 18/200, Training Loss: 4.47971e-02, Validation Loss: 9.80333e-02\n",
      "Epoch 19/200: Lower validation loss found. Model saved.\n",
      "Epoch 19/200, Training Loss: 4.40801e-02, Validation Loss: 9.65668e-02\n",
      "Epoch 20/200: Lower validation loss found. Model saved.\n",
      "Epoch 20/200, Training Loss: 4.37295e-02, Validation Loss: 9.52518e-02\n",
      "Epoch 21/200: Lower validation loss found. Model saved.\n",
      "Epoch 21/200, Training Loss: 4.31861e-02, Validation Loss: 9.52396e-02\n",
      "Epoch 22/200: Lower validation loss found. Model saved.\n",
      "Epoch 22/200, Training Loss: 4.27119e-02, Validation Loss: 9.51070e-02\n",
      "Epoch 23/200: Lower validation loss found. Model saved.\n",
      "Epoch 23/200, Training Loss: 4.22454e-02, Validation Loss: 9.43118e-02\n",
      "Epoch 24/200, Training Loss: 4.17586e-02, Validation Loss: 9.50859e-02\n",
      "Epoch 25/200: Lower validation loss found. Model saved.\n",
      "Epoch 25/200, Training Loss: 4.14062e-02, Validation Loss: 9.24762e-02\n",
      "Epoch 26/200, Training Loss: 4.11319e-02, Validation Loss: 9.43600e-02\n",
      "Epoch 27/200, Training Loss: 4.04459e-02, Validation Loss: 9.33439e-02\n",
      "Epoch 28/200, Training Loss: 4.02092e-02, Validation Loss: 9.54698e-02\n",
      "Epoch 29/200: Lower validation loss found. Model saved.\n",
      "Epoch 29/200, Training Loss: 3.99547e-02, Validation Loss: 9.23340e-02\n",
      "Epoch 30/200, Training Loss: 3.94428e-02, Validation Loss: 9.44275e-02\n",
      "Epoch 31/200, Training Loss: 3.90853e-02, Validation Loss: 9.38876e-02\n",
      "Epoch 32/200, Training Loss: 3.88606e-02, Validation Loss: 9.27910e-02\n",
      "Epoch 33/200: Lower validation loss found. Model saved.\n",
      "Epoch 33/200, Training Loss: 3.85925e-02, Validation Loss: 9.23274e-02\n",
      "Epoch 34/200, Training Loss: 3.83078e-02, Validation Loss: 9.38308e-02\n",
      "Epoch 35/200, Training Loss: 3.80960e-02, Validation Loss: 9.36834e-02\n",
      "Epoch 36/200, Training Loss: 3.78511e-02, Validation Loss: 9.28760e-02\n",
      "Epoch 37/200, Training Loss: 3.75023e-02, Validation Loss: 9.70580e-02\n",
      "Epoch 38/200, Training Loss: 3.73726e-02, Validation Loss: 9.53302e-02\n",
      "Epoch 39/200, Training Loss: 3.70162e-02, Validation Loss: 9.52459e-02\n",
      "Epoch 40/200, Training Loss: 3.67956e-02, Validation Loss: 9.39200e-02\n",
      "Epoch 41/200, Training Loss: 3.66627e-02, Validation Loss: 9.58252e-02\n",
      "Epoch 42/200, Training Loss: 3.63448e-02, Validation Loss: 9.46905e-02\n",
      "Epoch 43/200, Training Loss: 3.61197e-02, Validation Loss: 9.55174e-02\n",
      "Epoch 44/200, Training Loss: 3.59938e-02, Validation Loss: 9.81619e-02\n",
      "Epoch 45/200, Training Loss: 3.58277e-02, Validation Loss: 9.76894e-02\n",
      "Epoch 46/200, Training Loss: 3.56776e-02, Validation Loss: 9.63755e-02\n",
      "Epoch 47/200, Training Loss: 3.55017e-02, Validation Loss: 9.61157e-02\n",
      "Epoch 48/200, Training Loss: 3.51507e-02, Validation Loss: 9.81026e-02\n",
      "Epoch 49/200, Training Loss: 3.50931e-02, Validation Loss: 9.81215e-02\n",
      "Epoch 50/200, Training Loss: 3.49960e-02, Validation Loss: 9.65176e-02\n",
      "Epoch 51/200, Training Loss: 3.48020e-02, Validation Loss: 9.76416e-02\n",
      "Epoch 52/200, Training Loss: 3.45568e-02, Validation Loss: 1.00068e-01\n",
      "Epoch 53/200, Training Loss: 3.45654e-02, Validation Loss: 9.49759e-02\n",
      "Epoch 54/200, Training Loss: 3.45813e-02, Validation Loss: 9.94903e-02\n",
      "Epoch 55/200, Training Loss: 3.42476e-02, Validation Loss: 9.95660e-02\n",
      "Epoch 56/200, Training Loss: 3.40716e-02, Validation Loss: 9.93686e-02\n",
      "Epoch 57/200, Training Loss: 3.40147e-02, Validation Loss: 9.82696e-02\n",
      "Epoch 58/200, Training Loss: 3.39244e-02, Validation Loss: 1.04504e-01\n",
      "Epoch 59/200, Training Loss: 3.38020e-02, Validation Loss: 1.00259e-01\n",
      "Epoch 60/200, Training Loss: 3.35940e-02, Validation Loss: 1.02560e-01\n",
      "Epoch 61/200, Training Loss: 3.36667e-02, Validation Loss: 1.01672e-01\n",
      "Epoch 62/200, Training Loss: 3.34731e-02, Validation Loss: 1.04812e-01\n",
      "Epoch 63/200, Training Loss: 3.33071e-02, Validation Loss: 1.03314e-01\n",
      "Epoch 64/200, Training Loss: 3.32033e-02, Validation Loss: 1.04815e-01\n",
      "Epoch 65/200, Training Loss: 3.31426e-02, Validation Loss: 1.03603e-01\n",
      "Epoch 66/200, Training Loss: 3.31607e-02, Validation Loss: 1.06807e-01\n",
      "Epoch 67/200, Training Loss: 3.29316e-02, Validation Loss: 1.04401e-01\n",
      "Epoch 68/200, Training Loss: 3.28906e-02, Validation Loss: 1.05857e-01\n",
      "Epoch 69/200, Training Loss: 3.27129e-02, Validation Loss: 1.04185e-01\n",
      "Epoch 70/200, Training Loss: 3.27676e-02, Validation Loss: 1.06185e-01\n",
      "Epoch 71/200, Training Loss: 3.26800e-02, Validation Loss: 1.07025e-01\n",
      "Epoch 72/200, Training Loss: 3.25680e-02, Validation Loss: 1.06502e-01\n",
      "Epoch 73/200, Training Loss: 3.25918e-02, Validation Loss: 1.09270e-01\n",
      "Epoch 74/200, Training Loss: 3.24906e-02, Validation Loss: 1.08930e-01\n",
      "Epoch 75/200, Training Loss: 3.25330e-02, Validation Loss: 1.09027e-01\n",
      "Epoch 76/200, Training Loss: 3.24203e-02, Validation Loss: 1.08573e-01\n",
      "Epoch 77/200, Training Loss: 3.22840e-02, Validation Loss: 1.09273e-01\n",
      "Epoch 78/200, Training Loss: 3.21553e-02, Validation Loss: 1.11601e-01\n",
      "Epoch 79/200, Training Loss: 3.21622e-02, Validation Loss: 1.11225e-01\n",
      "Epoch 80/200, Training Loss: 3.21471e-02, Validation Loss: 1.10794e-01\n",
      "Epoch 81/200, Training Loss: 3.20368e-02, Validation Loss: 1.13353e-01\n",
      "Epoch 82/200, Training Loss: 3.20546e-02, Validation Loss: 1.14236e-01\n",
      "Epoch 83/200, Training Loss: 3.20165e-02, Validation Loss: 1.14658e-01\n",
      "Epoch 84/200, Training Loss: 3.19599e-02, Validation Loss: 1.12782e-01\n",
      "Epoch 85/200, Training Loss: 3.18349e-02, Validation Loss: 1.13748e-01\n",
      "Epoch 86/200, Training Loss: 3.17537e-02, Validation Loss: 1.14256e-01\n",
      "Epoch 87/200, Training Loss: 3.17705e-02, Validation Loss: 1.15696e-01\n",
      "Epoch 88/200, Training Loss: 3.16440e-02, Validation Loss: 1.14991e-01\n",
      "Epoch 89/200, Training Loss: 3.16653e-02, Validation Loss: 1.15479e-01\n",
      "Epoch 90/200, Training Loss: 3.16355e-02, Validation Loss: 1.15286e-01\n",
      "Epoch 91/200, Training Loss: 3.17162e-02, Validation Loss: 1.18777e-01\n",
      "Epoch 92/200, Training Loss: 3.15172e-02, Validation Loss: 1.16561e-01\n",
      "Epoch 93/200, Training Loss: 3.14550e-02, Validation Loss: 1.20487e-01\n",
      "Epoch 94/200, Training Loss: 3.14766e-02, Validation Loss: 1.18653e-01\n",
      "Epoch 95/200, Training Loss: 3.14376e-02, Validation Loss: 1.17546e-01\n",
      "Epoch 96/200, Training Loss: 3.13632e-02, Validation Loss: 1.16964e-01\n",
      "Epoch 97/200, Training Loss: 3.13112e-02, Validation Loss: 1.18182e-01\n",
      "Epoch 98/200, Training Loss: 3.13644e-02, Validation Loss: 1.17494e-01\n",
      "Epoch 99/200, Training Loss: 3.13027e-02, Validation Loss: 1.18910e-01\n",
      "Epoch 100/200, Training Loss: 3.12284e-02, Validation Loss: 1.19903e-01\n",
      "Epoch 101/200, Training Loss: 3.11384e-02, Validation Loss: 1.19830e-01\n",
      "Epoch 102/200, Training Loss: 3.12646e-02, Validation Loss: 1.21848e-01\n",
      "Epoch 103/200, Training Loss: 3.11766e-02, Validation Loss: 1.21382e-01\n",
      "Epoch 104/200, Training Loss: 3.11377e-02, Validation Loss: 1.22885e-01\n",
      "Epoch 105/200, Training Loss: 3.11347e-02, Validation Loss: 1.20558e-01\n",
      "Epoch 106/200, Training Loss: 3.09427e-02, Validation Loss: 1.21243e-01\n",
      "Epoch 107/200, Training Loss: 3.10774e-02, Validation Loss: 1.20812e-01\n",
      "Epoch 108/200, Training Loss: 3.10450e-02, Validation Loss: 1.23474e-01\n",
      "Epoch 109/200, Training Loss: 3.10476e-02, Validation Loss: 1.23041e-01\n",
      "Epoch 110/200, Training Loss: 3.08161e-02, Validation Loss: 1.21412e-01\n",
      "Epoch 111/200, Training Loss: 3.08863e-02, Validation Loss: 1.23294e-01\n",
      "Epoch 112/200, Training Loss: 3.08604e-02, Validation Loss: 1.23248e-01\n",
      "Epoch 113/200, Training Loss: 3.08381e-02, Validation Loss: 1.22914e-01\n",
      "Epoch 114/200, Training Loss: 3.07496e-02, Validation Loss: 1.20588e-01\n",
      "Epoch 115/200, Training Loss: 3.08129e-02, Validation Loss: 1.24711e-01\n",
      "Epoch 116/200, Training Loss: 3.09162e-02, Validation Loss: 1.23076e-01\n",
      "Epoch 117/200, Training Loss: 3.07923e-02, Validation Loss: 1.22258e-01\n",
      "Epoch 118/200, Training Loss: 3.07044e-02, Validation Loss: 1.22080e-01\n",
      "Epoch 119/200, Training Loss: 3.07951e-02, Validation Loss: 1.21812e-01\n",
      "Epoch 120/200, Training Loss: 3.08125e-02, Validation Loss: 1.22751e-01\n",
      "Epoch 121/200, Training Loss: 3.07427e-02, Validation Loss: 1.22890e-01\n",
      "Epoch 122/200, Training Loss: 3.06016e-02, Validation Loss: 1.25026e-01\n",
      "Epoch 123/200, Training Loss: 3.05604e-02, Validation Loss: 1.24233e-01\n",
      "Epoch 124/200, Training Loss: 3.06837e-02, Validation Loss: 1.25262e-01\n",
      "Epoch 125/200, Training Loss: 3.05534e-02, Validation Loss: 1.25188e-01\n",
      "Epoch 126/200, Training Loss: 3.05570e-02, Validation Loss: 1.25251e-01\n",
      "Epoch 127/200, Training Loss: 3.06211e-02, Validation Loss: 1.24121e-01\n",
      "Epoch 128/200, Training Loss: 3.06299e-02, Validation Loss: 1.21726e-01\n",
      "Epoch 129/200, Training Loss: 3.05327e-02, Validation Loss: 1.23234e-01\n",
      "Epoch 130/200, Training Loss: 3.04539e-02, Validation Loss: 1.24519e-01\n",
      "Epoch 131/200, Training Loss: 3.03712e-02, Validation Loss: 1.23451e-01\n",
      "Epoch 132/200, Training Loss: 3.04165e-02, Validation Loss: 1.21607e-01\n",
      "Epoch 133/200, Training Loss: 3.04648e-02, Validation Loss: 1.25139e-01\n",
      "Epoch 134/200, Training Loss: 3.03756e-02, Validation Loss: 1.23336e-01\n",
      "Epoch 135/200, Training Loss: 3.04323e-02, Validation Loss: 1.23636e-01\n",
      "Epoch 136/200, Training Loss: 3.04320e-02, Validation Loss: 1.22156e-01\n",
      "Epoch 137/200, Training Loss: 3.04091e-02, Validation Loss: 1.22632e-01\n",
      "Epoch 138/200, Training Loss: 3.02927e-02, Validation Loss: 1.23020e-01\n",
      "Epoch 139/200, Training Loss: 3.01824e-02, Validation Loss: 1.20795e-01\n",
      "Epoch 140/200, Training Loss: 3.02420e-02, Validation Loss: 1.23479e-01\n",
      "Epoch 141/200, Training Loss: 3.02545e-02, Validation Loss: 1.24685e-01\n",
      "Epoch 142/200, Training Loss: 3.02874e-02, Validation Loss: 1.22352e-01\n",
      "Epoch 143/200, Training Loss: 3.03298e-02, Validation Loss: 1.22468e-01\n",
      "Epoch 144/200, Training Loss: 3.02001e-02, Validation Loss: 1.23352e-01\n",
      "Epoch 145/200, Training Loss: 3.01889e-02, Validation Loss: 1.22593e-01\n",
      "Epoch 146/200, Training Loss: 3.03188e-02, Validation Loss: 1.22413e-01\n",
      "Epoch 147/200, Training Loss: 3.01687e-02, Validation Loss: 1.22917e-01\n",
      "Epoch 148/200, Training Loss: 3.02791e-02, Validation Loss: 1.25417e-01\n",
      "Epoch 149/200, Training Loss: 3.01402e-02, Validation Loss: 1.24114e-01\n",
      "Epoch 150/200, Training Loss: 3.01179e-02, Validation Loss: 1.24858e-01\n",
      "Epoch 151/200, Training Loss: 3.00200e-02, Validation Loss: 1.25045e-01\n",
      "Epoch 152/200, Training Loss: 3.01933e-02, Validation Loss: 1.25029e-01\n",
      "Epoch 153/200, Training Loss: 3.00699e-02, Validation Loss: 1.24695e-01\n",
      "Epoch 154/200, Training Loss: 3.00186e-02, Validation Loss: 1.23971e-01\n",
      "Epoch 155/200, Training Loss: 3.01442e-02, Validation Loss: 1.22071e-01\n",
      "Epoch 156/200, Training Loss: 2.99477e-02, Validation Loss: 1.24261e-01\n",
      "Epoch 157/200, Training Loss: 3.00080e-02, Validation Loss: 1.22587e-01\n",
      "Epoch 158/200, Training Loss: 3.00137e-02, Validation Loss: 1.24919e-01\n",
      "Epoch 159/200, Training Loss: 3.00058e-02, Validation Loss: 1.20975e-01\n",
      "Epoch 160/200, Training Loss: 2.99828e-02, Validation Loss: 1.21687e-01\n",
      "Epoch 161/200, Training Loss: 2.99331e-02, Validation Loss: 1.23198e-01\n",
      "Epoch 162/200, Training Loss: 3.00241e-02, Validation Loss: 1.22520e-01\n",
      "Epoch 163/200, Training Loss: 2.98892e-02, Validation Loss: 1.23003e-01\n",
      "Epoch 164/200, Training Loss: 2.98893e-02, Validation Loss: 1.24662e-01\n",
      "Epoch 165/200, Training Loss: 2.99481e-02, Validation Loss: 1.22862e-01\n",
      "Epoch 166/200, Training Loss: 2.98879e-02, Validation Loss: 1.24698e-01\n",
      "Epoch 167/200, Training Loss: 2.98386e-02, Validation Loss: 1.22148e-01\n",
      "Epoch 168/200, Training Loss: 2.98783e-02, Validation Loss: 1.21537e-01\n",
      "Epoch 169/200, Training Loss: 2.99738e-02, Validation Loss: 1.22763e-01\n",
      "Epoch 170/200, Training Loss: 2.98502e-02, Validation Loss: 1.22757e-01\n",
      "Epoch 171/200, Training Loss: 2.97815e-02, Validation Loss: 1.20198e-01\n",
      "Epoch 172/200, Training Loss: 2.97613e-02, Validation Loss: 1.20770e-01\n",
      "Epoch 173/200, Training Loss: 2.97579e-02, Validation Loss: 1.21636e-01\n",
      "Epoch 174/200, Training Loss: 2.97935e-02, Validation Loss: 1.20057e-01\n",
      "Epoch 175/200, Training Loss: 2.97989e-02, Validation Loss: 1.21942e-01\n",
      "Epoch 176/200, Training Loss: 2.97710e-02, Validation Loss: 1.19781e-01\n",
      "Epoch 177/200, Training Loss: 2.97188e-02, Validation Loss: 1.23331e-01\n",
      "Epoch 178/200, Training Loss: 2.98100e-02, Validation Loss: 1.21599e-01\n",
      "Epoch 179/200, Training Loss: 2.96619e-02, Validation Loss: 1.21693e-01\n",
      "Epoch 180/200, Training Loss: 2.98113e-02, Validation Loss: 1.20623e-01\n",
      "Epoch 181/200, Training Loss: 2.96678e-02, Validation Loss: 1.20463e-01\n",
      "Epoch 182/200, Training Loss: 2.96384e-02, Validation Loss: 1.21308e-01\n",
      "Epoch 183/200, Training Loss: 2.96286e-02, Validation Loss: 1.20942e-01\n",
      "Epoch 184/200, Training Loss: 2.95892e-02, Validation Loss: 1.19606e-01\n",
      "Epoch 185/200, Training Loss: 2.96520e-02, Validation Loss: 1.23127e-01\n",
      "Epoch 186/200, Training Loss: 2.95824e-02, Validation Loss: 1.22606e-01\n",
      "Epoch 187/200, Training Loss: 2.96850e-02, Validation Loss: 1.21042e-01\n",
      "Epoch 188/200, Training Loss: 2.96045e-02, Validation Loss: 1.23664e-01\n",
      "Epoch 189/200, Training Loss: 2.96065e-02, Validation Loss: 1.21855e-01\n",
      "Epoch 190/200, Training Loss: 2.96223e-02, Validation Loss: 1.21661e-01\n",
      "Epoch 191/200, Training Loss: 2.95703e-02, Validation Loss: 1.19333e-01\n",
      "Epoch 192/200, Training Loss: 2.96145e-02, Validation Loss: 1.19882e-01\n",
      "Epoch 193/200, Training Loss: 2.96457e-02, Validation Loss: 1.20228e-01\n",
      "Epoch 194/200, Training Loss: 2.96222e-02, Validation Loss: 1.19282e-01\n",
      "Epoch 195/200, Training Loss: 2.95206e-02, Validation Loss: 1.20818e-01\n",
      "Epoch 196/200, Training Loss: 2.95903e-02, Validation Loss: 1.23277e-01\n",
      "Epoch 197/200, Training Loss: 2.96096e-02, Validation Loss: 1.21480e-01\n",
      "Epoch 198/200, Training Loss: 2.94809e-02, Validation Loss: 1.20927e-01\n",
      "Epoch 199/200, Training Loss: 2.94716e-02, Validation Loss: 1.21812e-01\n",
      "Epoch 200/200, Training Loss: 2.95191e-02, Validation Loss: 1.21519e-01\n"
     ]
    }
   ],
   "source": [
    "best_val_loss = float('inf')\n",
    "for epoch in range(num_epochs):\n",
    "    # Training Phase\n",
    "    model.train()  # Set the model to training mode\n",
    "    total_train_loss = 0\n",
    "    for batch in train_dataloader:\n",
    "        input_ids, attention_mask, labels = batch['input_ids'].to(device), batch['attention_mask'].to(device), batch['labels'].to(device)\n",
    "        optimizer.zero_grad()  # Zero the gradients\n",
    "        original_embeddings, reconstructed_embeddings = model(input_ids, attention_mask)\n",
    "        loss = loss_function(original_embeddings, reconstructed_embeddings)\n",
    "        loss.backward()  # Backward pass\n",
    "        optimizer.step()  # Update weights\n",
    "\n",
    "        total_train_loss += loss.item()\n",
    "    \n",
    "    avg_train_loss = total_train_loss / len(train_dataloader)\n",
    "    training_losses.append(avg_train_loss) \n",
    "\n",
    "    # Validation Phase\n",
    "    model.eval()  # Set the model to evaluation mode\n",
    "    total_val_loss = 0\n",
    "    with torch.no_grad():  # Disable gradient calculations\n",
    "        for batch in val_dataloader:\n",
    "            input_ids, attention_mask, labels = batch['input_ids'].to(device), batch['attention_mask'].to(device), batch['labels'].to(device)\n",
    "            original_embeddings, reconstructed_embeddings = model(input_ids, attention_mask)\n",
    "            loss = loss_function(original_embeddings, reconstructed_embeddings)  # Compute loss\n",
    "            total_val_loss += loss.item()\n",
    "    avg_val_loss = total_val_loss / len(val_dataloader)\n",
    "    if avg_val_loss < best_val_loss:\n",
    "        best_val_loss = avg_val_loss\n",
    "        # Save the model\n",
    "        torch.save(model, 'best_autoencoder_model.pth')\n",
    "        print(f\"Epoch {epoch+1}/{num_epochs}: Lower validation loss found. Model saved.\")\n",
    "    validation_losses.append(avg_val_loss)\n",
    "    print(f\"Epoch {epoch+1}/{num_epochs}, Training Loss: {avg_train_loss:.5e}, Validation Loss: {avg_val_loss:.5e}\")"
   ]
  },
  {
   "cell_type": "markdown",
   "id": "a7e32293-8028-4ebe-8a10-3fc012782ad1",
   "metadata": {},
   "source": [
    "# Calculate means and covariance matrix"
   ]
  },
  {
   "cell_type": "code",
   "execution_count": 85,
   "id": "eba64b40-f47d-4a2b-9fe6-3839dc18890e",
   "metadata": {
    "ExecuteTime": {
     "end_time": "2023-12-01T07:42:27.299616993Z",
     "start_time": "2023-12-01T07:42:27.186388460Z"
    }
   },
   "outputs": [],
   "source": [
    "fine_model = torch.load(\"best_autoencoder_model.pth\")\n",
    "fine_model.eval()  # Put the model in evaluation mode\n",
    "fine_model = fine_model.to(device)"
   ]
  },
  {
   "cell_type": "code",
   "execution_count": 86,
   "id": "cab109d7d077e530",
   "metadata": {
    "ExecuteTime": {
     "end_time": "2023-12-01T07:42:27.735028721Z",
     "start_time": "2023-12-01T07:42:27.728227844Z"
    },
    "collapsed": false,
    "jupyter": {
     "outputs_hidden": false
    }
   },
   "outputs": [],
   "source": [
    "def encode_sentences(model, sentences):\n",
    "    # the mode here is TextClassifier\n",
    "\n",
    "    encoded_inputs = tokenizer(sentences, padding=True, truncation=True, return_tensors='pt', \n",
    "                               max_length=max_length)\n",
    "    input_ids = encoded_inputs['input_ids'].to(device)\n",
    "    attention_mask = encoded_inputs['attention_mask'].to(device)\n",
    "    with torch.no_grad():\n",
    "        model.eval()  # Ensure the model is in evaluation mode\n",
    "        original_embeddings, reconstructed_embeddings = model(input_ids, attention_mask)\n",
    "    return original_embeddings.cpu(), reconstructed_embeddings.cpu()"
   ]
  },
  {
   "cell_type": "code",
   "execution_count": 87,
   "id": "d313cc44-0e2c-4851-88c1-147dd23ac09e",
   "metadata": {
    "ExecuteTime": {
     "end_time": "2023-12-01T07:42:29.631025780Z",
     "start_time": "2023-12-01T07:42:28.516869555Z"
    }
   },
   "outputs": [],
   "source": [
    "test_org, test_rec = encode_sentences(fine_model, test_sentences)\n",
    "oos_test_org, oos_test_rec = encode_sentences(fine_model, oos_test_sentences)"
   ]
  },
  {
   "cell_type": "code",
   "execution_count": 88,
   "id": "81b9d316-8507-4b86-afdc-a38507ab8bf8",
   "metadata": {},
   "outputs": [
    {
     "data": {
      "text/plain": [
       "array([[-1.1863111 ,  0.08605812,  0.77187866, ..., -0.01427295,\n",
       "        -0.16371396,  0.05548896],\n",
       "       [-0.5211822 , -0.09334413,  0.8267136 , ...,  0.26234072,\n",
       "         0.52932113, -0.09267343],\n",
       "       [-0.63188165, -0.06009592,  0.69428515, ..., -0.26533237,\n",
       "         0.26582038, -0.7362463 ],\n",
       "       ...,\n",
       "       [ 0.20671664,  0.00756379, -0.00494014, ...,  2.1312742 ,\n",
       "         1.0233384 , -0.27835307],\n",
       "       [ 0.98594856, -0.4223319 ,  0.2975854 , ...,  0.86799765,\n",
       "         0.8066172 , -1.3825599 ],\n",
       "       [ 0.6144992 , -0.34527656,  0.43303347, ...,  1.8063234 ,\n",
       "         1.0846337 , -0.8968681 ]], dtype=float32)"
      ]
     },
     "execution_count": 88,
     "metadata": {},
     "output_type": "execute_result"
    }
   ],
   "source": [
    "test_before_fine"
   ]
  },
  {
   "cell_type": "code",
   "execution_count": 89,
   "id": "301a5b48-a503-43e7-9a8b-434d3d7ac56b",
   "metadata": {},
   "outputs": [
    {
     "data": {
      "text/plain": [
       "array([[-1.1863115 ,  0.08605874,  0.77187836, ..., -0.01427282,\n",
       "        -0.16371399,  0.05548866],\n",
       "       [-0.5211803 , -0.09334608,  0.8267141 , ...,  0.26234168,\n",
       "         0.53382564, -0.09267583],\n",
       "       [-0.63188213, -0.06009676,  0.69428617, ..., -0.25283685,\n",
       "         0.2966777 , -0.7362462 ],\n",
       "       ...,\n",
       "       [ 0.20671675,  0.00756329, -0.00494175, ...,  2.1312733 ,\n",
       "         1.0233366 , -0.27835152],\n",
       "       [ 0.98595047, -0.42233205,  0.29758614, ...,  0.8679959 ,\n",
       "         0.834715  , -1.3825599 ],\n",
       "       [ 0.61449903, -0.34527716,  0.43303356, ...,  1.8063253 ,\n",
       "         1.0846331 , -0.8968663 ]], dtype=float32)"
      ]
     },
     "execution_count": 89,
     "metadata": {},
     "output_type": "execute_result"
    }
   ],
   "source": [
    "test_org.numpy()"
   ]
  },
  {
   "cell_type": "code",
   "execution_count": 90,
   "id": "836f237f-b25d-44e6-a22d-bb3a6d7b0c51",
   "metadata": {},
   "outputs": [
    {
     "data": {
      "text/plain": [
       "array([[-0.31013164,  0.27796742,  0.8977488 , ...,  0.683649  ,\n",
       "         0.2874887 ,  0.4349298 ],\n",
       "       [ 0.08391888,  0.32078078,  0.84365875, ...,  0.5233639 ,\n",
       "         0.80092144,  0.20073901],\n",
       "       [ 0.13201061,  0.16164945,  0.936142  , ...,  0.53975946,\n",
       "         0.54422754, -0.10900503],\n",
       "       ...,\n",
       "       [ 0.89645   ,  0.6182077 ,  0.25342557, ...,  2.5963275 ,\n",
       "         1.6613806 ,  0.14387947],\n",
       "       [ 1.151626  , -0.23665807,  0.9067587 , ...,  0.66076434,\n",
       "         0.921284  , -0.9013085 ],\n",
       "       [ 1.067849  ,  0.10955665,  0.74345183, ...,  2.0839155 ,\n",
       "         1.2345506 , -0.5944658 ]], dtype=float32)"
      ]
     },
     "execution_count": 90,
     "metadata": {},
     "output_type": "execute_result"
    }
   ],
   "source": [
    "test_rec.numpy()"
   ]
  },
  {
   "cell_type": "code",
   "execution_count": 91,
   "id": "1703d8d5-dbb7-47ab-a3b1-052d7e8dcbb3",
   "metadata": {},
   "outputs": [],
   "source": [
    "test_diffs = torch.mean((test_org - test_rec) ** 2, dim = 1).numpy()\n",
    "oos_test_diffs = torch.mean((oos_test_org - oos_test_rec) ** 2, dim = 1).numpy()"
   ]
  },
  {
   "cell_type": "code",
   "execution_count": 92,
   "id": "25ad446a-9bf0-4850-93fa-56c99dbe35c2",
   "metadata": {},
   "outputs": [],
   "source": [
    "from sklearn.metrics import average_precision_score"
   ]
  },
  {
   "cell_type": "code",
   "execution_count": 93,
   "id": "07795d99-5725-4fed-a1d0-b1bb9dc6af54",
   "metadata": {},
   "outputs": [
    {
     "data": {
      "text/plain": [
       "0.8962934157266325"
      ]
     },
     "execution_count": 93,
     "metadata": {},
     "output_type": "execute_result"
    }
   ],
   "source": [
    "y_true = [0] * len(test_diffs) + [1] * len(oos_test_diffs)\n",
    "\n",
    "# Combine the scores\n",
    "y_scores = list(test_diffs) + list(oos_test_diffs)\n",
    "\n",
    "# Compute AUPR\n",
    "aupr = average_precision_score(y_true, y_scores)\n",
    "aupr"
   ]
  },
  {
   "cell_type": "code",
   "execution_count": 94,
   "id": "d516ed52-b92c-43b4-bb06-6c702640d9a7",
   "metadata": {},
   "outputs": [
    {
     "data": {
      "image/png": "[encoded data removed]",
      "text/plain": [
       "<Figure size 1000x600 with 1 Axes>"
      ]
     },
     "metadata": {},
     "output_type": "display_data"
    }
   ],
   "source": [
    "import matplotlib.pyplot as plt\n",
    "\n",
    "# Set up the figure and axes\n",
    "plt.figure(figsize=(10, 6))\n",
    "\n",
    "# Plot the histograms\n",
    "plt.hist(test_diffs, bins=50, alpha=0.5, label='In-domain')\n",
    "plt.hist(oos_test_diffs, bins=50, alpha=0.5, label='Out-of-domain')\n",
    "\n",
    "# Add legend, title, and labels\n",
    "plt.legend(loc='upper right')\n",
    "plt.title('Distribution of Reconstruction Loss')\n",
    "plt.xlabel('MSE')\n",
    "plt.ylabel('Number of Samples')\n",
    "plt.grid(True, which='both', linestyle='--', linewidth=0.5)\n",
    "plt.tight_layout()\n",
    "\n",
    "# Show the plot\n",
    "plt.show()"
   ]
  },
  {
   "cell_type": "code",
   "execution_count": 95,
   "id": "9a2204f3-07c8-4378-9b1e-eac5390d821d",
   "metadata": {},
   "outputs": [],
   "source": [
    "import pickle"
   ]
  },
  {
   "cell_type": "code",
   "execution_count": 176,
   "id": "14065e27-eecd-426e-8e6d-83ec5363200c",
   "metadata": {},
   "outputs": [],
   "source": [
    "file_name = \"autoencoder_score2.pkl\"\n",
    "with open(file_name, 'wb') as file:\n",
    "    pickle.dump(y_scores, file)"
   ]
  },
  {
   "cell_type": "markdown",
   "id": "d600c543-49d7-4037-a85c-2089d5e24bca",
   "metadata": {},
   "source": [
    "Creating centroid from the reconstructed embeddings and calculate mahalanobis distance ends up to be a little worse than using the reconstruction error directly. The auprs are 0.8405382792501006 and 0.8652350083045975, respectively."
   ]
  },
  {
   "cell_type": "code",
   "execution_count": null,
   "id": "41265c30-8bf8-498b-bb27-2027f9854ff0",
   "metadata": {},
   "outputs": [],
   "source": []
  }
 ],
 "metadata": {
  "kernelspec": {
   "display_name": "Python 3 (ipykernel)",
   "language": "python",
   "name": "python3"
  },
  "language_info": {
   "codemirror_mode": {
    "name": "ipython",
    "version": 3
   },
   "file_extension": ".py",
   "mimetype": "text/x-python",
   "name": "python",
   "nbconvert_exporter": "python",
   "pygments_lexer": "ipython3",
   "version": "3.11.6"
  }
 },
 "nbformat": 4,
 "nbformat_minor": 5
}
