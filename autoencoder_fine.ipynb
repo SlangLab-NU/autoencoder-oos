{
 "cells": [
  {
   "cell_type": "markdown",
   "id": "1897c26a-1cb2-4ad1-94d3-8cf70b70ee51",
   "metadata": {},
   "source": [
    "# Load Data"
   ]
  },
  {
   "cell_type": "code",
   "execution_count": 1,
   "id": "a3450eef-470e-4540-9c6a-99af76a5e966",
   "metadata": {
    "ExecuteTime": {
     "end_time": "2023-12-01T07:38:04.721661140Z",
     "start_time": "2023-12-01T07:38:03.867605995Z"
    }
   },
   "outputs": [],
   "source": [
    "import json\n",
    "import torch\n",
    "import random\n",
    "from sklearn.preprocessing import LabelEncoder\n",
    "from transformers import AutoModel, AutoTokenizer\n",
    "from torch.utils.data import DataLoader, Dataset\n",
    "from torch import nn\n",
    "import numpy as np\n",
    "from scipy.linalg import inv\n",
    "from torch.optim import Adam"
   ]
  },
  {
   "cell_type": "markdown",
   "id": "31f96c05-0753-42a0-a801-beb4c2aed962",
   "metadata": {},
   "source": [
    "# CLINC150"
   ]
  },
  {
   "cell_type": "code",
   "execution_count": 134,
   "id": "e46987c4-1aba-4b4f-a803-23052ca77f96",
   "metadata": {
    "ExecuteTime": {
     "end_time": "2023-12-01T07:38:04.774005458Z",
     "start_time": "2023-12-01T07:38:04.723166259Z"
    }
   },
   "outputs": [],
   "source": [
    "# # Load the dataset\n",
    "# with open(\"clinc150_uci/data_full.json\", \"r\") as file:\n",
    "#     data = json.load(file)\n",
    "# # Extracting data\n",
    "# train_data = data['train']\n",
    "# val_data = data['val']\n",
    "# test_data = data['test']\n",
    "\n",
    "# oos_train_data = data['oos_train']\n",
    "# oos_val_data = data['oos_val']\n",
    "# oos_test_data = data['oos_test']\n",
    "\n",
    "# # Get sentences and labels\n",
    "# train_sentences = [item[0] for item in train_data]\n",
    "# train_labels = [item[1] for item in train_data]\n",
    "\n",
    "# val_sentences = [item[0] for item in val_data]\n",
    "# val_labels = [item[1] for item in val_data]\n",
    "\n",
    "# test_sentences = [item[0] for item in test_data]\n",
    "# test_labels = [item[1] for item in test_data]\n",
    "\n",
    "# oos_train_sentences = [item[0] for item in oos_train_data]\n",
    "# oos_val_sentences = [item[0] for item in oos_val_data]\n",
    "# oos_test_sentences = [item[0] for item in oos_test_data]\n"
   ]
  },
  {
   "cell_type": "markdown",
   "id": "42b779be-a7df-4697-ae69-bba69171ac2c",
   "metadata": {},
   "source": [
    "# SLURP"
   ]
  },
  {
   "cell_type": "code",
   "execution_count": 11,
   "id": "d3b414e9-6912-4c60-95f4-7abd2a42d7d5",
   "metadata": {},
   "outputs": [],
   "source": [
    "def load_data(file_path):\n",
    "    sentences = []\n",
    "    scenarios = []\n",
    "    with open(file_path, 'r') as file:\n",
    "        for line in file:\n",
    "            data = json.loads(line)\n",
    "            sentence = data.get('sentence', None)\n",
    "            scenario = data.get('scenario', None)\n",
    "            if sentence is not None and scenario is not None:\n",
    "                sentences.append(sentence)\n",
    "                scenarios.append(scenario)\n",
    "    return sentences, scenarios\n",
    "\n",
    "# Randomly select one domain to be out of scope\n",
    "unique_scenarios = {'alarm', 'audio', 'calendar', 'cooking', 'datetime', 'email', 'general', 'iot', 'lists', 'music', 'news', 'play', 'qa', 'recommendation', 'social', 'takeaway', 'transport', 'weather'}\n",
    "oos_scenario = random.choice(list(unique_scenarios))\n",
    "\n",
    "# Load data from files\n",
    "train_sentences, train_labels = load_data('slurp/dataset/slurp/train.jsonl')\n",
    "val_sentences, val_labels = load_data('slurp/dataset/slurp/devel.jsonl')\n",
    "test_sentences, test_labels = load_data('slurp/dataset/slurp/test.jsonl')\n",
    "\n",
    "# Separate out of scope data\n",
    "oos_train_data = [(s, l) for s, l in zip(train_sentences, train_labels) if l == oos_scenario]\n",
    "oos_val_data = [(s, l) for s, l in zip(val_sentences, val_labels) if l == oos_scenario]\n",
    "oos_test_data = [(s, l) for s, l in zip(test_sentences, test_labels) if l == oos_scenario]\n",
    "\n",
    "# Remove out of scope data from original sets\n",
    "train_data = [(s, l) for s, l in zip(train_sentences, train_labels) if l != oos_scenario]\n",
    "val_data = [(s, l) for s, l in zip(val_sentences, val_labels) if l != oos_scenario]\n",
    "test_data = [(s, l) for s, l in zip(test_sentences, test_labels) if l != oos_scenario]\n",
    "\n",
    "# Extract sentences and labels\n",
    "train_sentences = [item[0] for item in train_data]\n",
    "train_labels = [item[1] for item in train_data]\n",
    "\n",
    "val_sentences = [item[0] for item in val_data]\n",
    "val_labels = [item[1] for item in val_data]\n",
    "\n",
    "test_sentences = [item[0] for item in test_data]\n",
    "test_labels = [item[1] for item in test_data]\n",
    "\n",
    "oos_train_sentences = [item[0] for item in oos_train_data]\n",
    "oos_val_sentences = [item[0] for item in oos_val_data]\n",
    "oos_test_sentences = [item[0] for item in oos_test_data]"
   ]
  },
  {
   "cell_type": "code",
   "execution_count": 15,
   "id": "d591f29e-0d13-49d3-a11f-437e77287057",
   "metadata": {},
   "outputs": [
    {
     "data": {
      "text/plain": [
       "'general'"
      ]
     },
     "execution_count": 15,
     "metadata": {},
     "output_type": "execute_result"
    }
   ],
   "source": [
    "oos_scenario"
   ]
  },
  {
   "cell_type": "code",
   "execution_count": 16,
   "id": "1396e6d2-59bb-4c39-9c07-2893365b4c30",
   "metadata": {},
   "outputs": [
    {
     "data": {
      "text/plain": [
       "10862"
      ]
     },
     "execution_count": 16,
     "metadata": {},
     "output_type": "execute_result"
    }
   ],
   "source": [
    "len(train_sentences)"
   ]
  },
  {
   "cell_type": "markdown",
   "id": "9b12dd80-1971-4215-8486-8de1d655d5ed",
   "metadata": {},
   "source": [
    "# Encode Labels"
   ]
  },
  {
   "cell_type": "code",
   "execution_count": 17,
   "id": "92f9dd99-07c9-4e5a-993b-e73dfd0be95b",
   "metadata": {
    "ExecuteTime": {
     "end_time": "2023-12-01T07:38:05.423215976Z",
     "start_time": "2023-12-01T07:38:05.406651396Z"
    }
   },
   "outputs": [],
   "source": [
    "label_encoder = LabelEncoder()\n",
    "# Fit the label encoder and transform labels to integers\n",
    "encoded_train_labels = label_encoder.fit_transform(train_labels)\n",
    "encoded_val_labels = label_encoder.fit_transform(val_labels)"
   ]
  },
  {
   "cell_type": "code",
   "execution_count": 18,
   "id": "db936701-4cfa-4f39-a698-9f93b7f972ec",
   "metadata": {},
   "outputs": [],
   "source": [
    "# This is just for the transfomer model from ce to be loaded\n",
    "class TextClassifier(nn.Module):\n",
    "    def __init__(self, transformer_model, num_labels):\n",
    "        super(TextClassifier, self).__init__()\n",
    "        self.transformer = transformer_model\n",
    "        self.classifier = nn.Linear(self.transformer.config.hidden_size, num_labels)\n",
    "    \n",
    "    def forward(self, input_ids, attention_mask):\n",
    "        # Get the output from the transformer model\n",
    "        transformer_output = self.transformer(input_ids=input_ids, attention_mask=attention_mask)\n",
    "        sentence_embedding = transformer_output.last_hidden_state.max(dim=1).values\n",
    "        # Forward pass through the classifier layer\n",
    "        return self.classifier(sentence_embedding)"
   ]
  },
  {
   "cell_type": "markdown",
   "id": "a38c1c26-f71a-4395-8ef9-01b52c930fdc",
   "metadata": {},
   "source": [
    "# Tokenize our sentences and create Dataloaders"
   ]
  },
  {
   "cell_type": "code",
   "execution_count": 41,
   "id": "2d3db18c-5804-4f09-9f6b-1f3131415fa9",
   "metadata": {
    "ExecuteTime": {
     "end_time": "2023-12-01T07:38:07.327824427Z",
     "start_time": "2023-12-01T07:38:06.135883081Z"
    }
   },
   "outputs": [],
   "source": [
    "pretrained_model_name = \"distilroberta-base\"\n",
    "#best_ce_model = torch.load(\"best_ce_model.pth\")\n",
    "tokenizer = AutoTokenizer.from_pretrained(pretrained_model_name)\n",
    "#transformer_model = best_ce_model.transformer\n",
    "transformer_model = AutoModel.from_pretrained(pretrained_model_name)\n"
   ]
  },
  {
   "cell_type": "code",
   "execution_count": 42,
   "id": "1ab67fd0-7073-4495-b464-8ecb4b2b3300",
   "metadata": {},
   "outputs": [
    {
     "name": "stdout",
     "output_type": "stream",
     "text": [
      "Max length for tokenizer: 42\n"
     ]
    }
   ],
   "source": [
    "tokenized_lengths = [len(tokenizer.encode(sentence, add_special_tokens=True)) for sentence in train_sentences]\n",
    "max_length = max(tokenized_lengths)\n",
    "print(f\"Max length for tokenizer: {max_length}\")"
   ]
  },
  {
   "cell_type": "code",
   "execution_count": 43,
   "id": "e9090dc4-fe28-4c23-b21b-5ba229eb8fe0",
   "metadata": {},
   "outputs": [],
   "source": [
    "class TextDataset(Dataset):\n",
    "    def __init__(self, sentences, labels, tokenizer, max_length):\n",
    "        self.encodings = tokenizer(sentences, truncation=True, padding=True, max_length=max_length)\n",
    "        self.labels = labels\n",
    "\n",
    "    def __getitem__(self, idx):\n",
    "        item = {key: torch.tensor(val[idx]) for key, val in self.encodings.items()}\n",
    "        item['labels'] = torch.tensor(self.labels[idx])\n",
    "        return item\n",
    "\n",
    "    def __len__(self):\n",
    "        return len(self.labels)\n",
    "\n",
    "# 2. Create the dataset\n",
    "train_dataset = TextDataset(train_sentences, encoded_train_labels, tokenizer, max_length)\n",
    "val_dataset = TextDataset(val_sentences, encoded_val_labels, tokenizer, max_length)"
   ]
  },
  {
   "cell_type": "markdown",
   "id": "2d137706-db61-4152-80e7-8068e75e381f",
   "metadata": {},
   "source": [
    "# Define functions to encode our sentences"
   ]
  },
  {
   "cell_type": "code",
   "execution_count": 44,
   "id": "2952162c-8da1-4cae-ae22-5eb06fa41ec9",
   "metadata": {
    "ExecuteTime": {
     "end_time": "2023-12-01T07:38:07.931914441Z",
     "start_time": "2023-12-01T07:38:07.768420485Z"
    }
   },
   "outputs": [],
   "source": [
    "transformer_model.eval()\n",
    "device = torch.device(\"cuda\" if torch.cuda.is_available() else \"cpu\")\n",
    "transformer_model = transformer_model.to(device)\n",
    "def encode_sentences(model, sentences):\n",
    "    sentence_embeddings = []\n",
    "\n",
    "    for sentence in sentences:\n",
    "        encoded_input = tokenizer(sentence, return_tensors='pt', truncation=True, padding=True, max_length=max_length)\n",
    "        encoded_input = {k: v.to(device) for k, v in encoded_input.items()}\n",
    "        with torch.no_grad():\n",
    "            model_output = model(**encoded_input)\n",
    "\n",
    "        # Using pooler_output\n",
    "        sentence_embedding = model_output.pooler_output\n",
    "        sentence_embeddings.append(sentence_embedding.cpu().numpy())\n",
    "\n",
    "    sentence_embeddings_np = np.concatenate(sentence_embeddings, axis=0)\n",
    "    return sentence_embeddings_np\n"
   ]
  },
  {
   "cell_type": "code",
   "execution_count": 45,
   "id": "86ece297-f93e-424b-9051-147ffa1f7bab",
   "metadata": {},
   "outputs": [],
   "source": [
    "test_before_fine = encode_sentences(transformer_model, test_sentences)\n",
    "oos_test_before_fine = encode_sentences(transformer_model, oos_test_sentences)"
   ]
  },
  {
   "cell_type": "code",
   "execution_count": 46,
   "id": "290d2076-317f-46ea-b662-b4c7ebf2a281",
   "metadata": {},
   "outputs": [
    {
     "data": {
      "text/plain": [
       "array([[ 0.175378  ,  0.02218771, -0.15930922, ...,  0.28341654,\n",
       "        -0.04852225,  0.19890049],\n",
       "       [ 0.16327132,  0.02647701, -0.17900862, ...,  0.27989373,\n",
       "        -0.05665692,  0.20020771],\n",
       "       [ 0.16264908,  0.01964563, -0.16322833, ...,  0.24977724,\n",
       "        -0.05040606,  0.14746271],\n",
       "       ...,\n",
       "       [ 0.15496919,  0.01257049, -0.16866602, ...,  0.25301212,\n",
       "        -0.04553406,  0.19272394],\n",
       "       [ 0.17444278,  0.02651032, -0.17582199, ...,  0.28261393,\n",
       "        -0.08037931,  0.185892  ],\n",
       "       [ 0.17595837,  0.04885028, -0.1497872 , ...,  0.26983434,\n",
       "        -0.03853922,  0.18135649]], dtype=float32)"
      ]
     },
     "execution_count": 46,
     "metadata": {},
     "output_type": "execute_result"
    }
   ],
   "source": [
    "test_before_fine"
   ]
  },
  {
   "cell_type": "markdown",
   "id": "f5de918d-3a50-4ea9-84d2-8d2d03a0fa4e",
   "metadata": {},
   "source": [
    "# Define our model"
   ]
  },
  {
   "cell_type": "code",
   "execution_count": 47,
   "id": "c586c9a1-9e7c-4fbe-9ff8-087d8bd5f6d4",
   "metadata": {
    "ExecuteTime": {
     "end_time": "2023-12-01T07:38:09.600227529Z",
     "start_time": "2023-12-01T07:38:09.154881377Z"
    }
   },
   "outputs": [],
   "source": [
    "transformer_model = AutoModel.from_pretrained(pretrained_model_name)\n",
    "import torch.nn as nn\n",
    "\n",
    "class TextClassifier(nn.Module):\n",
    "    def __init__(self, transformer_model):\n",
    "        super(TextClassifier, self).__init__()\n",
    "        self.transformer = transformer_model\n",
    "\n",
    "        # Encoder layers\n",
    "        self.encoder1 = nn.Linear(768, 128)\n",
    "        self.encoder2 = nn.Linear(128, 64)\n",
    "        self.encoder3 = nn.Linear(64, 17)\n",
    "        # self.encoder4 = nn.Linear(128, 64)  # New layer\n",
    "\n",
    "        # Decoder layers\n",
    "        self.decoder1 = nn.Linear(17, 64)   # Adjusted to match the output of encoder4\n",
    "        self.decoder2 = nn.Linear(64, 128)\n",
    "        self.decoder3 = nn.Linear(128, 768)\n",
    "        # self.decoder4 = nn.Linear(512, 768)  # New layer to reconstruct the original dimension\n",
    "\n",
    "    def forward(self, input_ids, attention_mask):\n",
    "        # Transformer model output\n",
    "        transformer_output = self.transformer(input_ids=input_ids, attention_mask=attention_mask)\n",
    "        original_embeddings = transformer_output.pooler_output\n",
    "\n",
    "        # Autoencoder forward pass\n",
    "        x = nn.functional.tanh(self.encoder1(original_embeddings))\n",
    "        x = nn.functional.tanh(self.encoder2(x))\n",
    "        x = nn.functional.tanh(self.encoder3(x))\n",
    "\n",
    "        x = nn.functional.tanh(self.decoder1(x))\n",
    "        x = nn.functional.tanh(self.decoder2(x))\n",
    "        reconstructed_embeddings = self.decoder3(x)\n",
    "\n",
    "        return original_embeddings, reconstructed_embeddings\n",
    "\n"
   ]
  },
  {
   "cell_type": "markdown",
   "id": "f1940dba-2be2-43ec-94bc-7680692d2b43",
   "metadata": {},
   "source": [
    "# Define Reconstruction Loss"
   ]
  },
  {
   "cell_type": "code",
   "execution_count": 48,
   "id": "7079e12e-00fe-4fb7-82e2-bfb18be75400",
   "metadata": {
    "ExecuteTime": {
     "end_time": "2023-12-01T07:38:10.756886987Z",
     "start_time": "2023-12-01T07:38:10.755503502Z"
    }
   },
   "outputs": [],
   "source": [
    "class ReconstructionLoss(nn.Module):\n",
    "    def __init__(self):\n",
    "        super(ReconstructionLoss, self).__init__()\n",
    "        self.mse_loss = nn.MSELoss()\n",
    "\n",
    "    def forward(self, original_embeddings, reconstructed_embeddings):\n",
    "        return self.mse_loss(original_embeddings, reconstructed_embeddings)"
   ]
  },
  {
   "cell_type": "code",
   "execution_count": 49,
   "id": "122d1e5e-c984-48e2-8475-7842176d13d4",
   "metadata": {
    "ExecuteTime": {
     "end_time": "2023-12-01T07:38:11.368749731Z",
     "start_time": "2023-12-01T07:38:11.364897164Z"
    }
   },
   "outputs": [],
   "source": [
    "loss_function = ReconstructionLoss()"
   ]
  },
  {
   "cell_type": "markdown",
   "id": "98181737-c127-41a7-beb3-ab66172b9303",
   "metadata": {},
   "source": [
    "# Initiallize everything else we needed"
   ]
  },
  {
   "cell_type": "code",
   "execution_count": 64,
   "id": "c9836c07-b6b3-43e0-adf9-178ebcdcea68",
   "metadata": {
    "ExecuteTime": {
     "end_time": "2023-12-01T07:38:13.263966793Z",
     "start_time": "2023-12-01T07:38:12.771780958Z"
    }
   },
   "outputs": [],
   "source": [
    "pretrained_model_name = \"distilroberta-base\"\n",
    "unique_intents = list(set(train_labels)) \n",
    "transformer_model = AutoModel.from_pretrained(pretrained_model_name)\n",
    "transformer_model.to(device)\n",
    "model = TextClassifier(transformer_model)\n",
    "model.to(device)\n",
    "optimizer = Adam(model.parameters(), lr=2.25e-4)\n",
    "training_losses = []\n",
    "validation_losses = []\n",
    "batch_size= 64\n",
    "train_dataloader = DataLoader(train_dataset, batch_size=batch_size, shuffle=True)\n",
    "val_dataloader = DataLoader(val_dataset, batch_size=batch_size)"
   ]
  },
  {
   "cell_type": "code",
   "execution_count": 65,
   "id": "ed9508c7-081f-469a-96d2-16461816e58c",
   "metadata": {
    "ExecuteTime": {
     "end_time": "2023-12-01T07:38:13.956536576Z",
     "start_time": "2023-12-01T07:38:13.948457670Z"
    }
   },
   "outputs": [],
   "source": [
    "num_epochs = 50"
   ]
  },
  {
   "cell_type": "markdown",
   "id": "c0c9a636-af8e-4d4c-abb2-fc1370da38a3",
   "metadata": {},
   "source": [
    "# Training Loop!!!"
   ]
  },
  {
   "cell_type": "code",
   "execution_count": 66,
   "id": "903bf045-515e-4c93-999f-136d077d391c",
   "metadata": {
    "ExecuteTime": {
     "end_time": "2023-12-01T07:42:19.550420285Z",
     "start_time": "2023-12-01T07:38:15.626978073Z"
    }
   },
   "outputs": [
    {
     "name": "stdout",
     "output_type": "stream",
     "text": [
      "Epoch 1/50: Lower validation loss found. Model saved.\n",
      "Epoch 1/50, Training Loss: 2.09915e-03, Validation Loss: 1.27160e-05\n",
      "Epoch 2/50: Lower validation loss found. Model saved.\n",
      "Epoch 2/50, Training Loss: 1.65094e-04, Validation Loss: 8.12953e-06\n",
      "Epoch 3/50: Lower validation loss found. Model saved.\n",
      "Epoch 3/50, Training Loss: 9.69796e-05, Validation Loss: 5.46998e-06\n",
      "Epoch 4/50: Lower validation loss found. Model saved.\n",
      "Epoch 4/50, Training Loss: 6.03964e-05, Validation Loss: 3.51345e-06\n",
      "Epoch 5/50: Lower validation loss found. Model saved.\n",
      "Epoch 5/50, Training Loss: 4.64640e-05, Validation Loss: 2.59542e-06\n",
      "Epoch 6/50, Training Loss: 3.21304e-05, Validation Loss: 4.28515e-06\n",
      "Epoch 7/50: Lower validation loss found. Model saved.\n",
      "Epoch 7/50, Training Loss: 2.97647e-05, Validation Loss: 1.96781e-06\n",
      "Epoch 8/50, Training Loss: 1.94235e-05, Validation Loss: 2.96710e-06\n",
      "Epoch 9/50, Training Loss: 1.33708e-05, Validation Loss: 2.76685e-06\n",
      "Epoch 10/50, Training Loss: 1.14621e-05, Validation Loss: 4.49201e-06\n",
      "Epoch 11/50, Training Loss: 1.19193e-05, Validation Loss: 4.40936e-06\n",
      "Epoch 12/50, Training Loss: 9.15326e-06, Validation Loss: 5.21148e-06\n",
      "Epoch 13/50, Training Loss: 7.46039e-06, Validation Loss: 5.57368e-06\n",
      "Epoch 14/50, Training Loss: 6.54430e-06, Validation Loss: 1.26486e-05\n",
      "Epoch 15/50, Training Loss: 7.13868e-06, Validation Loss: 6.30547e-06\n",
      "Epoch 16/50, Training Loss: 4.49220e-06, Validation Loss: 8.86200e-06\n",
      "Epoch 17/50, Training Loss: 4.38457e-06, Validation Loss: 1.07474e-05\n",
      "Epoch 18/50, Training Loss: 4.87031e-06, Validation Loss: 7.19764e-06\n",
      "Epoch 19/50, Training Loss: 3.81451e-06, Validation Loss: 4.77902e-06\n",
      "Epoch 20/50, Training Loss: 3.26222e-06, Validation Loss: 8.76666e-06\n",
      "Epoch 21/50, Training Loss: 3.46440e-06, Validation Loss: 8.41092e-06\n",
      "Epoch 22/50, Training Loss: 2.98873e-06, Validation Loss: 6.94906e-06\n",
      "Epoch 23/50: Lower validation loss found. Model saved.\n",
      "Epoch 23/50, Training Loss: 6.31757e-06, Validation Loss: 1.72118e-06\n",
      "Epoch 24/50, Training Loss: 2.44808e-06, Validation Loss: 3.53321e-06\n",
      "Epoch 25/50, Training Loss: 2.48108e-06, Validation Loss: 3.43423e-06\n",
      "Epoch 26/50, Training Loss: 2.79269e-06, Validation Loss: 3.78589e-06\n",
      "Epoch 27/50, Training Loss: 1.95354e-06, Validation Loss: 4.85309e-06\n",
      "Epoch 28/50, Training Loss: 2.32127e-06, Validation Loss: 3.74226e-06\n",
      "Epoch 29/50, Training Loss: 3.54771e-06, Validation Loss: 2.80980e-06\n",
      "Epoch 30/50, Training Loss: 2.47740e-06, Validation Loss: 2.81042e-06\n",
      "Epoch 31/50, Training Loss: 1.74598e-06, Validation Loss: 2.07546e-06\n",
      "Epoch 32/50, Training Loss: 1.74377e-06, Validation Loss: 2.18853e-06\n",
      "Epoch 33/50, Training Loss: 1.91198e-06, Validation Loss: 6.30034e-06\n",
      "Epoch 34/50, Training Loss: 2.19371e-06, Validation Loss: 2.75147e-06\n",
      "Epoch 35/50, Training Loss: 3.58703e-06, Validation Loss: 2.74263e-06\n",
      "Epoch 36/50, Training Loss: 3.24680e-06, Validation Loss: 2.77535e-06\n",
      "Epoch 37/50, Training Loss: 2.96727e-06, Validation Loss: 2.11922e-06\n",
      "Epoch 38/50, Training Loss: 1.83238e-06, Validation Loss: 3.57186e-06\n",
      "Epoch 39/50, Training Loss: 1.91307e-06, Validation Loss: 1.75511e-06\n",
      "Epoch 40/50: Lower validation loss found. Model saved.\n",
      "Epoch 40/50, Training Loss: 3.71427e-06, Validation Loss: 1.36576e-06\n",
      "Epoch 41/50, Training Loss: 1.43560e-06, Validation Loss: 2.06960e-06\n",
      "Epoch 42/50, Training Loss: 1.23754e-06, Validation Loss: 1.94919e-06\n",
      "Epoch 43/50: Lower validation loss found. Model saved.\n",
      "Epoch 43/50, Training Loss: 1.27878e-06, Validation Loss: 9.00949e-07\n",
      "Epoch 44/50, Training Loss: 1.95280e-06, Validation Loss: 5.32532e-06\n",
      "Epoch 45/50, Training Loss: 1.39700e-06, Validation Loss: 9.91279e-07\n",
      "Epoch 46/50, Training Loss: 1.75950e-06, Validation Loss: 1.08686e-06\n",
      "Epoch 47/50, Training Loss: 1.05614e-06, Validation Loss: 3.78388e-06\n",
      "Epoch 48/50, Training Loss: 3.16322e-06, Validation Loss: 9.67974e-07\n",
      "Epoch 49/50: Lower validation loss found. Model saved.\n",
      "Epoch 49/50, Training Loss: 1.10825e-06, Validation Loss: 7.88279e-07\n",
      "Epoch 50/50, Training Loss: 1.42085e-06, Validation Loss: 9.16109e-07\n"
     ]
    }
   ],
   "source": [
    "best_val_loss = float('inf')\n",
    "for epoch in range(num_epochs):\n",
    "    # Training Phase\n",
    "    model.train()  # Set the model to training mode\n",
    "    total_train_loss = 0\n",
    "    for batch in train_dataloader:\n",
    "        input_ids, attention_mask, labels = batch['input_ids'].to(device), batch['attention_mask'].to(device), batch['labels'].to(device)\n",
    "        optimizer.zero_grad()  # Zero the gradients\n",
    "        original_embeddings, reconstructed_embeddings = model(input_ids, attention_mask)\n",
    "        loss = loss_function(original_embeddings, reconstructed_embeddings)\n",
    "        loss.backward()  # Backward pass\n",
    "        optimizer.step()  # Update weights\n",
    "\n",
    "        total_train_loss += loss.item()\n",
    "    \n",
    "    avg_train_loss = total_train_loss / len(train_dataloader)\n",
    "    training_losses.append(avg_train_loss) \n",
    "\n",
    "    # Validation Phase\n",
    "    model.eval()  # Set the model to evaluation mode\n",
    "    total_val_loss = 0\n",
    "    with torch.no_grad():  # Disable gradient calculations\n",
    "        for batch in val_dataloader:\n",
    "            input_ids, attention_mask, labels = batch['input_ids'].to(device), batch['attention_mask'].to(device), batch['labels'].to(device)\n",
    "            original_embeddings, reconstructed_embeddings = model(input_ids, attention_mask)\n",
    "            loss = loss_function(original_embeddings, reconstructed_embeddings)  # Compute loss\n",
    "            total_val_loss += loss.item()\n",
    "    avg_val_loss = total_val_loss / len(val_dataloader)\n",
    "    if avg_val_loss < best_val_loss:\n",
    "        best_val_loss = avg_val_loss\n",
    "        # Save the model\n",
    "        torch.save(model, 'best_autoencoder_model.pth')\n",
    "        print(f\"Epoch {epoch+1}/{num_epochs}: Lower validation loss found. Model saved.\")\n",
    "    validation_losses.append(avg_val_loss)\n",
    "    print(f\"Epoch {epoch+1}/{num_epochs}, Training Loss: {avg_train_loss:.5e}, Validation Loss: {avg_val_loss:.5e}\")"
   ]
  },
  {
   "cell_type": "markdown",
   "id": "a7e32293-8028-4ebe-8a10-3fc012782ad1",
   "metadata": {},
   "source": [
    "# Calculate means and covariance matrix"
   ]
  },
  {
   "cell_type": "code",
   "execution_count": 67,
   "id": "eba64b40-f47d-4a2b-9fe6-3839dc18890e",
   "metadata": {
    "ExecuteTime": {
     "end_time": "2023-12-01T07:42:27.299616993Z",
     "start_time": "2023-12-01T07:42:27.186388460Z"
    }
   },
   "outputs": [],
   "source": [
    "fine_model = torch.load(\"best_autoencoder_model.pth\")\n",
    "fine_model.eval()  # Put the model in evaluation mode\n",
    "fine_model = fine_model.to(device)"
   ]
  },
  {
   "cell_type": "code",
   "execution_count": 68,
   "id": "cab109d7d077e530",
   "metadata": {
    "ExecuteTime": {
     "end_time": "2023-12-01T07:42:27.735028721Z",
     "start_time": "2023-12-01T07:42:27.728227844Z"
    },
    "collapsed": false,
    "jupyter": {
     "outputs_hidden": false
    }
   },
   "outputs": [],
   "source": [
    "def encode_sentences(model, sentences):\n",
    "    # the mode here is TextClassifier\n",
    "\n",
    "    encoded_inputs = tokenizer(sentences, padding=True, truncation=True, return_tensors='pt', \n",
    "                               max_length=max_length)\n",
    "    input_ids = encoded_inputs['input_ids'].to(device)\n",
    "    attention_mask = encoded_inputs['attention_mask'].to(device)\n",
    "    with torch.no_grad():\n",
    "        model.eval()  # Ensure the model is in evaluation mode\n",
    "        original_embeddings, reconstructed_embeddings = model(input_ids, attention_mask)\n",
    "    return original_embeddings.cpu(), reconstructed_embeddings.cpu()"
   ]
  },
  {
   "cell_type": "code",
   "execution_count": 69,
   "id": "d313cc44-0e2c-4851-88c1-147dd23ac09e",
   "metadata": {
    "ExecuteTime": {
     "end_time": "2023-12-01T07:42:29.631025780Z",
     "start_time": "2023-12-01T07:42:28.516869555Z"
    }
   },
   "outputs": [],
   "source": [
    "test_org, test_rec = encode_sentences(fine_model, test_sentences)\n",
    "oos_test_org, oos_test_rec = encode_sentences(fine_model, oos_test_sentences)"
   ]
  },
  {
   "cell_type": "code",
   "execution_count": 70,
   "id": "81b9d316-8507-4b86-afdc-a38507ab8bf8",
   "metadata": {},
   "outputs": [
    {
     "data": {
      "text/plain": [
       "array([[ 0.175378  ,  0.02218771, -0.15930922, ...,  0.28341654,\n",
       "        -0.04852225,  0.19890049],\n",
       "       [ 0.16327132,  0.02647701, -0.17900862, ...,  0.27989373,\n",
       "        -0.05665692,  0.20020771],\n",
       "       [ 0.16264908,  0.01964563, -0.16322833, ...,  0.24977724,\n",
       "        -0.05040606,  0.14746271],\n",
       "       ...,\n",
       "       [ 0.15496919,  0.01257049, -0.16866602, ...,  0.25301212,\n",
       "        -0.04553406,  0.19272394],\n",
       "       [ 0.17444278,  0.02651032, -0.17582199, ...,  0.28261393,\n",
       "        -0.08037931,  0.185892  ],\n",
       "       [ 0.17595837,  0.04885028, -0.1497872 , ...,  0.26983434,\n",
       "        -0.03853922,  0.18135649]], dtype=float32)"
      ]
     },
     "execution_count": 70,
     "metadata": {},
     "output_type": "execute_result"
    }
   ],
   "source": [
    "test_before_fine"
   ]
  },
  {
   "cell_type": "code",
   "execution_count": 71,
   "id": "301a5b48-a503-43e7-9a8b-434d3d7ac56b",
   "metadata": {},
   "outputs": [
    {
     "data": {
      "text/plain": [
       "array([[-0.04116014, -0.05784443, -0.07172944, ...,  0.04202174,\n",
       "         0.0411672 ,  0.03369596],\n",
       "       [-0.04115043, -0.05784094, -0.07174135, ...,  0.04202716,\n",
       "         0.04113431,  0.03373415],\n",
       "       [-0.04116096, -0.05779889, -0.07173716, ...,  0.04203638,\n",
       "         0.04115049,  0.03373102],\n",
       "       ...,\n",
       "       [-0.04117694, -0.05783491, -0.0717521 , ...,  0.04202509,\n",
       "         0.04115255,  0.03371337],\n",
       "       [-0.04112434, -0.05778908, -0.0717287 , ...,  0.04202821,\n",
       "         0.04112707,  0.03373636],\n",
       "       [-0.04116486, -0.0578281 , -0.07172979, ...,  0.04200038,\n",
       "         0.04115032,  0.03371596]], dtype=float32)"
      ]
     },
     "execution_count": 71,
     "metadata": {},
     "output_type": "execute_result"
    }
   ],
   "source": [
    "test_org.numpy()"
   ]
  },
  {
   "cell_type": "code",
   "execution_count": 72,
   "id": "836f237f-b25d-44e6-a22d-bb3a6d7b0c51",
   "metadata": {},
   "outputs": [
    {
     "data": {
      "text/plain": [
       "array([[-0.04131452, -0.05814217, -0.07184106, ...,  0.04216515,\n",
       "         0.04169085,  0.03454854],\n",
       "       [-0.04130058, -0.05814341, -0.07184353, ...,  0.04217712,\n",
       "         0.04169097,  0.03455967],\n",
       "       [-0.04128372, -0.05814376, -0.07184649, ...,  0.04219293,\n",
       "         0.04169138,  0.03457301],\n",
       "       ...,\n",
       "       [-0.04130754, -0.0581427 , -0.07184242, ...,  0.0421714 ,\n",
       "         0.04169071,  0.03455433],\n",
       "       [-0.04128249, -0.05814324, -0.07184743, ...,  0.0421945 ,\n",
       "         0.04169117,  0.03457354],\n",
       "       [-0.04131143, -0.05814333, -0.0718421 , ...,  0.04216707,\n",
       "         0.04169132,  0.03455132]], dtype=float32)"
      ]
     },
     "execution_count": 72,
     "metadata": {},
     "output_type": "execute_result"
    }
   ],
   "source": [
    "test_rec.numpy()"
   ]
  },
  {
   "cell_type": "code",
   "execution_count": 73,
   "id": "1703d8d5-dbb7-47ab-a3b1-052d7e8dcbb3",
   "metadata": {},
   "outputs": [],
   "source": [
    "test_diffs = torch.mean((test_org - test_rec) ** 2, dim = 1).numpy()\n",
    "oos_test_diffs = torch.mean((oos_test_org - oos_test_rec) ** 2, dim = 1).numpy()"
   ]
  },
  {
   "cell_type": "code",
   "execution_count": 74,
   "id": "0b5bf5ab-e718-4a7a-a710-5512372b069f",
   "metadata": {
    "ExecuteTime": {
     "end_time": "2023-12-01T06:16:37.534713642Z",
     "start_time": "2023-12-01T06:16:37.249316569Z"
    }
   },
   "outputs": [
    {
     "data": {
      "image/png": "[encoded data removed]",
      "text/plain": [
       "<Figure size 1000x600 with 1 Axes>"
      ]
     },
     "metadata": {},
     "output_type": "display_data"
    }
   ],
   "source": [
    "import matplotlib.pyplot as plt\n",
    "\n",
    "# Set up the figure and axes\n",
    "plt.figure(figsize=(10, 6))\n",
    "\n",
    "# Plot the histograms\n",
    "plt.hist(test_diffs, bins=50, alpha=0.5, label='In-domain')\n",
    "plt.hist(oos_test_diffs, bins=50, alpha=0.5, label='Out-of-domain')\n",
    "\n",
    "# Add legend, title, and labels\n",
    "plt.legend(loc='upper right')\n",
    "plt.title('Distribution of Reconstruction Loss')\n",
    "plt.xlabel('MSE')\n",
    "plt.ylabel('Number of Samples')\n",
    "plt.grid(True, which='both', linestyle='--', linewidth=0.5)\n",
    "plt.tight_layout()\n",
    "\n",
    "# Show the plot\n",
    "plt.show()\n"
   ]
  },
  {
   "cell_type": "code",
   "execution_count": 75,
   "id": "25ad446a-9bf0-4850-93fa-56c99dbe35c2",
   "metadata": {},
   "outputs": [],
   "source": [
    "from sklearn.metrics import average_precision_score"
   ]
  },
  {
   "cell_type": "code",
   "execution_count": 76,
   "id": "07795d99-5725-4fed-a1d0-b1bb9dc6af54",
   "metadata": {},
   "outputs": [
    {
     "data": {
      "text/plain": [
       "0.06385378797508383"
      ]
     },
     "execution_count": 76,
     "metadata": {},
     "output_type": "execute_result"
    }
   ],
   "source": [
    "y_true = [0] * len(test_diffs) + [1] * len(oos_test_diffs)\n",
    "\n",
    "# Combine the scores\n",
    "y_scores = list(test_diffs) + list(oos_test_diffs)\n",
    "\n",
    "# Compute AUPR\n",
    "aupr = average_precision_score(y_true, y_scores)\n",
    "aupr"
   ]
  },
  {
   "cell_type": "code",
   "execution_count": null,
   "id": "ad89a179-c59b-4a2c-8932-c4d8aaf207f4",
   "metadata": {},
   "outputs": [],
   "source": []
  }
 ],
 "metadata": {
  "kernelspec": {
   "display_name": "Python 3 (ipykernel)",
   "language": "python",
   "name": "python3"
  },
  "language_info": {
   "codemirror_mode": {
    "name": "ipython",
    "version": 3
   },
   "file_extension": ".py",
   "mimetype": "text/x-python",
   "name": "python",
   "nbconvert_exporter": "python",
   "pygments_lexer": "ipython3",
   "version": "3.11.6"
  }
 },
 "nbformat": 4,
 "nbformat_minor": 5
}
