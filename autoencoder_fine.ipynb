{
 "cells": [
  {
   "cell_type": "markdown",
   "id": "1897c26a-1cb2-4ad1-94d3-8cf70b70ee51",
   "metadata": {},
   "source": [
    "# Load Data"
   ]
  },
  {
   "cell_type": "code",
   "execution_count": 8,
   "id": "a3450eef-470e-4540-9c6a-99af76a5e966",
   "metadata": {},
   "outputs": [],
   "source": [
    "import json\n",
    "import torch\n",
    "from sklearn.preprocessing import LabelEncoder\n",
    "from transformers import AutoModel, AutoTokenizer\n",
    "from torch.utils.data import DataLoader, Dataset\n",
    "from torch import nn\n",
    "import numpy as np\n",
    "from scipy.linalg import inv\n",
    "from torch.optim import Adam"
   ]
  },
  {
   "cell_type": "code",
   "execution_count": 9,
   "id": "e46987c4-1aba-4b4f-a803-23052ca77f96",
   "metadata": {},
   "outputs": [],
   "source": [
    "# Load the dataset\n",
    "with open(\"clinc150_uci/data_full.json\", \"r\") as file:\n",
    "    data = json.load(file)\n",
    "# Extracting data\n",
    "train_data = data['train']\n",
    "val_data = data['val']\n",
    "test_data = data['test']\n",
    "\n",
    "oos_train_data = data['oos_train']\n",
    "oos_val_data = data['oos_val']\n",
    "oos_test_data = data['oos_test']\n",
    "\n",
    "# Get sentences and labels\n",
    "train_sentences = [item[0] for item in train_data]\n",
    "train_labels = [item[1] for item in train_data]\n",
    "\n",
    "val_sentences = [item[0] for item in val_data]\n",
    "val_labels = [item[1] for item in val_data]\n",
    "\n",
    "test_sentences = [item[0] for item in test_data]\n",
    "test_labels = [item[1] for item in test_data]\n",
    "\n",
    "oos_train_sentences = [item[0] for item in oos_train_data]\n",
    "oos_val_sentences = [item[0] for item in oos_val_data]\n",
    "oos_test_sentences = [item[0] for item in oos_test_data]\n"
   ]
  },
  {
   "cell_type": "markdown",
   "id": "9b12dd80-1971-4215-8486-8de1d655d5ed",
   "metadata": {},
   "source": [
    "# Encode Labels"
   ]
  },
  {
   "cell_type": "code",
   "execution_count": 10,
   "id": "92f9dd99-07c9-4e5a-993b-e73dfd0be95b",
   "metadata": {},
   "outputs": [],
   "source": [
    "label_encoder = LabelEncoder()\n",
    "# Fit the label encoder and transform labels to integers\n",
    "encoded_train_labels = label_encoder.fit_transform(train_labels)\n",
    "encoded_val_labels = label_encoder.fit_transform(val_labels)"
   ]
  },
  {
   "cell_type": "markdown",
   "id": "a38c1c26-f71a-4395-8ef9-01b52c930fdc",
   "metadata": {},
   "source": [
    "# Tokenize our sentences and create Dataloaders"
   ]
  },
  {
   "cell_type": "code",
   "execution_count": 11,
   "id": "2d3db18c-5804-4f09-9f6b-1f3131415fa9",
   "metadata": {},
   "outputs": [],
   "source": [
    "pretrained_model_name = \"distilroberta-base\"\n",
    "tokenizer = AutoTokenizer.from_pretrained(pretrained_model_name)\n",
    "transformer_model = AutoModel.from_pretrained(pretrained_model_name)\n",
    "\n",
    "class TextDataset(Dataset):\n",
    "    def __init__(self, sentences, labels, tokenizer, max_length=512):\n",
    "        self.encodings = tokenizer(sentences, truncation=True, padding=True, max_length=max_length)\n",
    "        self.labels = labels\n",
    "\n",
    "    def __getitem__(self, idx):\n",
    "        item = {key: torch.tensor(val[idx]) for key, val in self.encodings.items()}\n",
    "        item['labels'] = torch.tensor(self.labels[idx])\n",
    "        return item\n",
    "\n",
    "    def __len__(self):\n",
    "        return len(self.labels)\n",
    "\n",
    "# 2. Create the dataset\n",
    "max_length = 37 \n",
    "train_dataset = TextDataset(train_sentences, encoded_train_labels, tokenizer, max_length)\n",
    "val_dataset = TextDataset(val_sentences, encoded_val_labels, tokenizer, max_length)"
   ]
  },
  {
   "cell_type": "markdown",
   "id": "2d137706-db61-4152-80e7-8068e75e381f",
   "metadata": {},
   "source": [
    "# Define functions to encode our sentences"
   ]
  },
  {
   "cell_type": "code",
   "execution_count": 12,
   "id": "2952162c-8da1-4cae-ae22-5eb06fa41ec9",
   "metadata": {},
   "outputs": [],
   "source": [
    "transformer_model.eval()\n",
    "device = torch.device(\"cuda\" if torch.cuda.is_available() else \"cpu\")\n",
    "transformer_model = transformer_model.to(device)\n",
    "def encode_sentences(model, sentences):\n",
    "    sentence_embeddings = []\n",
    "\n",
    "    for sentence in sentences:\n",
    "        encoded_input = tokenizer(sentence, return_tensors='pt', truncation=True, padding=True, max_length=512)\n",
    "        encoded_input = {k: v.to(device) for k, v in encoded_input.items()}  # Move input to GPU if available\n",
    "        with torch.no_grad():\n",
    "            model_output = transformer_model(**encoded_input)\n",
    "\n",
    "        pooled_output = model_output.last_hidden_state.mean(dim=1)\n",
    "        sentence_embeddings.append(pooled_output.cpu().numpy())\n",
    "\n",
    "    sentence_embeddings_np = np.concatenate(sentence_embeddings, axis=0)\n",
    "    return sentence_embeddings_np"
   ]
  },
  {
   "cell_type": "markdown",
   "id": "f5de918d-3a50-4ea9-84d2-8d2d03a0fa4e",
   "metadata": {},
   "source": [
    "# Define our model"
   ]
  },
  {
   "cell_type": "code",
   "execution_count": 13,
   "id": "c586c9a1-9e7c-4fbe-9ff8-087d8bd5f6d4",
   "metadata": {},
   "outputs": [],
   "source": [
    "transformer_model = AutoModel.from_pretrained(pretrained_model_name)\n",
    "import torch.nn as nn\n",
    "\n",
    "class TextClassifier(nn.Module):\n",
    "    def __init__(self, transformer_model):\n",
    "        super(TextClassifier, self).__init__()\n",
    "        self.transformer = transformer_model\n",
    "\n",
    "        # Encoder layers\n",
    "        self.encoder1 = nn.Linear(768, 512)\n",
    "        self.encoder2 = nn.Linear(512, 256)\n",
    "        self.encoder3 = nn.Linear(256, 128)\n",
    "\n",
    "        # Decoder layers\n",
    "        self.decoder1 = nn.Linear(128, 256)\n",
    "        self.decoder2 = nn.Linear(256, 512)\n",
    "        self.decoder3 = nn.Linear(512, 768)\n",
    "\n",
    "    def forward(self, input_ids, attention_mask):\n",
    "        # Transformer model output\n",
    "        transformer_output = self.transformer(input_ids=input_ids, attention_mask=attention_mask)\n",
    "        original_embeddings = transformer_output.last_hidden_state.max(dim=1).values\n",
    "\n",
    "        # Autoencoder forward pass\n",
    "        x = nn.functional.relu(self.encoder1(original_embeddings))\n",
    "        x = nn.functional.relu(self.encoder2(x))\n",
    "        x = nn.functional.relu(self.encoder3(x))\n",
    "        x = nn.functional.relu(self.decoder1(x))\n",
    "        x = nn.functional.relu(self.decoder2(x))\n",
    "        reconstructed_embeddings = self.decoder3(x)\n",
    "\n",
    "        return original_embeddings, reconstructed_embeddings\n"
   ]
  },
  {
   "cell_type": "markdown",
   "id": "f1940dba-2be2-43ec-94bc-7680692d2b43",
   "metadata": {},
   "source": [
    "# Define Reconstruction Loss"
   ]
  },
  {
   "cell_type": "code",
   "execution_count": 14,
   "id": "7079e12e-00fe-4fb7-82e2-bfb18be75400",
   "metadata": {},
   "outputs": [],
   "source": [
    "class ReconstructionLoss(nn.Module):\n",
    "    def __init__(self):\n",
    "        super(ReconstructionLoss, self).__init__()\n",
    "        self.mse_loss = nn.MSELoss()\n",
    "\n",
    "    def forward(self, original_embeddings, reconstructed_embeddings):\n",
    "        return self.mse_loss(original_embeddings, reconstructed_embeddings)"
   ]
  },
  {
   "cell_type": "code",
   "execution_count": 15,
   "id": "122d1e5e-c984-48e2-8475-7842176d13d4",
   "metadata": {},
   "outputs": [],
   "source": [
    "loss_function = ReconstructionLoss()"
   ]
  },
  {
   "cell_type": "markdown",
   "id": "98181737-c127-41a7-beb3-ab66172b9303",
   "metadata": {},
   "source": [
    "# Initiallize everything else we needed"
   ]
  },
  {
   "cell_type": "code",
   "execution_count": 21,
   "id": "c9836c07-b6b3-43e0-adf9-178ebcdcea68",
   "metadata": {},
   "outputs": [],
   "source": [
    "pretrained_model_name = \"distilroberta-base\"\n",
    "unique_intents = list(set(train_labels)) \n",
    "transformer_model = AutoModel.from_pretrained(pretrained_model_name)\n",
    "transformer_model.to(device)\n",
    "model = TextClassifier(transformer_model)\n",
    "model.to(device)\n",
    "optimizer = Adam(model.parameters(), lr=1e-3)\n",
    "training_losses = []\n",
    "validation_losses = []\n",
    "batch_size= 32\n",
    "train_dataloader = DataLoader(train_dataset, batch_size=batch_size, shuffle=True)\n",
    "val_dataloader = DataLoader(val_dataset, batch_size=batch_size)"
   ]
  },
  {
   "cell_type": "code",
   "execution_count": 22,
   "id": "ed9508c7-081f-469a-96d2-16461816e58c",
   "metadata": {},
   "outputs": [],
   "source": [
    "num_epochs = 50"
   ]
  },
  {
   "cell_type": "markdown",
   "id": "c0c9a636-af8e-4d4c-abb2-fc1370da38a3",
   "metadata": {},
   "source": [
    "# Training Loop!!!"
   ]
  },
  {
   "cell_type": "code",
   "execution_count": 23,
   "id": "903bf045-515e-4c93-999f-136d077d391c",
   "metadata": {},
   "outputs": [
    {
     "name": "stdout",
     "output_type": "stream",
     "text": [
      "Epoch 1/50: Lower validation loss found. Model saved.\n",
      "Epoch 1/50, Training Loss: 8.45015e-03, Validation Loss: 2.03758e-01\n",
      "Epoch 2/50: Lower validation loss found. Model saved.\n",
      "Epoch 2/50, Training Loss: 1.47280e-04, Validation Loss: 1.65491e-01\n",
      "Epoch 3/50: Lower validation loss found. Model saved.\n",
      "Epoch 3/50, Training Loss: 1.25005e-04, Validation Loss: 1.14246e-01\n",
      "Epoch 4/50: Lower validation loss found. Model saved.\n",
      "Epoch 4/50, Training Loss: 9.95899e-05, Validation Loss: 8.81567e-02\n",
      "Epoch 5/50: Lower validation loss found. Model saved.\n",
      "Epoch 5/50, Training Loss: 8.40973e-05, Validation Loss: 6.81393e-02\n",
      "Epoch 6/50: Lower validation loss found. Model saved.\n",
      "Epoch 6/50, Training Loss: 7.07286e-05, Validation Loss: 5.16340e-02\n",
      "Epoch 7/50: Lower validation loss found. Model saved.\n",
      "Epoch 7/50, Training Loss: 5.35036e-05, Validation Loss: 4.21604e-02\n",
      "Epoch 8/50: Lower validation loss found. Model saved.\n",
      "Epoch 8/50, Training Loss: 4.49708e-05, Validation Loss: 3.32764e-02\n",
      "Epoch 9/50: Lower validation loss found. Model saved.\n",
      "Epoch 9/50, Training Loss: 3.76225e-05, Validation Loss: 2.28606e-02\n",
      "Epoch 10/50: Lower validation loss found. Model saved.\n",
      "Epoch 10/50, Training Loss: 3.07750e-05, Validation Loss: 1.52235e-02\n",
      "Epoch 11/50: Lower validation loss found. Model saved.\n",
      "Epoch 11/50, Training Loss: 2.18993e-05, Validation Loss: 8.72052e-03\n",
      "Epoch 12/50: Lower validation loss found. Model saved.\n",
      "Epoch 12/50, Training Loss: 1.43635e-05, Validation Loss: 3.84063e-03\n",
      "Epoch 13/50: Lower validation loss found. Model saved.\n",
      "Epoch 13/50, Training Loss: 8.36230e-06, Validation Loss: 1.88467e-03\n",
      "Epoch 14/50: Lower validation loss found. Model saved.\n",
      "Epoch 14/50, Training Loss: 5.14312e-06, Validation Loss: 8.11028e-04\n",
      "Epoch 15/50: Lower validation loss found. Model saved.\n",
      "Epoch 15/50, Training Loss: 3.34294e-06, Validation Loss: 3.63144e-04\n",
      "Epoch 16/50: Lower validation loss found. Model saved.\n",
      "Epoch 16/50, Training Loss: 2.41229e-06, Validation Loss: 1.83542e-04\n",
      "Epoch 17/50: Lower validation loss found. Model saved.\n",
      "Epoch 17/50, Training Loss: 2.00267e-06, Validation Loss: 1.16025e-04\n",
      "Epoch 18/50: Lower validation loss found. Model saved.\n",
      "Epoch 18/50, Training Loss: 1.75076e-06, Validation Loss: 8.25611e-05\n",
      "Epoch 19/50: Lower validation loss found. Model saved.\n",
      "Epoch 19/50, Training Loss: 1.51371e-06, Validation Loss: 7.86176e-05\n",
      "Epoch 20/50: Lower validation loss found. Model saved.\n",
      "Epoch 20/50, Training Loss: 1.50087e-06, Validation Loss: 6.64284e-05\n",
      "Epoch 21/50: Lower validation loss found. Model saved.\n",
      "Epoch 21/50, Training Loss: 1.72765e-06, Validation Loss: 6.27566e-05\n",
      "Epoch 22/50: Lower validation loss found. Model saved.\n",
      "Epoch 22/50, Training Loss: 1.23892e-06, Validation Loss: 4.75182e-05\n",
      "Epoch 23/50: Lower validation loss found. Model saved.\n",
      "Epoch 23/50, Training Loss: 1.17280e-06, Validation Loss: 4.06728e-05\n",
      "Epoch 24/50: Lower validation loss found. Model saved.\n",
      "Epoch 24/50, Training Loss: 1.04606e-06, Validation Loss: 3.19608e-05\n",
      "Epoch 25/50: Lower validation loss found. Model saved.\n",
      "Epoch 25/50, Training Loss: 9.55719e-07, Validation Loss: 2.81022e-05\n",
      "Epoch 26/50: Lower validation loss found. Model saved.\n",
      "Epoch 26/50, Training Loss: 9.28826e-07, Validation Loss: 2.37733e-05\n",
      "Epoch 27/50: Lower validation loss found. Model saved.\n",
      "Epoch 27/50, Training Loss: 7.96614e-07, Validation Loss: 2.18869e-05\n",
      "Epoch 28/50: Lower validation loss found. Model saved.\n",
      "Epoch 28/50, Training Loss: 6.54348e-07, Validation Loss: 1.86248e-05\n",
      "Epoch 29/50: Lower validation loss found. Model saved.\n",
      "Epoch 29/50, Training Loss: 6.68698e-07, Validation Loss: 1.60420e-05\n",
      "Epoch 30/50: Lower validation loss found. Model saved.\n",
      "Epoch 30/50, Training Loss: 5.53467e-07, Validation Loss: 1.38423e-05\n",
      "Epoch 31/50, Training Loss: 5.50234e-07, Validation Loss: 1.44478e-05\n",
      "Epoch 32/50: Lower validation loss found. Model saved.\n",
      "Epoch 32/50, Training Loss: 4.14421e-07, Validation Loss: 1.22362e-05\n",
      "Epoch 33/50: Lower validation loss found. Model saved.\n",
      "Epoch 33/50, Training Loss: 4.55362e-07, Validation Loss: 1.03380e-05\n",
      "Epoch 34/50: Lower validation loss found. Model saved.\n",
      "Epoch 34/50, Training Loss: 4.02761e-07, Validation Loss: 9.70530e-06\n",
      "Epoch 35/50: Lower validation loss found. Model saved.\n",
      "Epoch 35/50, Training Loss: 3.71376e-07, Validation Loss: 8.66119e-06\n",
      "Epoch 36/50: Lower validation loss found. Model saved.\n",
      "Epoch 36/50, Training Loss: 3.30704e-07, Validation Loss: 7.73867e-06\n",
      "Epoch 37/50: Lower validation loss found. Model saved.\n",
      "Epoch 37/50, Training Loss: 3.45116e-07, Validation Loss: 7.72599e-06\n",
      "Epoch 38/50: Lower validation loss found. Model saved.\n",
      "Epoch 38/50, Training Loss: 2.80679e-07, Validation Loss: 5.95131e-06\n",
      "Epoch 39/50, Training Loss: 2.98104e-07, Validation Loss: 6.39912e-06\n",
      "Epoch 40/50, Training Loss: 2.59352e-07, Validation Loss: 6.10497e-06\n",
      "Epoch 41/50: Lower validation loss found. Model saved.\n",
      "Epoch 41/50, Training Loss: 2.49466e-07, Validation Loss: 5.13857e-06\n",
      "Epoch 42/50: Lower validation loss found. Model saved.\n",
      "Epoch 42/50, Training Loss: 2.42620e-07, Validation Loss: 4.81777e-06\n",
      "Epoch 43/50: Lower validation loss found. Model saved.\n",
      "Epoch 43/50, Training Loss: 2.32596e-07, Validation Loss: 4.64323e-06\n",
      "Epoch 44/50: Lower validation loss found. Model saved.\n",
      "Epoch 44/50, Training Loss: 2.34304e-07, Validation Loss: 4.26343e-06\n",
      "Epoch 45/50: Lower validation loss found. Model saved.\n",
      "Epoch 45/50, Training Loss: 2.03463e-07, Validation Loss: 4.06972e-06\n",
      "Epoch 46/50: Lower validation loss found. Model saved.\n",
      "Epoch 46/50, Training Loss: 2.10032e-07, Validation Loss: 3.74064e-06\n",
      "Epoch 47/50, Training Loss: 2.10211e-07, Validation Loss: 3.89883e-06\n",
      "Epoch 48/50, Training Loss: 2.08681e-07, Validation Loss: 4.25855e-06\n",
      "Epoch 49/50: Lower validation loss found. Model saved.\n",
      "Epoch 49/50, Training Loss: 1.91231e-07, Validation Loss: 3.67895e-06\n",
      "Epoch 50/50: Lower validation loss found. Model saved.\n",
      "Epoch 50/50, Training Loss: 1.74695e-07, Validation Loss: 3.15034e-06\n"
     ]
    }
   ],
   "source": [
    "best_val_loss = float('inf')\n",
    "for epoch in range(num_epochs):\n",
    "    # Training Phase\n",
    "    model.train()  # Set the model to training mode\n",
    "    total_train_loss = 0\n",
    "    for batch in train_dataloader:\n",
    "        input_ids, attention_mask, labels = batch['input_ids'].to(device), batch['attention_mask'].to(device), batch['labels'].to(device)\n",
    "        optimizer.zero_grad()  # Zero the gradients\n",
    "        original_embeddings, reconstructed_embeddings = model(input_ids, attention_mask)\n",
    "        loss = loss_function(original_embeddings, reconstructed_embeddings)\n",
    "        loss.backward()  # Backward pass\n",
    "        optimizer.step()  # Update weights\n",
    "\n",
    "        total_train_loss += loss.item()\n",
    "    \n",
    "    avg_train_loss = total_train_loss / len(train_dataloader)\n",
    "    training_losses.append(avg_train_loss) \n",
    "\n",
    "    # Validation Phase\n",
    "    model.eval()  # Set the model to evaluation mode\n",
    "    total_val_loss = 0\n",
    "    with torch.no_grad():  # Disable gradient calculations\n",
    "        for batch in val_dataloader:\n",
    "            input_ids, attention_mask, labels = batch['input_ids'].to(device), batch['attention_mask'].to(device), batch['labels'].to(device)\n",
    "            original_embeddings, reconstructed_embeddings = model(input_ids, attention_mask)\n",
    "            loss = loss_function(original_embeddings, reconstructed_embeddings)  # Compute loss\n",
    "            total_val_loss += loss.item()\n",
    "    avg_val_loss = total_val_loss / len(val_dataloader)\n",
    "    if avg_val_loss < best_val_loss:\n",
    "        best_val_loss = avg_val_loss\n",
    "        # Save the model\n",
    "        torch.save(model, 'best_autoencoder_model.pth')\n",
    "        print(f\"Epoch {epoch+1}/{num_epochs}: Lower validation loss found. Model saved.\")\n",
    "    validation_losses.append(avg_val_loss)\n",
    "    print(f\"Epoch {epoch+1}/{num_epochs}, Training Loss: {avg_train_loss:.5e}, Validation Loss: {avg_val_loss:.5e}\")"
   ]
  },
  {
   "cell_type": "markdown",
   "id": "a7e32293-8028-4ebe-8a10-3fc012782ad1",
   "metadata": {},
   "source": [
    "# Calculate means and covariance matrix"
   ]
  },
  {
   "cell_type": "code",
   "execution_count": 32,
   "id": "eba64b40-f47d-4a2b-9fe6-3839dc18890e",
   "metadata": {},
   "outputs": [],
   "source": [
    "fine_model = torch.load(\"best_autoencoder_model.pth\")\n",
    "fine_model.eval()  # Put the model in evaluation mode\n",
    "fine_model = fine_model.to(device)"
   ]
  },
  {
   "cell_type": "code",
   "execution_count": 33,
   "id": "d313cc44-0e2c-4851-88c1-147dd23ac09e",
   "metadata": {},
   "outputs": [],
   "source": [
    "train_embeddings = encode_sentences(fine_model, train_sentences)\n",
    "val_embeddings = encode_sentences(fine_model, val_sentences)\n",
    "test_embeddings = encode_sentences(fine_model, test_sentences)\n",
    "oos_train_embeddings = encode_sentences(fine_model, oos_train_sentences)\n",
    "oos_val_embeddings = encode_sentences(fine_model, oos_val_sentences)\n",
    "oos_test_embeddings = encode_sentences(fine_model, oos_test_sentences)"
   ]
  },
  {
   "cell_type": "code",
   "execution_count": 34,
   "id": "ec7c0396-bdbf-47e5-8071-63001dea2d3f",
   "metadata": {},
   "outputs": [],
   "source": [
    "intent_means = {}\n",
    "for encoded_label in np.unique(encoded_train_labels):\n",
    "    # Find indices where the encoded label matches\n",
    "    indices = np.where(encoded_train_labels == encoded_label)[0]\n",
    "    \n",
    "    # Calculate the mean embedding for the current intent\n",
    "    intent_embeddings = train_embeddings[indices]\n",
    "    intent_mean = np.mean(intent_embeddings, axis=0)\n",
    "    \n",
    "    # Use the encoded label as the dictionary key\n",
    "    intent_means[encoded_label] = intent_mean"
   ]
  },
  {
   "cell_type": "code",
   "execution_count": 35,
   "id": "cf9f9fe7-4b7f-41d7-a81d-f1cf570254eb",
   "metadata": {},
   "outputs": [],
   "source": [
    "covariance = np.cov(train_embeddings, rowvar=False)\n",
    "cov_inverse = inv(covariance)"
   ]
  },
  {
   "cell_type": "code",
   "execution_count": 36,
   "id": "f3f854ee-b40a-452a-82b6-687e6629a9f1",
   "metadata": {},
   "outputs": [],
   "source": [
    "from sklearn.metrics import roc_auc_score, average_precision_score, roc_curve\n",
    "from scipy.spatial import distance\n",
    "from sklearn.metrics import average_precision_score"
   ]
  },
  {
   "cell_type": "code",
   "execution_count": 37,
   "id": "27ba7dac-3784-4b15-b1d0-b171099d3b1f",
   "metadata": {},
   "outputs": [],
   "source": [
    "def min_mahalanobis_for_sample(sample, intent_means, cov_inverse):\n",
    "    distances = [distance.mahalanobis(sample, mean, cov_inverse) for mean in intent_means.values()]\n",
    "    return min(distances)"
   ]
  },
  {
   "cell_type": "code",
   "execution_count": 38,
   "id": "425b8398-4a6f-44bd-99a3-1d929584d5e0",
   "metadata": {},
   "outputs": [
    {
     "data": {
      "text/plain": [
       "0.17947477034010278"
      ]
     },
     "execution_count": 38,
     "metadata": {},
     "output_type": "execute_result"
    }
   ],
   "source": [
    "# Compute minimum Mahalanobis distances for samples in test_embeddings and oos_test_embeddings\n",
    "test_scores = [min_mahalanobis_for_sample(sample, intent_means, cov_inverse) for sample in test_embeddings]\n",
    "oos_test_scores = [min_mahalanobis_for_sample(sample, intent_means, cov_inverse) for sample in oos_test_embeddings]\n",
    "\n",
    "# True binary labels: 0 for in-domain and 1 for OOD\n",
    "y_true = [0] * len(test_scores) + [1] * len(oos_test_scores)\n",
    "\n",
    "# Combine the scores\n",
    "y_scores = test_scores + oos_test_scores\n",
    "\n",
    "# Compute AUPR\n",
    "aupr = average_precision_score(y_true, y_scores)\n",
    "aupr\n"
   ]
  },
  {
   "cell_type": "code",
   "execution_count": 39,
   "id": "0b5bf5ab-e718-4a7a-a710-5512372b069f",
   "metadata": {},
   "outputs": [
    {
     "data": {
      "image/png": "[encoded data removed]",
      "text/plain": [
       "<Figure size 1000x600 with 1 Axes>"
      ]
     },
     "metadata": {},
     "output_type": "display_data"
    }
   ],
   "source": [
    "import matplotlib.pyplot as plt\n",
    "\n",
    "# Set up the figure and axes\n",
    "plt.figure(figsize=(10, 6))\n",
    "\n",
    "# Plot the histograms\n",
    "plt.hist(test_scores, bins=50, alpha=0.5, label='In-domain')\n",
    "plt.hist(oos_test_scores, bins=50, alpha=0.5, label='Out-of-domain')\n",
    "\n",
    "# Add legend, title, and labels\n",
    "plt.legend(loc='upper right')\n",
    "plt.title('Distribution of Minimum Mahalanobis Distances')\n",
    "plt.xlabel('Mahalanobis Distance')\n",
    "plt.ylabel('Number of Samples')\n",
    "plt.grid(True, which='both', linestyle='--', linewidth=0.5)\n",
    "plt.tight_layout()\n",
    "\n",
    "# Show the plot\n",
    "plt.show()\n"
   ]
  },
  {
   "cell_type": "code",
   "execution_count": null,
   "id": "07795d99-5725-4fed-a1d0-b1bb9dc6af54",
   "metadata": {},
   "outputs": [],
   "source": []
  }
 ],
 "metadata": {
  "kernelspec": {
   "display_name": "Python 3 (ipykernel)",
   "language": "python",
   "name": "python3"
  },
  "language_info": {
   "codemirror_mode": {
    "name": "ipython",
    "version": 3
   },
   "file_extension": ".py",
   "mimetype": "text/x-python",
   "name": "python",
   "nbconvert_exporter": "python",
   "pygments_lexer": "ipython3",
   "version": "3.11.6"
  }
 },
 "nbformat": 4,
 "nbformat_minor": 5
}
