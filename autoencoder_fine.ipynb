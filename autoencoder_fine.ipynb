{
 "cells": [
  {
   "cell_type": "markdown",
   "id": "1897c26a-1cb2-4ad1-94d3-8cf70b70ee51",
   "metadata": {},
   "source": [
    "# Load Data"
   ]
  },
  {
   "cell_type": "code",
   "execution_count": 1,
   "id": "a3450eef-470e-4540-9c6a-99af76a5e966",
   "metadata": {
    "ExecuteTime": {
     "end_time": "2023-12-01T07:38:04.721661140Z",
     "start_time": "2023-12-01T07:38:03.867605995Z"
    }
   },
   "outputs": [],
   "source": [
    "import json\n",
    "import torch\n",
    "import random\n",
    "from sklearn.preprocessing import LabelEncoder\n",
    "from transformers import AutoModel, AutoTokenizer\n",
    "from torch.utils.data import DataLoader, Dataset\n",
    "from torch import nn\n",
    "import numpy as np\n",
    "from scipy.linalg import inv\n",
    "from torch.optim import Adam"
   ]
  },
  {
   "cell_type": "markdown",
   "id": "31f96c05-0753-42a0-a801-beb4c2aed962",
   "metadata": {},
   "source": [
    "# CLINC150"
   ]
  },
  {
   "cell_type": "code",
   "execution_count": 2,
   "id": "e46987c4-1aba-4b4f-a803-23052ca77f96",
   "metadata": {
    "ExecuteTime": {
     "end_time": "2023-12-01T07:38:04.774005458Z",
     "start_time": "2023-12-01T07:38:04.723166259Z"
    }
   },
   "outputs": [],
   "source": [
    "# Load the dataset\n",
    "with open(\"clinc150_uci/data_full.json\", \"r\") as file:\n",
    "    data = json.load(file)\n",
    "# Extracting data\n",
    "train_data = data['train']\n",
    "val_data = data['val']\n",
    "test_data = data['test']\n",
    "\n",
    "oos_train_data = data['oos_train']\n",
    "oos_val_data = data['oos_val']\n",
    "oos_test_data = data['oos_test']\n",
    "\n",
    "# Get sentences and labels\n",
    "train_sentences = [item[0] for item in train_data]\n",
    "train_labels = [item[1] for item in train_data]\n",
    "\n",
    "val_sentences = [item[0] for item in val_data]\n",
    "val_labels = [item[1] for item in val_data]\n",
    "\n",
    "test_sentences = [item[0] for item in test_data]\n",
    "test_labels = [item[1] for item in test_data]\n",
    "\n",
    "oos_train_sentences = [item[0] for item in oos_train_data]\n",
    "oos_val_sentences = [item[0] for item in oos_val_data]\n",
    "oos_test_sentences = [item[0] for item in oos_test_data]\n"
   ]
  },
  {
   "cell_type": "markdown",
   "id": "42b779be-a7df-4697-ae69-bba69171ac2c",
   "metadata": {},
   "source": [
    "# SLURP"
   ]
  },
  {
   "cell_type": "code",
   "execution_count": 3,
   "id": "d3b414e9-6912-4c60-95f4-7abd2a42d7d5",
   "metadata": {},
   "outputs": [],
   "source": [
    "# def load_data(file_path):\n",
    "#     sentences = []\n",
    "#     scenarios = []\n",
    "#     with open(file_path, 'r') as file:\n",
    "#         for line in file:\n",
    "#             data = json.loads(line)\n",
    "#             sentence = data.get('sentence', None)\n",
    "#             scenario = data.get('scenario', None)\n",
    "#             if sentence is not None and scenario is not None:\n",
    "#                 sentences.append(sentence)\n",
    "#                 scenarios.append(scenario)\n",
    "#     return sentences, scenarios\n",
    "\n",
    "# # Randomly select one domain to be out of scope\n",
    "# unique_scenarios = {'alarm', 'audio', 'calendar', 'cooking', 'datetime', 'email', 'general', 'iot', 'lists', 'music', 'news', 'play', 'qa', 'recommendation', 'social', 'takeaway', 'transport', 'weather'}\n",
    "# oos_scenario = random.choice(list(unique_scenarios))\n",
    "\n",
    "# # Load data from files\n",
    "# train_sentences, train_labels = load_data('slurp/dataset/slurp/train.jsonl')\n",
    "# val_sentences, val_labels = load_data('slurp/dataset/slurp/devel.jsonl')\n",
    "# test_sentences, test_labels = load_data('slurp/dataset/slurp/test.jsonl')\n",
    "\n",
    "# # Separate out of scope data\n",
    "# oos_train_data = [(s, l) for s, l in zip(train_sentences, train_labels) if l == oos_scenario]\n",
    "# oos_val_data = [(s, l) for s, l in zip(val_sentences, val_labels) if l == oos_scenario]\n",
    "# oos_test_data = [(s, l) for s, l in zip(test_sentences, test_labels) if l == oos_scenario]\n",
    "\n",
    "# # Remove out of scope data from original sets\n",
    "# train_data = [(s, l) for s, l in zip(train_sentences, train_labels) if l != oos_scenario]\n",
    "# val_data = [(s, l) for s, l in zip(val_sentences, val_labels) if l != oos_scenario]\n",
    "# test_data = [(s, l) for s, l in zip(test_sentences, test_labels) if l != oos_scenario]\n",
    "\n",
    "# # Extract sentences and labels\n",
    "# train_sentences = [item[0] for item in train_data]\n",
    "# train_labels = [item[1] for item in train_data]\n",
    "\n",
    "# val_sentences = [item[0] for item in val_data]\n",
    "# val_labels = [item[1] for item in val_data]\n",
    "\n",
    "# test_sentences = [item[0] for item in test_data]\n",
    "# test_labels = [item[1] for item in test_data]\n",
    "\n",
    "# oos_train_sentences = [item[0] for item in oos_train_data]\n",
    "# oos_val_sentences = [item[0] for item in oos_val_data]\n",
    "# oos_test_sentences = [item[0] for item in oos_test_data]"
   ]
  },
  {
   "cell_type": "code",
   "execution_count": 4,
   "id": "d591f29e-0d13-49d3-a11f-437e77287057",
   "metadata": {},
   "outputs": [
    {
     "ename": "NameError",
     "evalue": "name 'oos_scenario' is not defined",
     "output_type": "error",
     "traceback": [
      "\u001b[0;31m---------------------------------------------------------------------------\u001b[0m",
      "\u001b[0;31mNameError\u001b[0m                                 Traceback (most recent call last)",
      "Cell \u001b[0;32mIn[4], line 1\u001b[0m\n\u001b[0;32m----> 1\u001b[0m \u001b[43moos_scenario\u001b[49m\n",
      "\u001b[0;31mNameError\u001b[0m: name 'oos_scenario' is not defined"
     ]
    }
   ],
   "source": [
    "oos_scenario"
   ]
  },
  {
   "cell_type": "code",
   "execution_count": 3,
   "id": "1396e6d2-59bb-4c39-9c07-2893365b4c30",
   "metadata": {},
   "outputs": [
    {
     "data": {
      "text/plain": [
       "15000"
      ]
     },
     "execution_count": 3,
     "metadata": {},
     "output_type": "execute_result"
    }
   ],
   "source": [
    "len(train_sentences)"
   ]
  },
  {
   "cell_type": "markdown",
   "id": "9b12dd80-1971-4215-8486-8de1d655d5ed",
   "metadata": {},
   "source": [
    "# Encode Labels"
   ]
  },
  {
   "cell_type": "code",
   "execution_count": 38,
   "id": "92f9dd99-07c9-4e5a-993b-e73dfd0be95b",
   "metadata": {
    "ExecuteTime": {
     "end_time": "2023-12-01T07:38:05.423215976Z",
     "start_time": "2023-12-01T07:38:05.406651396Z"
    }
   },
   "outputs": [],
   "source": [
    "label_encoder = LabelEncoder()\n",
    "# Fit the label encoder and transform labels to integers\n",
    "encoded_train_labels = label_encoder.fit_transform(train_labels)\n",
    "encoded_val_labels = label_encoder.fit_transform(val_labels)"
   ]
  },
  {
   "cell_type": "code",
   "execution_count": 39,
   "id": "db936701-4cfa-4f39-a698-9f93b7f972ec",
   "metadata": {},
   "outputs": [],
   "source": [
    "# This is just for the transfomer model from ce to be loaded\n",
    "class TextClassifier(nn.Module):\n",
    "    def __init__(self, transformer_model, num_labels):\n",
    "        super(TextClassifier, self).__init__()\n",
    "        self.transformer = transformer_model\n",
    "        self.classifier = nn.Linear(self.transformer.config.hidden_size, num_labels)\n",
    "    \n",
    "    def forward(self, input_ids, attention_mask):\n",
    "        # Get the output from the transformer model\n",
    "        transformer_output = self.transformer(input_ids=input_ids, attention_mask=attention_mask)\n",
    "        sentence_embedding = transformer_output.last_hidden_state.max(dim=1).values\n",
    "        # Forward pass through the classifier layer\n",
    "        return self.classifier(sentence_embedding)"
   ]
  },
  {
   "cell_type": "markdown",
   "id": "a38c1c26-f71a-4395-8ef9-01b52c930fdc",
   "metadata": {},
   "source": [
    "# Tokenize our sentences and create Dataloaders"
   ]
  },
  {
   "cell_type": "code",
   "execution_count": 40,
   "id": "2d3db18c-5804-4f09-9f6b-1f3131415fa9",
   "metadata": {
    "ExecuteTime": {
     "end_time": "2023-12-01T07:38:07.327824427Z",
     "start_time": "2023-12-01T07:38:06.135883081Z"
    }
   },
   "outputs": [],
   "source": [
    "pretrained_model_name = \"distilroberta-base\"\n",
    "best_ce_model = torch.load(\"best_ce_model.pth\")\n",
    "tokenizer = AutoTokenizer.from_pretrained(pretrained_model_name)\n",
    "transformer_model = best_ce_model.transformer\n",
    "#transformer_model = AutoModel.from_pretrained(pretrained_model_name)\n"
   ]
  },
  {
   "cell_type": "code",
   "execution_count": 41,
   "id": "1ab67fd0-7073-4495-b464-8ecb4b2b3300",
   "metadata": {},
   "outputs": [
    {
     "name": "stdout",
     "output_type": "stream",
     "text": [
      "Max length for tokenizer: 37\n"
     ]
    }
   ],
   "source": [
    "tokenized_lengths = [len(tokenizer.encode(sentence, add_special_tokens=True)) for sentence in train_sentences]\n",
    "max_length = max(tokenized_lengths)\n",
    "print(f\"Max length for tokenizer: {max_length}\")"
   ]
  },
  {
   "cell_type": "code",
   "execution_count": 42,
   "id": "e9090dc4-fe28-4c23-b21b-5ba229eb8fe0",
   "metadata": {},
   "outputs": [],
   "source": [
    "class TextDataset(Dataset):\n",
    "    def __init__(self, sentences, labels, tokenizer, max_length):\n",
    "        self.encodings = tokenizer(sentences, truncation=True, padding=True, max_length=max_length)\n",
    "        self.labels = labels\n",
    "\n",
    "    def __getitem__(self, idx):\n",
    "        item = {key: torch.tensor(val[idx]) for key, val in self.encodings.items()}\n",
    "        item['labels'] = torch.tensor(self.labels[idx])\n",
    "        return item\n",
    "\n",
    "    def __len__(self):\n",
    "        return len(self.labels)\n",
    "\n",
    "# 2. Create the dataset\n",
    "train_dataset = TextDataset(train_sentences, encoded_train_labels, tokenizer, max_length)\n",
    "val_dataset = TextDataset(val_sentences, encoded_val_labels, tokenizer, max_length)"
   ]
  },
  {
   "cell_type": "markdown",
   "id": "2d137706-db61-4152-80e7-8068e75e381f",
   "metadata": {},
   "source": [
    "# Define functions to encode our sentences"
   ]
  },
  {
   "cell_type": "code",
   "execution_count": 43,
   "id": "5a8213f6-4be9-41e6-95cd-07d9fa53a58c",
   "metadata": {},
   "outputs": [],
   "source": [
    "device = torch.device(\"cuda\" if torch.cuda.is_available() else \"cpu\")"
   ]
  },
  {
   "cell_type": "code",
   "execution_count": 44,
   "id": "2952162c-8da1-4cae-ae22-5eb06fa41ec9",
   "metadata": {
    "ExecuteTime": {
     "end_time": "2023-12-01T07:38:07.931914441Z",
     "start_time": "2023-12-01T07:38:07.768420485Z"
    }
   },
   "outputs": [],
   "source": [
    "transformer_model.eval()\n",
    "transformer_model = transformer_model.to(device)\n",
    "def encode_sentences(model, sentences):\n",
    "    sentence_embeddings = []\n",
    "\n",
    "    for sentence in sentences:\n",
    "        encoded_input = tokenizer(sentence, return_tensors='pt', truncation=True, padding=True, max_length=max_length)\n",
    "        encoded_input = {k: v.to(device) for k, v in encoded_input.items()}\n",
    "        with torch.no_grad():\n",
    "            model_output = model(**encoded_input)\n",
    "\n",
    "        # Using pooler_output\n",
    "        sentence_embedding = model_output.last_hidden_state.max(dim=1).values\n",
    "        sentence_embeddings.append(sentence_embedding.cpu().numpy())\n",
    "\n",
    "    sentence_embeddings_np = np.concatenate(sentence_embeddings, axis=0)\n",
    "    return sentence_embeddings_np\n"
   ]
  },
  {
   "cell_type": "code",
   "execution_count": 47,
   "id": "86ece297-f93e-424b-9051-147ffa1f7bab",
   "metadata": {},
   "outputs": [],
   "source": [
    "test_before_fine = encode_sentences(transformer_model, test_sentences)"
   ]
  },
  {
   "cell_type": "code",
   "execution_count": 48,
   "id": "290d2076-317f-46ea-b662-b4c7ebf2a281",
   "metadata": {},
   "outputs": [
    {
     "data": {
      "text/plain": [
       "array([[-1.1863111 ,  0.08605812,  0.77187866, ..., -0.01427295,\n",
       "        -0.16371396,  0.05548896],\n",
       "       [-0.5211822 , -0.09334413,  0.8267136 , ...,  0.26234072,\n",
       "         0.52932113, -0.09267343],\n",
       "       [-0.63188165, -0.06009592,  0.69428515, ..., -0.26533237,\n",
       "         0.26582038, -0.7362463 ],\n",
       "       ...,\n",
       "       [ 0.20671664,  0.00756379, -0.00494014, ...,  2.1312742 ,\n",
       "         1.0233384 , -0.27835307],\n",
       "       [ 0.98594856, -0.4223319 ,  0.2975854 , ...,  0.86799765,\n",
       "         0.8066172 , -1.3825599 ],\n",
       "       [ 0.6144992 , -0.34527656,  0.43303347, ...,  1.8063234 ,\n",
       "         1.0846337 , -0.8968681 ]], dtype=float32)"
      ]
     },
     "execution_count": 48,
     "metadata": {},
     "output_type": "execute_result"
    }
   ],
   "source": [
    "test_before_fine"
   ]
  },
  {
   "cell_type": "markdown",
   "id": "f5de918d-3a50-4ea9-84d2-8d2d03a0fa4e",
   "metadata": {},
   "source": [
    "# Define our model"
   ]
  },
  {
   "cell_type": "code",
   "execution_count": 137,
   "id": "c586c9a1-9e7c-4fbe-9ff8-087d8bd5f6d4",
   "metadata": {
    "ExecuteTime": {
     "end_time": "2023-12-01T07:38:09.600227529Z",
     "start_time": "2023-12-01T07:38:09.154881377Z"
    }
   },
   "outputs": [],
   "source": [
    "class TextClassifier(nn.Module):\n",
    "    def __init__(self, transformer_model):\n",
    "        super(TextClassifier, self).__init__()\n",
    "        self.transformer = transformer_model\n",
    "        # Freeze transformer parameters\n",
    "        for param in self.transformer.parameters():\n",
    "            param.requires_grad = False\n",
    "        # Encoder layers\n",
    "        self.encoder1 = nn.Linear(768, 512)\n",
    "        self.encoder2 = nn.Linear(512, 256)\n",
    "\n",
    "        # Decoder layers\n",
    "        self.decoder1 = nn.Linear(256, 512)\n",
    "        self.decoder2 = nn.Linear(512, 768)\n",
    "\n",
    "    def forward(self, input_ids, attention_mask):\n",
    "        # Transformer model output\n",
    "        transformer_output = self.transformer(input_ids=input_ids, attention_mask=attention_mask)\n",
    "        original_embeddings = transformer_output.last_hidden_state.max(dim=1).values\n",
    "\n",
    "        # Autoencoder forward pass\n",
    "        x = nn.functional.tanh(self.encoder1(original_embeddings))\n",
    "        x = nn.functional.tanh(self.encoder2(x))\n",
    "        \n",
    "        x = nn.functional.tanh(self.decoder1(x))\n",
    "        reconstructed_embeddings = self.decoder2(x)\n",
    "\n",
    "        return original_embeddings, reconstructed_embeddings"
   ]
  },
  {
   "cell_type": "markdown",
   "id": "f1940dba-2be2-43ec-94bc-7680692d2b43",
   "metadata": {},
   "source": [
    "# Define Reconstruction Loss"
   ]
  },
  {
   "cell_type": "code",
   "execution_count": 138,
   "id": "7079e12e-00fe-4fb7-82e2-bfb18be75400",
   "metadata": {
    "ExecuteTime": {
     "end_time": "2023-12-01T07:38:10.756886987Z",
     "start_time": "2023-12-01T07:38:10.755503502Z"
    }
   },
   "outputs": [],
   "source": [
    "class ReconstructionLoss(nn.Module):\n",
    "    def __init__(self):\n",
    "        super(ReconstructionLoss, self).__init__()\n",
    "        self.mse_loss = nn.MSELoss()\n",
    "\n",
    "    def forward(self, original_embeddings, reconstructed_embeddings):\n",
    "        return self.mse_loss(original_embeddings, reconstructed_embeddings)"
   ]
  },
  {
   "cell_type": "code",
   "execution_count": 139,
   "id": "122d1e5e-c984-48e2-8475-7842176d13d4",
   "metadata": {
    "ExecuteTime": {
     "end_time": "2023-12-01T07:38:11.368749731Z",
     "start_time": "2023-12-01T07:38:11.364897164Z"
    }
   },
   "outputs": [],
   "source": [
    "loss_function = ReconstructionLoss()"
   ]
  },
  {
   "cell_type": "markdown",
   "id": "98181737-c127-41a7-beb3-ab66172b9303",
   "metadata": {},
   "source": [
    "# Initiallize everything else we needed"
   ]
  },
  {
   "cell_type": "code",
   "execution_count": 140,
   "id": "c9836c07-b6b3-43e0-adf9-178ebcdcea68",
   "metadata": {
    "ExecuteTime": {
     "end_time": "2023-12-01T07:38:13.263966793Z",
     "start_time": "2023-12-01T07:38:12.771780958Z"
    }
   },
   "outputs": [],
   "source": [
    "unique_intents = list(set(train_labels)) \n",
    "transformer_model.to(device)\n",
    "model = TextClassifier(transformer_model)\n",
    "model.to(device)\n",
    "optimizer = Adam(model.parameters(), lr=6e-4)\n",
    "training_losses = []\n",
    "validation_losses = []\n",
    "batch_size= 128\n",
    "train_dataloader = DataLoader(train_dataset, batch_size=batch_size, shuffle=True)\n",
    "val_dataloader = DataLoader(val_dataset, batch_size=batch_size)"
   ]
  },
  {
   "cell_type": "code",
   "execution_count": 141,
   "id": "ed9508c7-081f-469a-96d2-16461816e58c",
   "metadata": {
    "ExecuteTime": {
     "end_time": "2023-12-01T07:38:13.956536576Z",
     "start_time": "2023-12-01T07:38:13.948457670Z"
    }
   },
   "outputs": [],
   "source": [
    "num_epochs = 200"
   ]
  },
  {
   "cell_type": "markdown",
   "id": "c0c9a636-af8e-4d4c-abb2-fc1370da38a3",
   "metadata": {},
   "source": [
    "# Training Loop!!!"
   ]
  },
  {
   "cell_type": "code",
   "execution_count": 142,
   "id": "903bf045-515e-4c93-999f-136d077d391c",
   "metadata": {
    "ExecuteTime": {
     "end_time": "2023-12-01T07:42:19.550420285Z",
     "start_time": "2023-12-01T07:38:15.626978073Z"
    }
   },
   "outputs": [
    {
     "name": "stdout",
     "output_type": "stream",
     "text": [
      "Epoch 1/200: Lower validation loss found. Model saved.\n",
      "Epoch 1/200, Training Loss: 3.74742e-01, Validation Loss: 2.67694e-01\n",
      "Epoch 2/200: Lower validation loss found. Model saved.\n",
      "Epoch 2/200, Training Loss: 1.41686e-01, Validation Loss: 1.47434e-01\n",
      "Epoch 3/200: Lower validation loss found. Model saved.\n",
      "Epoch 3/200, Training Loss: 8.44482e-02, Validation Loss: 1.06599e-01\n",
      "Epoch 4/200: Lower validation loss found. Model saved.\n",
      "Epoch 4/200, Training Loss: 6.17034e-02, Validation Loss: 8.70249e-02\n",
      "Epoch 5/200: Lower validation loss found. Model saved.\n",
      "Epoch 5/200, Training Loss: 5.09412e-02, Validation Loss: 7.58247e-02\n",
      "Epoch 6/200: Lower validation loss found. Model saved.\n",
      "Epoch 6/200, Training Loss: 4.53703e-02, Validation Loss: 7.10868e-02\n",
      "Epoch 7/200: Lower validation loss found. Model saved.\n",
      "Epoch 7/200, Training Loss: 4.21785e-02, Validation Loss: 6.88576e-02\n",
      "Epoch 8/200: Lower validation loss found. Model saved.\n",
      "Epoch 8/200, Training Loss: 4.01791e-02, Validation Loss: 6.64346e-02\n",
      "Epoch 9/200: Lower validation loss found. Model saved.\n",
      "Epoch 9/200, Training Loss: 3.87851e-02, Validation Loss: 6.47999e-02\n",
      "Epoch 10/200: Lower validation loss found. Model saved.\n",
      "Epoch 10/200, Training Loss: 3.76957e-02, Validation Loss: 6.24239e-02\n",
      "Epoch 11/200: Lower validation loss found. Model saved.\n",
      "Epoch 11/200, Training Loss: 3.69525e-02, Validation Loss: 6.21976e-02\n",
      "Epoch 12/200, Training Loss: 3.62754e-02, Validation Loss: 6.22020e-02\n",
      "Epoch 13/200: Lower validation loss found. Model saved.\n",
      "Epoch 13/200, Training Loss: 3.55687e-02, Validation Loss: 6.12311e-02\n",
      "Epoch 14/200: Lower validation loss found. Model saved.\n",
      "Epoch 14/200, Training Loss: 3.48779e-02, Validation Loss: 6.01650e-02\n",
      "Epoch 15/200: Lower validation loss found. Model saved.\n",
      "Epoch 15/200, Training Loss: 3.42123e-02, Validation Loss: 5.88104e-02\n",
      "Epoch 16/200, Training Loss: 3.35760e-02, Validation Loss: 5.95879e-02\n",
      "Epoch 17/200: Lower validation loss found. Model saved.\n",
      "Epoch 17/200, Training Loss: 3.29239e-02, Validation Loss: 5.86404e-02\n",
      "Epoch 18/200: Lower validation loss found. Model saved.\n",
      "Epoch 18/200, Training Loss: 3.22087e-02, Validation Loss: 5.76995e-02\n",
      "Epoch 19/200: Lower validation loss found. Model saved.\n",
      "Epoch 19/200, Training Loss: 3.15184e-02, Validation Loss: 5.66053e-02\n",
      "Epoch 20/200, Training Loss: 3.09258e-02, Validation Loss: 5.79208e-02\n",
      "Epoch 21/200, Training Loss: 3.02951e-02, Validation Loss: 5.95147e-02\n",
      "Epoch 22/200, Training Loss: 2.96796e-02, Validation Loss: 5.69538e-02\n",
      "Epoch 23/200: Lower validation loss found. Model saved.\n",
      "Epoch 23/200, Training Loss: 2.92968e-02, Validation Loss: 5.61525e-02\n",
      "Epoch 24/200, Training Loss: 2.86839e-02, Validation Loss: 5.63721e-02\n",
      "Epoch 25/200, Training Loss: 2.82078e-02, Validation Loss: 5.72433e-02\n",
      "Epoch 26/200: Lower validation loss found. Model saved.\n",
      "Epoch 26/200, Training Loss: 2.76944e-02, Validation Loss: 5.45061e-02\n",
      "Epoch 27/200, Training Loss: 2.73656e-02, Validation Loss: 5.56073e-02\n",
      "Epoch 28/200, Training Loss: 2.69555e-02, Validation Loss: 5.52236e-02\n",
      "Epoch 29/200, Training Loss: 2.65820e-02, Validation Loss: 5.58773e-02\n",
      "Epoch 30/200, Training Loss: 2.61996e-02, Validation Loss: 5.62435e-02\n",
      "Epoch 31/200, Training Loss: 2.60224e-02, Validation Loss: 5.66279e-02\n",
      "Epoch 32/200, Training Loss: 2.56762e-02, Validation Loss: 5.66614e-02\n",
      "Epoch 33/200, Training Loss: 2.54104e-02, Validation Loss: 5.77701e-02\n",
      "Epoch 34/200, Training Loss: 2.51194e-02, Validation Loss: 5.65209e-02\n",
      "Epoch 35/200, Training Loss: 2.49296e-02, Validation Loss: 5.89274e-02\n",
      "Epoch 36/200, Training Loss: 2.46598e-02, Validation Loss: 5.80173e-02\n",
      "Epoch 37/200, Training Loss: 2.45789e-02, Validation Loss: 5.92484e-02\n"
     ]
    },
    {
     "ename": "KeyboardInterrupt",
     "evalue": "",
     "output_type": "error",
     "traceback": [
      "\u001b[0;31m---------------------------------------------------------------------------\u001b[0m",
      "\u001b[0;31mKeyboardInterrupt\u001b[0m                         Traceback (most recent call last)",
      "Cell \u001b[0;32mIn[142], line 14\u001b[0m\n\u001b[1;32m     11\u001b[0m     loss\u001b[38;5;241m.\u001b[39mbackward()  \u001b[38;5;66;03m# Backward pass\u001b[39;00m\n\u001b[1;32m     12\u001b[0m     optimizer\u001b[38;5;241m.\u001b[39mstep()  \u001b[38;5;66;03m# Update weights\u001b[39;00m\n\u001b[0;32m---> 14\u001b[0m     total_train_loss \u001b[38;5;241m+\u001b[39m\u001b[38;5;241m=\u001b[39m \u001b[43mloss\u001b[49m\u001b[38;5;241;43m.\u001b[39;49m\u001b[43mitem\u001b[49m\u001b[43m(\u001b[49m\u001b[43m)\u001b[49m\n\u001b[1;32m     16\u001b[0m avg_train_loss \u001b[38;5;241m=\u001b[39m total_train_loss \u001b[38;5;241m/\u001b[39m \u001b[38;5;28mlen\u001b[39m(train_dataloader)\n\u001b[1;32m     17\u001b[0m training_losses\u001b[38;5;241m.\u001b[39mappend(avg_train_loss) \n",
      "\u001b[0;31mKeyboardInterrupt\u001b[0m: "
     ]
    }
   ],
   "source": [
    "best_val_loss = float('inf')\n",
    "for epoch in range(num_epochs):\n",
    "    # Training Phase\n",
    "    model.train()  # Set the model to training mode\n",
    "    total_train_loss = 0\n",
    "    for batch in train_dataloader:\n",
    "        input_ids, attention_mask, labels = batch['input_ids'].to(device), batch['attention_mask'].to(device), batch['labels'].to(device)\n",
    "        optimizer.zero_grad()  # Zero the gradients\n",
    "        original_embeddings, reconstructed_embeddings = model(input_ids, attention_mask)\n",
    "        loss = loss_function(original_embeddings, reconstructed_embeddings)\n",
    "        loss.backward()  # Backward pass\n",
    "        optimizer.step()  # Update weights\n",
    "\n",
    "        total_train_loss += loss.item()\n",
    "    \n",
    "    avg_train_loss = total_train_loss / len(train_dataloader)\n",
    "    training_losses.append(avg_train_loss) \n",
    "\n",
    "    # Validation Phase\n",
    "    model.eval()  # Set the model to evaluation mode\n",
    "    total_val_loss = 0\n",
    "    with torch.no_grad():  # Disable gradient calculations\n",
    "        for batch in val_dataloader:\n",
    "            input_ids, attention_mask, labels = batch['input_ids'].to(device), batch['attention_mask'].to(device), batch['labels'].to(device)\n",
    "            original_embeddings, reconstructed_embeddings = model(input_ids, attention_mask)\n",
    "            loss = loss_function(original_embeddings, reconstructed_embeddings)  # Compute loss\n",
    "            total_val_loss += loss.item()\n",
    "    avg_val_loss = total_val_loss / len(val_dataloader)\n",
    "    if avg_val_loss < best_val_loss:\n",
    "        best_val_loss = avg_val_loss\n",
    "        # Save the model\n",
    "        torch.save(model, 'best_autoencoder_model.pth')\n",
    "        print(f\"Epoch {epoch+1}/{num_epochs}: Lower validation loss found. Model saved.\")\n",
    "    validation_losses.append(avg_val_loss)\n",
    "    print(f\"Epoch {epoch+1}/{num_epochs}, Training Loss: {avg_train_loss:.5e}, Validation Loss: {avg_val_loss:.5e}\")"
   ]
  },
  {
   "cell_type": "markdown",
   "id": "a7e32293-8028-4ebe-8a10-3fc012782ad1",
   "metadata": {},
   "source": [
    "# Calculate means and covariance matrix"
   ]
  },
  {
   "cell_type": "code",
   "execution_count": 143,
   "id": "eba64b40-f47d-4a2b-9fe6-3839dc18890e",
   "metadata": {
    "ExecuteTime": {
     "end_time": "2023-12-01T07:42:27.299616993Z",
     "start_time": "2023-12-01T07:42:27.186388460Z"
    }
   },
   "outputs": [],
   "source": [
    "fine_model = torch.load(\"best_autoencoder_model.pth\")\n",
    "fine_model.eval()  # Put the model in evaluation mode\n",
    "fine_model = fine_model.to(device)"
   ]
  },
  {
   "cell_type": "code",
   "execution_count": 144,
   "id": "cab109d7d077e530",
   "metadata": {
    "ExecuteTime": {
     "end_time": "2023-12-01T07:42:27.735028721Z",
     "start_time": "2023-12-01T07:42:27.728227844Z"
    },
    "collapsed": false,
    "jupyter": {
     "outputs_hidden": false
    }
   },
   "outputs": [],
   "source": [
    "def encode_sentences(model, sentences):\n",
    "    # the mode here is TextClassifier\n",
    "\n",
    "    encoded_inputs = tokenizer(sentences, padding=True, truncation=True, return_tensors='pt', \n",
    "                               max_length=max_length)\n",
    "    input_ids = encoded_inputs['input_ids'].to(device)\n",
    "    attention_mask = encoded_inputs['attention_mask'].to(device)\n",
    "    with torch.no_grad():\n",
    "        model.eval()  # Ensure the model is in evaluation mode\n",
    "        original_embeddings, reconstructed_embeddings = model(input_ids, attention_mask)\n",
    "    return original_embeddings.cpu(), reconstructed_embeddings.cpu()"
   ]
  },
  {
   "cell_type": "code",
   "execution_count": 145,
   "id": "d313cc44-0e2c-4851-88c1-147dd23ac09e",
   "metadata": {
    "ExecuteTime": {
     "end_time": "2023-12-01T07:42:29.631025780Z",
     "start_time": "2023-12-01T07:42:28.516869555Z"
    }
   },
   "outputs": [],
   "source": [
    "test_org, test_rec = encode_sentences(fine_model, test_sentences)\n",
    "oos_test_org, oos_test_rec = encode_sentences(fine_model, oos_test_sentences)"
   ]
  },
  {
   "cell_type": "code",
   "execution_count": 146,
   "id": "81b9d316-8507-4b86-afdc-a38507ab8bf8",
   "metadata": {},
   "outputs": [
    {
     "data": {
      "text/plain": [
       "array([[-1.1863111 ,  0.08605812,  0.77187866, ..., -0.01427295,\n",
       "        -0.16371396,  0.05548896],\n",
       "       [-0.5211822 , -0.09334413,  0.8267136 , ...,  0.26234072,\n",
       "         0.52932113, -0.09267343],\n",
       "       [-0.63188165, -0.06009592,  0.69428515, ..., -0.26533237,\n",
       "         0.26582038, -0.7362463 ],\n",
       "       ...,\n",
       "       [ 0.20671664,  0.00756379, -0.00494014, ...,  2.1312742 ,\n",
       "         1.0233384 , -0.27835307],\n",
       "       [ 0.98594856, -0.4223319 ,  0.2975854 , ...,  0.86799765,\n",
       "         0.8066172 , -1.3825599 ],\n",
       "       [ 0.6144992 , -0.34527656,  0.43303347, ...,  1.8063234 ,\n",
       "         1.0846337 , -0.8968681 ]], dtype=float32)"
      ]
     },
     "execution_count": 146,
     "metadata": {},
     "output_type": "execute_result"
    }
   ],
   "source": [
    "test_before_fine"
   ]
  },
  {
   "cell_type": "code",
   "execution_count": 147,
   "id": "301a5b48-a503-43e7-9a8b-434d3d7ac56b",
   "metadata": {},
   "outputs": [
    {
     "data": {
      "text/plain": [
       "array([[-1.1863115 ,  0.08605874,  0.77187836, ..., -0.01427282,\n",
       "        -0.16371399,  0.05548866],\n",
       "       [-0.5211803 , -0.09334608,  0.8267141 , ...,  0.26234168,\n",
       "         0.53382564, -0.09267583],\n",
       "       [-0.63188213, -0.06009676,  0.69428617, ..., -0.25283685,\n",
       "         0.2966777 , -0.7362462 ],\n",
       "       ...,\n",
       "       [ 0.20671675,  0.00756329, -0.00494175, ...,  2.1312733 ,\n",
       "         1.0233366 , -0.27835152],\n",
       "       [ 0.98595047, -0.42233205,  0.29758614, ...,  0.8679959 ,\n",
       "         0.834715  , -1.3825599 ],\n",
       "       [ 0.61449903, -0.34527716,  0.43303356, ...,  1.8063253 ,\n",
       "         1.0846331 , -0.8968663 ]], dtype=float32)"
      ]
     },
     "execution_count": 147,
     "metadata": {},
     "output_type": "execute_result"
    }
   ],
   "source": [
    "test_org.numpy()"
   ]
  },
  {
   "cell_type": "code",
   "execution_count": 148,
   "id": "836f237f-b25d-44e6-a22d-bb3a6d7b0c51",
   "metadata": {},
   "outputs": [
    {
     "data": {
      "text/plain": [
       "array([[-0.88121766,  0.2731068 ,  1.0400767 , ...,  0.32587567,\n",
       "         0.06851885,  0.5101776 ],\n",
       "       [-0.30759516, -0.04334819,  0.6329633 , ...,  0.5835096 ,\n",
       "         0.5341097 ,  0.10598278],\n",
       "       [-0.2799603 , -0.12181564,  0.74498224, ...,  0.13242346,\n",
       "         0.23929834, -0.22955611],\n",
       "       ...,\n",
       "       [ 0.4118282 ,  0.26961926,  0.22291513, ...,  2.0088568 ,\n",
       "         1.0610479 ,  0.12144665],\n",
       "       [ 1.1819258 , -0.25352824,  0.586277  , ...,  0.7762213 ,\n",
       "         0.7564488 , -0.8543778 ],\n",
       "       [ 0.7280325 , -0.25385404,  0.5542426 , ...,  1.6419158 ,\n",
       "         1.1163306 , -0.51937383]], dtype=float32)"
      ]
     },
     "execution_count": 148,
     "metadata": {},
     "output_type": "execute_result"
    }
   ],
   "source": [
    "test_rec.numpy()"
   ]
  },
  {
   "cell_type": "code",
   "execution_count": 149,
   "id": "1703d8d5-dbb7-47ab-a3b1-052d7e8dcbb3",
   "metadata": {},
   "outputs": [],
   "source": [
    "test_diffs = torch.mean((test_org - test_rec) ** 2, dim = 1).numpy()\n",
    "oos_test_diffs = torch.mean((oos_test_org - oos_test_rec) ** 2, dim = 1).numpy()"
   ]
  },
  {
   "cell_type": "code",
   "execution_count": 150,
   "id": "25ad446a-9bf0-4850-93fa-56c99dbe35c2",
   "metadata": {},
   "outputs": [],
   "source": [
    "from sklearn.metrics import average_precision_score"
   ]
  },
  {
   "cell_type": "code",
   "execution_count": 151,
   "id": "07795d99-5725-4fed-a1d0-b1bb9dc6af54",
   "metadata": {},
   "outputs": [
    {
     "data": {
      "text/plain": [
       "0.9033584059389044"
      ]
     },
     "execution_count": 151,
     "metadata": {},
     "output_type": "execute_result"
    }
   ],
   "source": [
    "y_true = [0] * len(test_diffs) + [1] * len(oos_test_diffs)\n",
    "\n",
    "# Combine the scores\n",
    "y_scores = list(test_diffs) + list(oos_test_diffs)\n",
    "\n",
    "# Compute AUPR\n",
    "aupr = average_precision_score(y_true, y_scores)\n",
    "aupr"
   ]
  },
  {
   "cell_type": "code",
   "execution_count": 152,
   "id": "d516ed52-b92c-43b4-bb06-6c702640d9a7",
   "metadata": {},
   "outputs": [
    {
     "data": {
      "image/png": "[encoded data removed]",
      "text/plain": [
       "<Figure size 1000x600 with 1 Axes>"
      ]
     },
     "metadata": {},
     "output_type": "display_data"
    }
   ],
   "source": [
    "import matplotlib.pyplot as plt\n",
    "\n",
    "# Set up the figure and axes\n",
    "plt.figure(figsize=(10, 6))\n",
    "\n",
    "# Plot the histograms\n",
    "plt.hist(test_diffs, bins=50, alpha=0.5, label='In-domain')\n",
    "plt.hist(oos_test_diffs, bins=50, alpha=0.5, label='Out-of-domain')\n",
    "\n",
    "# Add legend, title, and labels\n",
    "plt.legend(loc='upper right')\n",
    "plt.title('Distribution of Reconstruction Loss')\n",
    "plt.xlabel('MSE')\n",
    "plt.ylabel('Number of Samples')\n",
    "plt.grid(True, which='both', linestyle='--', linewidth=0.5)\n",
    "plt.tight_layout()\n",
    "\n",
    "# Show the plot\n",
    "plt.show()"
   ]
  },
  {
   "cell_type": "code",
   "execution_count": 153,
   "id": "9a2204f3-07c8-4378-9b1e-eac5390d821d",
   "metadata": {},
   "outputs": [],
   "source": [
    "import pickle"
   ]
  },
  {
   "cell_type": "code",
   "execution_count": 154,
   "id": "14065e27-eecd-426e-8e6d-83ec5363200c",
   "metadata": {},
   "outputs": [],
   "source": [
    "file_name = \"autoencoder_score2.pkl\"\n",
    "with open(file_name, 'wb') as file:\n",
    "    pickle.dump(y_scores, file)"
   ]
  },
  {
   "cell_type": "markdown",
   "id": "d600c543-49d7-4037-a85c-2089d5e24bca",
   "metadata": {},
   "source": [
    "Creating centroid from the reconstructed embeddings and calculate mahalanobis distance ends up to be a little worse than using the reconstruction error directly. The auprs are 0.8405382792501006 and 0.8652350083045975, respectively."
   ]
  },
  {
   "cell_type": "code",
   "execution_count": null,
   "id": "41265c30-8bf8-498b-bb27-2027f9854ff0",
   "metadata": {},
   "outputs": [],
   "source": []
  }
 ],
 "metadata": {
  "kernelspec": {
   "display_name": "Python 3 (ipykernel)",
   "language": "python",
   "name": "python3"
  },
  "language_info": {
   "codemirror_mode": {
    "name": "ipython",
    "version": 3
   },
   "file_extension": ".py",
   "mimetype": "text/x-python",
   "name": "python",
   "nbconvert_exporter": "python",
   "pygments_lexer": "ipython3",
   "version": "3.11.6"
  }
 },
 "nbformat": 4,
 "nbformat_minor": 5
}
