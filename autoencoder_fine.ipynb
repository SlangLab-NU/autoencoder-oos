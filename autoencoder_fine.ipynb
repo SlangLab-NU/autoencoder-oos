{
 "cells": [
  {
   "cell_type": "markdown",
   "id": "1897c26a-1cb2-4ad1-94d3-8cf70b70ee51",
   "metadata": {},
   "source": [
    "# Load Data"
   ]
  },
  {
   "cell_type": "code",
   "execution_count": 430,
   "id": "a3450eef-470e-4540-9c6a-99af76a5e966",
   "metadata": {
    "ExecuteTime": {
     "end_time": "2023-12-01T07:38:04.721661140Z",
     "start_time": "2023-12-01T07:38:03.867605995Z"
    }
   },
   "outputs": [],
   "source": [
    "import json\n",
    "import torch\n",
    "import random\n",
    "from sklearn.preprocessing import LabelEncoder\n",
    "from transformers import AutoModel, AutoTokenizer\n",
    "from torch.utils.data import DataLoader, Dataset\n",
    "from torch import nn\n",
    "import numpy as np\n",
    "from scipy.linalg import inv\n",
    "from torch.optim import Adam"
   ]
  },
  {
   "cell_type": "markdown",
   "id": "31f96c05-0753-42a0-a801-beb4c2aed962",
   "metadata": {},
   "source": [
    "# CLINC150"
   ]
  },
  {
   "cell_type": "code",
   "execution_count": 431,
   "id": "e46987c4-1aba-4b4f-a803-23052ca77f96",
   "metadata": {
    "ExecuteTime": {
     "end_time": "2023-12-01T07:38:04.774005458Z",
     "start_time": "2023-12-01T07:38:04.723166259Z"
    }
   },
   "outputs": [],
   "source": [
    "# Load the dataset\n",
    "with open(\"clinc150_uci/data_full.json\", \"r\") as file:\n",
    "    data = json.load(file)\n",
    "# Extracting data\n",
    "train_data = data['train']\n",
    "val_data = data['val']\n",
    "test_data = data['test']\n",
    "\n",
    "oos_train_data = data['oos_train']\n",
    "oos_val_data = data['oos_val']\n",
    "oos_test_data = data['oos_test']\n",
    "\n",
    "# Get sentences and labels\n",
    "train_sentences = [item[0] for item in train_data]\n",
    "train_labels = [item[1] for item in train_data]\n",
    "\n",
    "val_sentences = [item[0] for item in val_data]\n",
    "val_labels = [item[1] for item in val_data]\n",
    "\n",
    "test_sentences = [item[0] for item in test_data]\n",
    "test_labels = [item[1] for item in test_data]\n",
    "\n",
    "oos_train_sentences = [item[0] for item in oos_train_data]\n",
    "oos_val_sentences = [item[0] for item in oos_val_data]\n",
    "oos_test_sentences = [item[0] for item in oos_test_data]\n"
   ]
  },
  {
   "cell_type": "markdown",
   "id": "42b779be-a7df-4697-ae69-bba69171ac2c",
   "metadata": {},
   "source": [
    "# SLURP"
   ]
  },
  {
   "cell_type": "code",
   "execution_count": 183,
   "id": "d3b414e9-6912-4c60-95f4-7abd2a42d7d5",
   "metadata": {},
   "outputs": [],
   "source": [
    "# def load_data(file_path):\n",
    "#     sentences = []\n",
    "#     scenarios = []\n",
    "#     with open(file_path, 'r') as file:\n",
    "#         for line in file:\n",
    "#             data = json.loads(line)\n",
    "#             sentence = data.get('sentence', None)\n",
    "#             scenario = data.get('scenario', None)\n",
    "#             if sentence is not None and scenario is not None:\n",
    "#                 sentences.append(sentence)\n",
    "#                 scenarios.append(scenario)\n",
    "#     return sentences, scenarios\n",
    "\n",
    "# # Randomly select one domain to be out of scope\n",
    "# unique_scenarios = {'alarm', 'audio', 'calendar', 'cooking', 'datetime', 'email', 'general', 'iot', 'lists', 'music', 'news', 'play', 'qa', 'recommendation', 'social', 'takeaway', 'transport', 'weather'}\n",
    "# oos_scenario = random.choice(list(unique_scenarios))\n",
    "\n",
    "# # Load data from files\n",
    "# train_sentences, train_labels = load_data('slurp/dataset/slurp/train.jsonl')\n",
    "# val_sentences, val_labels = load_data('slurp/dataset/slurp/devel.jsonl')\n",
    "# test_sentences, test_labels = load_data('slurp/dataset/slurp/test.jsonl')\n",
    "\n",
    "# # Separate out of scope data\n",
    "# oos_train_data = [(s, l) for s, l in zip(train_sentences, train_labels) if l == oos_scenario]\n",
    "# oos_val_data = [(s, l) for s, l in zip(val_sentences, val_labels) if l == oos_scenario]\n",
    "# oos_test_data = [(s, l) for s, l in zip(test_sentences, test_labels) if l == oos_scenario]\n",
    "\n",
    "# # Remove out of scope data from original sets\n",
    "# train_data = [(s, l) for s, l in zip(train_sentences, train_labels) if l != oos_scenario]\n",
    "# val_data = [(s, l) for s, l in zip(val_sentences, val_labels) if l != oos_scenario]\n",
    "# test_data = [(s, l) for s, l in zip(test_sentences, test_labels) if l != oos_scenario]\n",
    "\n",
    "# # Extract sentences and labels\n",
    "# train_sentences = [item[0] for item in train_data]\n",
    "# train_labels = [item[1] for item in train_data]\n",
    "\n",
    "# val_sentences = [item[0] for item in val_data]\n",
    "# val_labels = [item[1] for item in val_data]\n",
    "\n",
    "# test_sentences = [item[0] for item in test_data]\n",
    "# test_labels = [item[1] for item in test_data]\n",
    "\n",
    "# oos_train_sentences = [item[0] for item in oos_train_data]\n",
    "# oos_val_sentences = [item[0] for item in oos_val_data]\n",
    "# oos_test_sentences = [item[0] for item in oos_test_data]"
   ]
  },
  {
   "cell_type": "code",
   "execution_count": 432,
   "id": "d591f29e-0d13-49d3-a11f-437e77287057",
   "metadata": {},
   "outputs": [
    {
     "data": {
      "text/plain": [
       "'cooking'"
      ]
     },
     "execution_count": 432,
     "metadata": {},
     "output_type": "execute_result"
    }
   ],
   "source": [
    "oos_scenario"
   ]
  },
  {
   "cell_type": "code",
   "execution_count": 433,
   "id": "1396e6d2-59bb-4c39-9c07-2893365b4c30",
   "metadata": {},
   "outputs": [
    {
     "data": {
      "text/plain": [
       "15000"
      ]
     },
     "execution_count": 433,
     "metadata": {},
     "output_type": "execute_result"
    }
   ],
   "source": [
    "len(train_sentences)"
   ]
  },
  {
   "cell_type": "markdown",
   "id": "9b12dd80-1971-4215-8486-8de1d655d5ed",
   "metadata": {},
   "source": [
    "# Encode Labels"
   ]
  },
  {
   "cell_type": "code",
   "execution_count": 434,
   "id": "92f9dd99-07c9-4e5a-993b-e73dfd0be95b",
   "metadata": {
    "ExecuteTime": {
     "end_time": "2023-12-01T07:38:05.423215976Z",
     "start_time": "2023-12-01T07:38:05.406651396Z"
    }
   },
   "outputs": [],
   "source": [
    "label_encoder = LabelEncoder()\n",
    "# Fit the label encoder and transform labels to integers\n",
    "encoded_train_labels = label_encoder.fit_transform(train_labels)\n",
    "encoded_val_labels = label_encoder.fit_transform(val_labels)"
   ]
  },
  {
   "cell_type": "code",
   "execution_count": 435,
   "id": "db936701-4cfa-4f39-a698-9f93b7f972ec",
   "metadata": {},
   "outputs": [],
   "source": [
    "# This is just for the transfomer model from ce to be loaded\n",
    "class TextClassifier(nn.Module):\n",
    "    def __init__(self, transformer_model, num_labels):\n",
    "        super(TextClassifier, self).__init__()\n",
    "        self.transformer = transformer_model\n",
    "        self.classifier = nn.Linear(self.transformer.config.hidden_size, num_labels)\n",
    "    \n",
    "    def forward(self, input_ids, attention_mask):\n",
    "        # Get the output from the transformer model\n",
    "        transformer_output = self.transformer(input_ids=input_ids, attention_mask=attention_mask)\n",
    "        sentence_embedding = transformer_output.last_hidden_state.max(dim=1).values\n",
    "        # Forward pass through the classifier layer\n",
    "        return self.classifier(sentence_embedding)"
   ]
  },
  {
   "cell_type": "markdown",
   "id": "a38c1c26-f71a-4395-8ef9-01b52c930fdc",
   "metadata": {},
   "source": [
    "# Tokenize our sentences and create Dataloaders"
   ]
  },
  {
   "cell_type": "code",
   "execution_count": 436,
   "id": "2d3db18c-5804-4f09-9f6b-1f3131415fa9",
   "metadata": {
    "ExecuteTime": {
     "end_time": "2023-12-01T07:38:07.327824427Z",
     "start_time": "2023-12-01T07:38:06.135883081Z"
    }
   },
   "outputs": [],
   "source": [
    "pretrained_model_name = \"distilroberta-base\"\n",
    "best_ce_model = torch.load(\"best_ce_model.pth\")\n",
    "tokenizer = AutoTokenizer.from_pretrained(pretrained_model_name)\n",
    "transformer_model = best_ce_model.transformer\n",
    "#transformer_model = AutoModel.from_pretrained(pretrained_model_name)\n"
   ]
  },
  {
   "cell_type": "code",
   "execution_count": 437,
   "id": "1ab67fd0-7073-4495-b464-8ecb4b2b3300",
   "metadata": {},
   "outputs": [
    {
     "name": "stdout",
     "output_type": "stream",
     "text": [
      "Max length for tokenizer: 37\n"
     ]
    }
   ],
   "source": [
    "tokenized_lengths = [len(tokenizer.encode(sentence, add_special_tokens=True)) for sentence in train_sentences]\n",
    "max_length = max(tokenized_lengths)\n",
    "print(f\"Max length for tokenizer: {max_length}\")"
   ]
  },
  {
   "cell_type": "code",
   "execution_count": 438,
   "id": "e9090dc4-fe28-4c23-b21b-5ba229eb8fe0",
   "metadata": {},
   "outputs": [],
   "source": [
    "class TextDataset(Dataset):\n",
    "    def __init__(self, sentences, labels, tokenizer, max_length):\n",
    "        self.encodings = tokenizer(sentences, truncation=True, padding=True, max_length=max_length)\n",
    "        self.labels = labels\n",
    "\n",
    "    def __getitem__(self, idx):\n",
    "        item = {key: torch.tensor(val[idx]) for key, val in self.encodings.items()}\n",
    "        item['labels'] = torch.tensor(self.labels[idx])\n",
    "        return item\n",
    "\n",
    "    def __len__(self):\n",
    "        return len(self.labels)\n",
    "\n",
    "# 2. Create the dataset\n",
    "train_dataset = TextDataset(train_sentences, encoded_train_labels, tokenizer, max_length)\n",
    "val_dataset = TextDataset(val_sentences, encoded_val_labels, tokenizer, max_length)"
   ]
  },
  {
   "cell_type": "markdown",
   "id": "2d137706-db61-4152-80e7-8068e75e381f",
   "metadata": {},
   "source": [
    "# Define functions to encode our sentences"
   ]
  },
  {
   "cell_type": "code",
   "execution_count": 439,
   "id": "2952162c-8da1-4cae-ae22-5eb06fa41ec9",
   "metadata": {
    "ExecuteTime": {
     "end_time": "2023-12-01T07:38:07.931914441Z",
     "start_time": "2023-12-01T07:38:07.768420485Z"
    }
   },
   "outputs": [],
   "source": [
    "transformer_model.eval()\n",
    "device = torch.device(\"cuda\" if torch.cuda.is_available() else \"cpu\")\n",
    "transformer_model = transformer_model.to(device)\n",
    "def encode_sentences(model, sentences):\n",
    "    sentence_embeddings = []\n",
    "\n",
    "    for sentence in sentences:\n",
    "        encoded_input = tokenizer(sentence, return_tensors='pt', truncation=True, padding=True, max_length=max_length)\n",
    "        encoded_input = {k: v.to(device) for k, v in encoded_input.items()}\n",
    "        with torch.no_grad():\n",
    "            model_output = model(**encoded_input)\n",
    "\n",
    "        # Using pooler_output\n",
    "        sentence_embedding = model_output.last_hidden_state.max(dim=1).values\n",
    "        sentence_embeddings.append(sentence_embedding.cpu().numpy())\n",
    "\n",
    "    sentence_embeddings_np = np.concatenate(sentence_embeddings, axis=0)\n",
    "    return sentence_embeddings_np\n"
   ]
  },
  {
   "cell_type": "code",
   "execution_count": 440,
   "id": "86ece297-f93e-424b-9051-147ffa1f7bab",
   "metadata": {},
   "outputs": [],
   "source": [
    "test_before_fine = encode_sentences(transformer_model, test_sentences)\n",
    "oos_test_before_fine = encode_sentences(transformer_model, oos_test_sentences)"
   ]
  },
  {
   "cell_type": "code",
   "execution_count": 441,
   "id": "290d2076-317f-46ea-b662-b4c7ebf2a281",
   "metadata": {},
   "outputs": [
    {
     "data": {
      "text/plain": [
       "array([[-1.1863111 ,  0.08605812,  0.77187866, ..., -0.01427295,\n",
       "        -0.16371396,  0.05548896],\n",
       "       [-0.5211822 , -0.09334413,  0.8267136 , ...,  0.26234072,\n",
       "         0.52932113, -0.09267343],\n",
       "       [-0.63188165, -0.06009592,  0.69428515, ..., -0.26533237,\n",
       "         0.26582038, -0.7362463 ],\n",
       "       ...,\n",
       "       [ 0.20671664,  0.00756379, -0.00494014, ...,  2.1312742 ,\n",
       "         1.0233384 , -0.27835307],\n",
       "       [ 0.98594856, -0.4223319 ,  0.2975854 , ...,  0.86799765,\n",
       "         0.8066172 , -1.3825599 ],\n",
       "       [ 0.6144992 , -0.34527656,  0.43303347, ...,  1.8063234 ,\n",
       "         1.0846337 , -0.8968681 ]], dtype=float32)"
      ]
     },
     "execution_count": 441,
     "metadata": {},
     "output_type": "execute_result"
    }
   ],
   "source": [
    "test_before_fine"
   ]
  },
  {
   "cell_type": "markdown",
   "id": "f5de918d-3a50-4ea9-84d2-8d2d03a0fa4e",
   "metadata": {},
   "source": [
    "# Define our model"
   ]
  },
  {
   "cell_type": "code",
   "execution_count": 458,
   "id": "c586c9a1-9e7c-4fbe-9ff8-087d8bd5f6d4",
   "metadata": {
    "ExecuteTime": {
     "end_time": "2023-12-01T07:38:09.600227529Z",
     "start_time": "2023-12-01T07:38:09.154881377Z"
    }
   },
   "outputs": [],
   "source": [
    "class TextClassifier(nn.Module):\n",
    "    def __init__(self, transformer_model):\n",
    "        super(TextClassifier, self).__init__()\n",
    "        self.transformer = transformer_model\n",
    "        # Freeze transformer parameters\n",
    "        for param in self.transformer.parameters():\n",
    "            param.requires_grad = False\n",
    "        # Encoder layers\n",
    "        self.encoder1 = nn.Linear(768, 512)\n",
    "        self.encoder2 = nn.Linear(512, 64)\n",
    "        self.encoder3 = nn.Linear(64, 16)\n",
    "        # Decoder layers\n",
    "        self.decoder1 = nn.Linear(16, 64)   # Adjusted to match the output of encoder4\n",
    "        self.decoder2 = nn.Linear(64, 512)\n",
    "        self.decoder3 = nn.Linear(512, 768)\n",
    "\n",
    "    def forward(self, input_ids, attention_mask):\n",
    "        # Transformer model output\n",
    "        transformer_output = self.transformer(input_ids=input_ids, attention_mask=attention_mask)\n",
    "        original_embeddings = transformer_output.last_hidden_state.max(dim=1).values\n",
    "\n",
    "        # Autoencoder forward pass\n",
    "        x = nn.functional.tanh(self.encoder1(original_embeddings))\n",
    "        x = nn.functional.tanh(self.encoder2(x))\n",
    "        x = nn.functional.tanh(self.encoder3(x))\n",
    "        \n",
    "        x = nn.functional.tanh(self.decoder1(x))\n",
    "        x = nn.functional.tanh(self.decoder2(x))\n",
    "        reconstructed_embeddings = self.decoder3(x)\n",
    "\n",
    "        return original_embeddings, reconstructed_embeddings\n",
    "\n"
   ]
  },
  {
   "cell_type": "markdown",
   "id": "f1940dba-2be2-43ec-94bc-7680692d2b43",
   "metadata": {},
   "source": [
    "# Define Reconstruction Loss"
   ]
  },
  {
   "cell_type": "code",
   "execution_count": 459,
   "id": "7079e12e-00fe-4fb7-82e2-bfb18be75400",
   "metadata": {
    "ExecuteTime": {
     "end_time": "2023-12-01T07:38:10.756886987Z",
     "start_time": "2023-12-01T07:38:10.755503502Z"
    }
   },
   "outputs": [],
   "source": [
    "class ReconstructionLoss(nn.Module):\n",
    "    def __init__(self):\n",
    "        super(ReconstructionLoss, self).__init__()\n",
    "        self.mse_loss = nn.MSELoss()\n",
    "\n",
    "    def forward(self, original_embeddings, reconstructed_embeddings):\n",
    "        return self.mse_loss(original_embeddings, reconstructed_embeddings)"
   ]
  },
  {
   "cell_type": "code",
   "execution_count": 460,
   "id": "122d1e5e-c984-48e2-8475-7842176d13d4",
   "metadata": {
    "ExecuteTime": {
     "end_time": "2023-12-01T07:38:11.368749731Z",
     "start_time": "2023-12-01T07:38:11.364897164Z"
    }
   },
   "outputs": [],
   "source": [
    "loss_function = ReconstructionLoss()"
   ]
  },
  {
   "cell_type": "markdown",
   "id": "98181737-c127-41a7-beb3-ab66172b9303",
   "metadata": {},
   "source": [
    "# Initiallize everything else we needed"
   ]
  },
  {
   "cell_type": "code",
   "execution_count": 461,
   "id": "c9836c07-b6b3-43e0-adf9-178ebcdcea68",
   "metadata": {
    "ExecuteTime": {
     "end_time": "2023-12-01T07:38:13.263966793Z",
     "start_time": "2023-12-01T07:38:12.771780958Z"
    }
   },
   "outputs": [],
   "source": [
    "unique_intents = list(set(train_labels)) \n",
    "transformer_model.to(device)\n",
    "model = TextClassifier(transformer_model)\n",
    "model.to(device)\n",
    "optimizer = Adam(model.parameters(), lr=6e-4)\n",
    "training_losses = []\n",
    "validation_losses = []\n",
    "batch_size= 128\n",
    "train_dataloader = DataLoader(train_dataset, batch_size=batch_size, shuffle=True)\n",
    "val_dataloader = DataLoader(val_dataset, batch_size=batch_size)"
   ]
  },
  {
   "cell_type": "code",
   "execution_count": 462,
   "id": "ed9508c7-081f-469a-96d2-16461816e58c",
   "metadata": {
    "ExecuteTime": {
     "end_time": "2023-12-01T07:38:13.956536576Z",
     "start_time": "2023-12-01T07:38:13.948457670Z"
    }
   },
   "outputs": [],
   "source": [
    "num_epochs = 50"
   ]
  },
  {
   "cell_type": "markdown",
   "id": "c0c9a636-af8e-4d4c-abb2-fc1370da38a3",
   "metadata": {},
   "source": [
    "# Training Loop!!!"
   ]
  },
  {
   "cell_type": "code",
   "execution_count": 463,
   "id": "903bf045-515e-4c93-999f-136d077d391c",
   "metadata": {
    "ExecuteTime": {
     "end_time": "2023-12-01T07:42:19.550420285Z",
     "start_time": "2023-12-01T07:38:15.626978073Z"
    }
   },
   "outputs": [
    {
     "name": "stdout",
     "output_type": "stream",
     "text": [
      "Epoch 1/50: Lower validation loss found. Model saved.\n",
      "Epoch 1/50, Training Loss: 5.16495e-01, Validation Loss: 6.87153e-01\n",
      "Epoch 2/50: Lower validation loss found. Model saved.\n",
      "Epoch 2/50, Training Loss: 4.35575e-01, Validation Loss: 5.93116e-01\n",
      "Epoch 3/50: Lower validation loss found. Model saved.\n",
      "Epoch 3/50, Training Loss: 3.67915e-01, Validation Loss: 5.21114e-01\n",
      "Epoch 4/50, Training Loss: 3.41330e-01, Validation Loss: 5.24493e-01\n",
      "Epoch 5/50: Lower validation loss found. Model saved.\n",
      "Epoch 5/50, Training Loss: 3.31111e-01, Validation Loss: 5.18044e-01\n",
      "Epoch 6/50: Lower validation loss found. Model saved.\n",
      "Epoch 6/50, Training Loss: 3.20564e-01, Validation Loss: 4.99248e-01\n",
      "Epoch 7/50: Lower validation loss found. Model saved.\n",
      "Epoch 7/50, Training Loss: 2.92029e-01, Validation Loss: 4.51267e-01\n",
      "Epoch 8/50: Lower validation loss found. Model saved.\n",
      "Epoch 8/50, Training Loss: 2.46505e-01, Validation Loss: 4.02516e-01\n",
      "Epoch 9/50: Lower validation loss found. Model saved.\n",
      "Epoch 9/50, Training Loss: 1.99125e-01, Validation Loss: 3.54014e-01\n",
      "Epoch 10/50: Lower validation loss found. Model saved.\n",
      "Epoch 10/50, Training Loss: 1.58862e-01, Validation Loss: 3.14265e-01\n",
      "Epoch 11/50: Lower validation loss found. Model saved.\n",
      "Epoch 11/50, Training Loss: 1.29047e-01, Validation Loss: 2.88781e-01\n",
      "Epoch 12/50: Lower validation loss found. Model saved.\n",
      "Epoch 12/50, Training Loss: 1.08018e-01, Validation Loss: 2.70916e-01\n",
      "Epoch 13/50: Lower validation loss found. Model saved.\n",
      "Epoch 13/50, Training Loss: 9.42331e-02, Validation Loss: 2.58252e-01\n",
      "Epoch 14/50: Lower validation loss found. Model saved.\n",
      "Epoch 14/50, Training Loss: 8.47096e-02, Validation Loss: 2.51049e-01\n",
      "Epoch 15/50: Lower validation loss found. Model saved.\n",
      "Epoch 15/50, Training Loss: 7.92384e-02, Validation Loss: 2.44211e-01\n",
      "Epoch 16/50: Lower validation loss found. Model saved.\n",
      "Epoch 16/50, Training Loss: 7.52777e-02, Validation Loss: 2.40148e-01\n",
      "Epoch 17/50: Lower validation loss found. Model saved.\n",
      "Epoch 17/50, Training Loss: 7.27058e-02, Validation Loss: 2.38695e-01\n",
      "Epoch 18/50: Lower validation loss found. Model saved.\n",
      "Epoch 18/50, Training Loss: 7.13029e-02, Validation Loss: 2.35067e-01\n",
      "Epoch 19/50: Lower validation loss found. Model saved.\n",
      "Epoch 19/50, Training Loss: 6.94867e-02, Validation Loss: 2.33836e-01\n",
      "Epoch 20/50: Lower validation loss found. Model saved.\n",
      "Epoch 20/50, Training Loss: 6.84001e-02, Validation Loss: 2.31911e-01\n",
      "Epoch 21/50: Lower validation loss found. Model saved.\n",
      "Epoch 21/50, Training Loss: 6.73803e-02, Validation Loss: 2.31229e-01\n",
      "Epoch 22/50, Training Loss: 6.67230e-02, Validation Loss: 2.31767e-01\n",
      "Epoch 23/50: Lower validation loss found. Model saved.\n",
      "Epoch 23/50, Training Loss: 6.61519e-02, Validation Loss: 2.28515e-01\n",
      "Epoch 24/50, Training Loss: 6.55005e-02, Validation Loss: 2.29476e-01\n",
      "Epoch 25/50: Lower validation loss found. Model saved.\n",
      "Epoch 25/50, Training Loss: 6.53882e-02, Validation Loss: 2.26897e-01\n",
      "Epoch 26/50: Lower validation loss found. Model saved.\n",
      "Epoch 26/50, Training Loss: 6.48873e-02, Validation Loss: 2.24868e-01\n",
      "Epoch 27/50: Lower validation loss found. Model saved.\n",
      "Epoch 27/50, Training Loss: 6.45644e-02, Validation Loss: 2.24211e-01\n",
      "Epoch 28/50: Lower validation loss found. Model saved.\n",
      "Epoch 28/50, Training Loss: 6.39574e-02, Validation Loss: 2.23059e-01\n",
      "Epoch 29/50, Training Loss: 6.35708e-02, Validation Loss: 2.23425e-01\n",
      "Epoch 30/50, Training Loss: 6.33170e-02, Validation Loss: 2.23668e-01\n",
      "Epoch 31/50: Lower validation loss found. Model saved.\n",
      "Epoch 31/50, Training Loss: 6.32119e-02, Validation Loss: 2.21469e-01\n",
      "Epoch 32/50: Lower validation loss found. Model saved.\n",
      "Epoch 32/50, Training Loss: 6.29892e-02, Validation Loss: 2.20612e-01\n",
      "Epoch 33/50: Lower validation loss found. Model saved.\n",
      "Epoch 33/50, Training Loss: 6.27937e-02, Validation Loss: 2.20435e-01\n",
      "Epoch 34/50, Training Loss: 6.23070e-02, Validation Loss: 2.21463e-01\n",
      "Epoch 35/50, Training Loss: 6.24854e-02, Validation Loss: 2.20582e-01\n",
      "Epoch 36/50: Lower validation loss found. Model saved.\n",
      "Epoch 36/50, Training Loss: 6.19417e-02, Validation Loss: 2.17755e-01\n",
      "Epoch 37/50, Training Loss: 6.16178e-02, Validation Loss: 2.20038e-01\n",
      "Epoch 38/50, Training Loss: 6.16748e-02, Validation Loss: 2.18875e-01\n",
      "Epoch 39/50: Lower validation loss found. Model saved.\n",
      "Epoch 39/50, Training Loss: 6.15508e-02, Validation Loss: 2.17667e-01\n",
      "Epoch 40/50, Training Loss: 6.10292e-02, Validation Loss: 2.18161e-01\n",
      "Epoch 41/50: Lower validation loss found. Model saved.\n",
      "Epoch 41/50, Training Loss: 6.09146e-02, Validation Loss: 2.17191e-01\n",
      "Epoch 42/50, Training Loss: 6.09209e-02, Validation Loss: 2.17409e-01\n",
      "Epoch 43/50: Lower validation loss found. Model saved.\n",
      "Epoch 43/50, Training Loss: 6.06458e-02, Validation Loss: 2.14498e-01\n",
      "Epoch 44/50, Training Loss: 6.04383e-02, Validation Loss: 2.16130e-01\n",
      "Epoch 45/50, Training Loss: 6.03906e-02, Validation Loss: 2.16310e-01\n",
      "Epoch 46/50, Training Loss: 5.99659e-02, Validation Loss: 2.15005e-01\n",
      "Epoch 47/50: Lower validation loss found. Model saved.\n",
      "Epoch 47/50, Training Loss: 5.97381e-02, Validation Loss: 2.14456e-01\n",
      "Epoch 48/50: Lower validation loss found. Model saved.\n",
      "Epoch 48/50, Training Loss: 5.98821e-02, Validation Loss: 2.13259e-01\n",
      "Epoch 49/50, Training Loss: 5.98338e-02, Validation Loss: 2.14075e-01\n",
      "Epoch 50/50, Training Loss: 5.94137e-02, Validation Loss: 2.13951e-01\n"
     ]
    }
   ],
   "source": [
    "best_val_loss = float('inf')\n",
    "for epoch in range(num_epochs):\n",
    "    # Training Phase\n",
    "    model.train()  # Set the model to training mode\n",
    "    total_train_loss = 0\n",
    "    for batch in train_dataloader:\n",
    "        input_ids, attention_mask, labels = batch['input_ids'].to(device), batch['attention_mask'].to(device), batch['labels'].to(device)\n",
    "        optimizer.zero_grad()  # Zero the gradients\n",
    "        original_embeddings, reconstructed_embeddings = model(input_ids, attention_mask)\n",
    "        loss = loss_function(original_embeddings, reconstructed_embeddings)\n",
    "        loss.backward()  # Backward pass\n",
    "        optimizer.step()  # Update weights\n",
    "\n",
    "        total_train_loss += loss.item()\n",
    "    \n",
    "    avg_train_loss = total_train_loss / len(train_dataloader)\n",
    "    training_losses.append(avg_train_loss) \n",
    "\n",
    "    # Validation Phase\n",
    "    model.eval()  # Set the model to evaluation mode\n",
    "    total_val_loss = 0\n",
    "    with torch.no_grad():  # Disable gradient calculations\n",
    "        for batch in val_dataloader:\n",
    "            input_ids, attention_mask, labels = batch['input_ids'].to(device), batch['attention_mask'].to(device), batch['labels'].to(device)\n",
    "            original_embeddings, reconstructed_embeddings = model(input_ids, attention_mask)\n",
    "            loss = loss_function(original_embeddings, reconstructed_embeddings)  # Compute loss\n",
    "            total_val_loss += loss.item()\n",
    "    avg_val_loss = total_val_loss / len(val_dataloader)\n",
    "    if avg_val_loss < best_val_loss:\n",
    "        best_val_loss = avg_val_loss\n",
    "        # Save the model\n",
    "        torch.save(model, 'best_autoencoder_model.pth')\n",
    "        print(f\"Epoch {epoch+1}/{num_epochs}: Lower validation loss found. Model saved.\")\n",
    "    validation_losses.append(avg_val_loss)\n",
    "    print(f\"Epoch {epoch+1}/{num_epochs}, Training Loss: {avg_train_loss:.5e}, Validation Loss: {avg_val_loss:.5e}\")"
   ]
  },
  {
   "cell_type": "markdown",
   "id": "a7e32293-8028-4ebe-8a10-3fc012782ad1",
   "metadata": {},
   "source": [
    "# Calculate means and covariance matrix"
   ]
  },
  {
   "cell_type": "code",
   "execution_count": 464,
   "id": "eba64b40-f47d-4a2b-9fe6-3839dc18890e",
   "metadata": {
    "ExecuteTime": {
     "end_time": "2023-12-01T07:42:27.299616993Z",
     "start_time": "2023-12-01T07:42:27.186388460Z"
    }
   },
   "outputs": [],
   "source": [
    "fine_model = torch.load(\"best_autoencoder_model.pth\")\n",
    "fine_model.eval()  # Put the model in evaluation mode\n",
    "fine_model = fine_model.to(device)"
   ]
  },
  {
   "cell_type": "code",
   "execution_count": 465,
   "id": "cab109d7d077e530",
   "metadata": {
    "ExecuteTime": {
     "end_time": "2023-12-01T07:42:27.735028721Z",
     "start_time": "2023-12-01T07:42:27.728227844Z"
    },
    "collapsed": false,
    "jupyter": {
     "outputs_hidden": false
    }
   },
   "outputs": [],
   "source": [
    "def encode_sentences(model, sentences):\n",
    "    # the mode here is TextClassifier\n",
    "\n",
    "    encoded_inputs = tokenizer(sentences, padding=True, truncation=True, return_tensors='pt', \n",
    "                               max_length=max_length)\n",
    "    input_ids = encoded_inputs['input_ids'].to(device)\n",
    "    attention_mask = encoded_inputs['attention_mask'].to(device)\n",
    "    with torch.no_grad():\n",
    "        model.eval()  # Ensure the model is in evaluation mode\n",
    "        original_embeddings, reconstructed_embeddings = model(input_ids, attention_mask)\n",
    "    return original_embeddings.cpu(), reconstructed_embeddings.cpu()"
   ]
  },
  {
   "cell_type": "code",
   "execution_count": 466,
   "id": "d313cc44-0e2c-4851-88c1-147dd23ac09e",
   "metadata": {
    "ExecuteTime": {
     "end_time": "2023-12-01T07:42:29.631025780Z",
     "start_time": "2023-12-01T07:42:28.516869555Z"
    }
   },
   "outputs": [],
   "source": [
    "test_org, test_rec = encode_sentences(fine_model, test_sentences)\n",
    "oos_test_org, oos_test_rec = encode_sentences(fine_model, oos_test_sentences)"
   ]
  },
  {
   "cell_type": "code",
   "execution_count": 467,
   "id": "81b9d316-8507-4b86-afdc-a38507ab8bf8",
   "metadata": {},
   "outputs": [
    {
     "data": {
      "text/plain": [
       "array([[-1.1863111 ,  0.08605812,  0.77187866, ..., -0.01427295,\n",
       "        -0.16371396,  0.05548896],\n",
       "       [-0.5211822 , -0.09334413,  0.8267136 , ...,  0.26234072,\n",
       "         0.52932113, -0.09267343],\n",
       "       [-0.63188165, -0.06009592,  0.69428515, ..., -0.26533237,\n",
       "         0.26582038, -0.7362463 ],\n",
       "       ...,\n",
       "       [ 0.20671664,  0.00756379, -0.00494014, ...,  2.1312742 ,\n",
       "         1.0233384 , -0.27835307],\n",
       "       [ 0.98594856, -0.4223319 ,  0.2975854 , ...,  0.86799765,\n",
       "         0.8066172 , -1.3825599 ],\n",
       "       [ 0.6144992 , -0.34527656,  0.43303347, ...,  1.8063234 ,\n",
       "         1.0846337 , -0.8968681 ]], dtype=float32)"
      ]
     },
     "execution_count": 467,
     "metadata": {},
     "output_type": "execute_result"
    }
   ],
   "source": [
    "test_before_fine"
   ]
  },
  {
   "cell_type": "code",
   "execution_count": 468,
   "id": "301a5b48-a503-43e7-9a8b-434d3d7ac56b",
   "metadata": {},
   "outputs": [
    {
     "data": {
      "text/plain": [
       "array([[-1.1863115 ,  0.08605874,  0.77187836, ..., -0.01427282,\n",
       "        -0.16371399,  0.05548866],\n",
       "       [-0.5211803 , -0.09334608,  0.8267141 , ...,  0.26234168,\n",
       "         0.53382564, -0.09267583],\n",
       "       [-0.63188213, -0.06009676,  0.69428617, ..., -0.25283685,\n",
       "         0.2966777 , -0.7362462 ],\n",
       "       ...,\n",
       "       [ 0.20671675,  0.00756329, -0.00494175, ...,  2.1312733 ,\n",
       "         1.0233366 , -0.27835152],\n",
       "       [ 0.98595047, -0.42233205,  0.29758614, ...,  0.8679959 ,\n",
       "         0.834715  , -1.3825599 ],\n",
       "       [ 0.61449903, -0.34527716,  0.43303356, ...,  1.8063253 ,\n",
       "         1.0846331 , -0.8968663 ]], dtype=float32)"
      ]
     },
     "execution_count": 468,
     "metadata": {},
     "output_type": "execute_result"
    }
   ],
   "source": [
    "test_org.numpy()"
   ]
  },
  {
   "cell_type": "code",
   "execution_count": 469,
   "id": "836f237f-b25d-44e6-a22d-bb3a6d7b0c51",
   "metadata": {},
   "outputs": [
    {
     "data": {
      "text/plain": [
       "array([[-0.29953805,  0.378903  ,  0.86459213, ...,  0.9412545 ,\n",
       "         0.35786414,  0.8235915 ],\n",
       "       [-0.3068606 ,  0.28020528,  0.6204778 , ...,  0.8333515 ,\n",
       "         0.79897517,  0.7224753 ],\n",
       "       [-0.1851591 ,  0.08145458,  0.6443002 , ...,  0.9489276 ,\n",
       "         0.7185551 ,  0.65250015],\n",
       "       ...,\n",
       "       [ 0.7831307 ,  0.24164021,  0.27391827, ...,  2.0469232 ,\n",
       "         1.1446915 ,  0.09738335],\n",
       "       [ 1.2075821 , -0.20253697,  0.74948066, ...,  0.5874559 ,\n",
       "         0.8074708 , -0.48883897],\n",
       "       [ 0.89653623,  0.23955896,  0.46326566, ...,  1.7871441 ,\n",
       "         1.0427245 , -0.16258667]], dtype=float32)"
      ]
     },
     "execution_count": 469,
     "metadata": {},
     "output_type": "execute_result"
    }
   ],
   "source": [
    "test_rec.numpy()"
   ]
  },
  {
   "cell_type": "code",
   "execution_count": 474,
   "id": "93aa35d8-4b79-46e6-b997-9e3316d39016",
   "metadata": {},
   "outputs": [],
   "source": [
    "_, rec_train_embeddings = encode_sentences(fine_model, train_sentences)"
   ]
  },
  {
   "cell_type": "code",
   "execution_count": 479,
   "id": "7fc2ed11-87ca-4fce-b697-d0996d5e0543",
   "metadata": {},
   "outputs": [],
   "source": [
    "rec_train_embeddings = rec_train_embeddings.cpu().numpy()"
   ]
  },
  {
   "cell_type": "code",
   "execution_count": 481,
   "id": "0836112e-d116-4eed-a0bb-6a43c3723570",
   "metadata": {},
   "outputs": [],
   "source": [
    "intent_means = {}\n",
    "for encoded_label in np.unique(encoded_train_labels):\n",
    "    # Find indices where the encoded label matches\n",
    "    indices = np.where(encoded_train_labels == encoded_label)[0]\n",
    "    \n",
    "    # Calculate the mean embedding for the current intent\n",
    "    intent_embeddings = rec_train_embeddings[indices]\n",
    "    intent_mean = np.mean(intent_embeddings, axis=0)\n",
    "    \n",
    "    # Use the encoded label as the dictionary key\n",
    "    intent_means[encoded_label] = intent_mean"
   ]
  },
  {
   "cell_type": "code",
   "execution_count": 484,
   "id": "d9c728f4-6253-4c46-9da8-11067b8adc4a",
   "metadata": {},
   "outputs": [],
   "source": [
    "covariance = np.cov(rec_train_embeddings, rowvar=False)\n",
    "cov_inverse = inv(covariance)"
   ]
  },
  {
   "cell_type": "code",
   "execution_count": 511,
   "id": "1daaea28-5f3a-478c-a455-91473c853fe3",
   "metadata": {},
   "outputs": [],
   "source": [
    "_, test_embeddings = encode_sentences(fine_model, test_sentences)\n",
    "_, oos_test_embeddings = encode_sentences(fine_model, oos_test_sentences)"
   ]
  },
  {
   "cell_type": "code",
   "execution_count": 505,
   "id": "80014ffa-fff8-442e-951c-ffd60be9dcd2",
   "metadata": {},
   "outputs": [
    {
     "data": {
      "text/plain": [
       "tensor([[ 0.7005, -0.1361,  0.2958,  ...,  0.7713,  0.1300,  0.0889],\n",
       "        [ 0.4112,  0.4625,  0.1947,  ...,  1.7657,  0.6515,  0.3072],\n",
       "        [ 0.0993,  0.7083,  0.9680,  ...,  1.3025,  0.5924,  0.9879],\n",
       "        ...,\n",
       "        [ 0.2169, -0.0192,  0.8691,  ...,  0.0672,  0.6881,  0.9342],\n",
       "        [ 0.1445, -0.2584,  0.2794,  ...,  0.5123,  0.0382, -0.4849],\n",
       "        [ 0.0082,  0.2749,  0.7509,  ...,  0.3162,  0.1200, -0.0799]])"
      ]
     },
     "execution_count": 505,
     "metadata": {},
     "output_type": "execute_result"
    }
   ],
   "source": [
    "oos_train_embeddings"
   ]
  },
  {
   "cell_type": "code",
   "execution_count": 512,
   "id": "57ff5489-f2aa-4c7b-a6d1-ddea0363f0d3",
   "metadata": {},
   "outputs": [],
   "source": [
    "test_embeddings = test_embeddings.cpu().numpy()\n",
    "oos_test_embeddings = oos_test_embeddings.cpu().numpy()"
   ]
  },
  {
   "cell_type": "code",
   "execution_count": 513,
   "id": "0e1151f2-9ddb-4ddd-be2d-c9a85ea56d42",
   "metadata": {},
   "outputs": [],
   "source": [
    "from sklearn.metrics import roc_auc_score, average_precision_score, roc_curve\n",
    "from scipy.spatial import distance\n",
    "from sklearn.metrics import average_precision_score"
   ]
  },
  {
   "cell_type": "code",
   "execution_count": 514,
   "id": "192bd295-9a62-4e37-b5e1-fcbbb6f2dec9",
   "metadata": {},
   "outputs": [],
   "source": [
    "def min_mahalanobis_for_sample(sample, intent_means, cov_inverse):\n",
    "    distances = [distance.mahalanobis(sample, mean, cov_inverse) for mean in intent_means.values()]\n",
    "    return min(distances)"
   ]
  },
  {
   "cell_type": "code",
   "execution_count": 515,
   "id": "f3fa6fd7-a0f1-41af-8a45-7b5d68245677",
   "metadata": {},
   "outputs": [
    {
     "data": {
      "text/plain": [
       "0.8405382792501006"
      ]
     },
     "execution_count": 515,
     "metadata": {},
     "output_type": "execute_result"
    }
   ],
   "source": [
    "# Compute minimum Mahalanobis distances for samples in test_embeddings and oos_test_embeddings\n",
    "test_scores = [min_mahalanobis_for_sample(sample, intent_means, cov_inverse) for sample in test_embeddings]\n",
    "oos_test_scores = [min_mahalanobis_for_sample(sample, intent_means, cov_inverse) for sample in oos_test_embeddings]\n",
    "\n",
    "# True binary labels: 0 for in-domain and 1 for OOD\n",
    "y_true = [0] * len(test_scores) + [1] * len(oos_test_scores)\n",
    "\n",
    "# Combine the scores\n",
    "y_scores = test_scores + oos_test_scores\n",
    "\n",
    "# Compute AUPR\n",
    "aupr = average_precision_score(y_true, y_scores)\n",
    "aupr"
   ]
  },
  {
   "cell_type": "code",
   "execution_count": 516,
   "id": "0b5bf5ab-e718-4a7a-a710-5512372b069f",
   "metadata": {
    "ExecuteTime": {
     "end_time": "2023-12-01T06:16:37.534713642Z",
     "start_time": "2023-12-01T06:16:37.249316569Z"
    }
   },
   "outputs": [
    {
     "data": {
      "image/png": "[encoded data removed]",
      "text/plain": [
       "<Figure size 1000x600 with 1 Axes>"
      ]
     },
     "metadata": {},
     "output_type": "display_data"
    }
   ],
   "source": [
    "import matplotlib.pyplot as plt\n",
    "\n",
    "# Set up the figure and axes\n",
    "plt.figure(figsize=(10, 6))\n",
    "\n",
    "# Plot the histograms\n",
    "plt.hist(test_scores, bins=50, alpha=0.5, label='In-domain')\n",
    "plt.hist(oos_test_scores, bins=50, alpha=0.5, label='Out-of-domain')\n",
    "\n",
    "# Add legend, title, and labels\n",
    "plt.legend(loc='upper right')\n",
    "plt.title('Distribution of Minimum Mahalanobis Distances')\n",
    "plt.xlabel('Mahalanobis Distance')\n",
    "plt.ylabel('Number of Samples')\n",
    "plt.grid(True, which='both', linestyle='--', linewidth=0.5)\n",
    "plt.tight_layout()\n",
    "\n",
    "# Show the plot\n",
    "plt.show()\n"
   ]
  },
  {
   "cell_type": "code",
   "execution_count": 470,
   "id": "1703d8d5-dbb7-47ab-a3b1-052d7e8dcbb3",
   "metadata": {},
   "outputs": [],
   "source": [
    "test_diffs = torch.mean((test_org - test_rec) ** 2, dim = 1).numpy()\n",
    "oos_test_diffs = torch.mean((oos_test_org - oos_test_rec) ** 2, dim = 1).numpy()"
   ]
  },
  {
   "cell_type": "code",
   "execution_count": 472,
   "id": "25ad446a-9bf0-4850-93fa-56c99dbe35c2",
   "metadata": {},
   "outputs": [],
   "source": [
    "from sklearn.metrics import average_precision_score"
   ]
  },
  {
   "cell_type": "code",
   "execution_count": 517,
   "id": "07795d99-5725-4fed-a1d0-b1bb9dc6af54",
   "metadata": {},
   "outputs": [
    {
     "data": {
      "text/plain": [
       "0.8652350083045975"
      ]
     },
     "execution_count": 517,
     "metadata": {},
     "output_type": "execute_result"
    }
   ],
   "source": [
    "y_true = [0] * len(test_diffs) + [1] * len(oos_test_diffs)\n",
    "\n",
    "# Combine the scores\n",
    "y_scores = list(test_diffs) + list(oos_test_diffs)\n",
    "\n",
    "# Compute AUPR\n",
    "aupr = average_precision_score(y_true, y_scores)\n",
    "aupr"
   ]
  },
  {
   "cell_type": "markdown",
   "id": "d600c543-49d7-4037-a85c-2089d5e24bca",
   "metadata": {},
   "source": [
    "Creating centroid from the reconstructed embeddings and calculate mahalanobis distance ends up to be a little worse than using the reconstruction error directly. The auprs are 0.8405382792501006 and 0.8652350083045975, respectively."
   ]
  },
  {
   "cell_type": "code",
   "execution_count": null,
   "id": "41265c30-8bf8-498b-bb27-2027f9854ff0",
   "metadata": {},
   "outputs": [],
   "source": []
  }
 ],
 "metadata": {
  "kernelspec": {
   "display_name": "Python 3 (ipykernel)",
   "language": "python",
   "name": "python3"
  },
  "language_info": {
   "codemirror_mode": {
    "name": "ipython",
    "version": 3
   },
   "file_extension": ".py",
   "mimetype": "text/x-python",
   "name": "python",
   "nbconvert_exporter": "python",
   "pygments_lexer": "ipython3",
   "version": "3.11.6"
  }
 },
 "nbformat": 4,
 "nbformat_minor": 5
}
